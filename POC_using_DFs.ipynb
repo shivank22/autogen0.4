{
 "cells": [
  {
   "cell_type": "code",
   "execution_count": 20,
   "metadata": {},
   "outputs": [],
   "source": [
    "from dotenv import load_dotenv\n",
    "load_dotenv()\n",
    "import pandas as pd\n",
    "from autogen_ext.tools.langchain import LangChainToolAdapter\n",
    "from langchain_experimental.tools.python.tool import PythonAstREPLTool\n",
    "from autogen_ext.models.openai import OpenAIChatCompletionClient\n",
    "from autogen_agentchat.agents import AssistantAgent\n",
    "from autogen_agentchat.ui import Console\n",
    "from autogen_agentchat.messages import TextMessage\n",
    "from autogen_core import CancellationToken\n",
    "import gradio as gr\n"
   ]
  },
  {
   "cell_type": "code",
   "execution_count": 27,
   "metadata": {},
   "outputs": [
    {
     "name": "stderr",
     "output_type": "stream",
     "text": [
      "/var/folders/p0/j24845kj1qs3ncsrk58vfq880000gn/T/ipykernel_17619/2699700280.py:1: FutureWarning: The argument 'date_parser' is deprecated and will be removed in a future version. Please use 'date_format' instead, or read your data in as 'object' dtype and then call 'to_datetime'.\n",
      "  df = pd.read_csv(\"vm_data.csv\", parse_dates=['KN_SNC_DT', 'Decom_date'], date_parser=lambda x: pd.to_datetime(x, format=\"%Y%m%d\", errors='coerce'))\n"
     ]
    }
   ],
   "source": [
    "df = pd.read_csv(\"vm_data.csv\", parse_dates=['KN_SNC_DT', 'Decom_date'], date_parser=lambda x: pd.to_datetime(x, format=\"%Y%m%d\", errors='coerce'))\n",
    "\n",
    "ReadDataSet = LangChainToolAdapter(PythonAstREPLTool(locals={\"df\": df}))\n",
    "model_client = OpenAIChatCompletionClient(model=\"gpt-4o-mini\")\n",
    "\n",
    "\n",
    "DataLoaderAgent = AssistantAgent(\n",
    "    \"assistant\", tools=[ReadDataSet], model_client=model_client,system_message= \"\"\"Use the `df` variable to access the dataset.\n",
    "    Below data is metadata for df this data belongs to AppBrewery.\n",
    "    Below is the description of df dataset.\n",
    "    1. VMNAME -> Name of the virtual machine.\n",
    "    2. State -> Indicates whether the VM is ON or OFF.\n",
    "    3. Status -> Describes the VM's condition (Normal or Special).\n",
    "    4. Host -> The physical server hosting the VM.\n",
    "    5. Cluster -> The group of hosts managing the VM.\n",
    "    6. Provisioned_Space -> Total storage allocated to the VM.\n",
    "    7. Used_Space -> Storage currently used by the VM.\n",
    "    8. HostCPU -> CPU allocation on the host machine.\n",
    "    9. HostMem -> Memory allocated to the VM.\n",
    "    10. KN_SNC_DT -> Known since date of the VM record.\n",
    "    11. Decom_date -> Planned decommissioning date of the VM.\n",
    "    \"\"\"\n",
    ")"
   ]
  },
  {
   "cell_type": "code",
   "execution_count": 28,
   "metadata": {},
   "outputs": [],
   "source": [
    "response = await(\n",
    "    DataLoaderAgent.on_messages(\n",
    "        [TextMessage(content=\"What's the Trend for decomission date of VMs? Reply only in increasing or decreasing?\", source=\"user\")], CancellationToken()\n",
    "    ))"
   ]
  },
  {
   "cell_type": "code",
   "execution_count": 32,
   "metadata": {},
   "outputs": [
    {
     "data": {
      "text/plain": [
       "\"NameError: name 'pd' is not defined\""
      ]
     },
     "execution_count": 32,
     "metadata": {},
     "output_type": "execute_result"
    }
   ],
   "source": [
    "response.chat_message.content"
   ]
  },
  {
   "cell_type": "code",
   "execution_count": 30,
   "metadata": {},
   "outputs": [],
   "source": [
    "\n",
    "import asyncio\n",
    "\n",
    "def chat(question, history):\n",
    "    response =  asyncio.run(\n",
    "    DataLoaderAgent.on_messages(\n",
    "        [TextMessage(content=question, source=\"user\")], CancellationToken()\n",
    "    ))\n",
    "    return response.chat_message.content"
   ]
  },
  {
   "cell_type": "code",
   "execution_count": 31,
   "metadata": {},
   "outputs": [
    {
     "name": "stdout",
     "output_type": "stream",
     "text": [
      "* Running on local URL:  http://127.0.0.1:7865\n",
      "\n",
      "To create a public link, set `share=True` in `launch()`.\n"
     ]
    },
    {
     "data": {
      "text/html": [
       "<div><iframe src=\"http://127.0.0.1:7865/\" width=\"100%\" height=\"500\" allow=\"autoplay; camera; microphone; clipboard-read; clipboard-write;\" frameborder=\"0\" allowfullscreen></iframe></div>"
      ],
      "text/plain": [
       "<IPython.core.display.HTML object>"
      ]
     },
     "metadata": {},
     "output_type": "display_data"
    }
   ],
   "source": [
    "view = gr.ChatInterface(chat, type=\"messages\").launch(inbrowser=True)"
   ]
  },
  {
   "cell_type": "code",
   "execution_count": null,
   "metadata": {},
   "outputs": [],
   "source": [
    "await(Console(\n",
    "    DataLoaderAgent.on_messages_stream(\n",
    "        [TextMessage(content=\"What's the Trend for decomission date of VMs? Reply only in increasing or decreasing?\", source=\"user\")], CancellationToken()\n",
    "    )\n",
    "))"
   ]
  },
  {
   "cell_type": "code",
   "execution_count": 10,
   "metadata": {},
   "outputs": [
    {
     "name": "stdout",
     "output_type": "stream",
     "text": [
      "---------- assistant ----------\n",
      "[FunctionCall(id='call_D6ykPO4xpzJx4e4WkiXsI8uD', arguments='{\"query\":\"vm_count_eapsipvxt9753 = df[df[\\'Cluster\\'] == \\'EAPSIPVXT9753\\'].shape[0]\\\\nvm_count_eapsipvxt9753\"}', name='python_repl_ast')]\n",
      "---------- assistant ----------\n",
      "[FunctionExecutionResult(content='38', call_id='call_D6ykPO4xpzJx4e4WkiXsI8uD')]\n",
      "---------- assistant ----------\n",
      "38\n"
     ]
    },
    {
     "data": {
      "text/plain": [
       "Response(chat_message=ToolCallSummaryMessage(source='assistant', models_usage=None, content='38', type='ToolCallSummaryMessage'), inner_messages=[ToolCallRequestEvent(source='assistant', models_usage=RequestUsage(prompt_tokens=453, completion_tokens=53), content=[FunctionCall(id='call_D6ykPO4xpzJx4e4WkiXsI8uD', arguments='{\"query\":\"vm_count_eapsipvxt9753 = df[df[\\'Cluster\\'] == \\'EAPSIPVXT9753\\'].shape[0]\\\\nvm_count_eapsipvxt9753\"}', name='python_repl_ast')], type='ToolCallRequestEvent'), ToolCallExecutionEvent(source='assistant', models_usage=None, content=[FunctionExecutionResult(content='38', call_id='call_D6ykPO4xpzJx4e4WkiXsI8uD')], type='ToolCallExecutionEvent')])"
      ]
     },
     "execution_count": 10,
     "metadata": {},
     "output_type": "execute_result"
    }
   ],
   "source": [
    "await(Console(\n",
    "    DataLoaderAgent.on_messages_stream(\n",
    "        [TextMessage(content=\"How many VMs under cluster EAPSIPVXT9753\", source=\"user\")], CancellationToken()\n",
    "    )\n",
    "))"
   ]
  },
  {
   "cell_type": "code",
   "execution_count": 11,
   "metadata": {},
   "outputs": [
    {
     "name": "stdout",
     "output_type": "stream",
     "text": [
      "---------- assistant ----------\n",
      "[FunctionCall(id='call_vXc2qmza8J7SE0CLvD2Nvq6e', arguments='{\"query\":\"import datetime\\\\n\\\\n# Current year\\\\ncurrent_year = datetime.datetime.now().year\\\\n\\\\n# Filter VMs with Decom_date until February this year\\\\ncount_decom_feb = df[(df[\\'Decom_date\\'] <= datetime.datetime(current_year, 2, 28))].shape[0]\\\\ncount_decom_feb\"}', name='python_repl_ast')]\n",
      "---------- assistant ----------\n",
      "[FunctionExecutionResult(content='28', call_id='call_vXc2qmza8J7SE0CLvD2Nvq6e')]\n",
      "---------- assistant ----------\n",
      "28\n"
     ]
    },
    {
     "data": {
      "text/plain": [
       "Response(chat_message=ToolCallSummaryMessage(source='assistant', models_usage=None, content='28', type='ToolCallSummaryMessage'), inner_messages=[ToolCallRequestEvent(source='assistant', models_usage=RequestUsage(prompt_tokens=538, completion_tokens=84), content=[FunctionCall(id='call_vXc2qmza8J7SE0CLvD2Nvq6e', arguments='{\"query\":\"import datetime\\\\n\\\\n# Current year\\\\ncurrent_year = datetime.datetime.now().year\\\\n\\\\n# Filter VMs with Decom_date until February this year\\\\ncount_decom_feb = df[(df[\\'Decom_date\\'] <= datetime.datetime(current_year, 2, 28))].shape[0]\\\\ncount_decom_feb\"}', name='python_repl_ast')], type='ToolCallRequestEvent'), ToolCallExecutionEvent(source='assistant', models_usage=None, content=[FunctionExecutionResult(content='28', call_id='call_vXc2qmza8J7SE0CLvD2Nvq6e')], type='ToolCallExecutionEvent')])"
      ]
     },
     "execution_count": 11,
     "metadata": {},
     "output_type": "execute_result"
    }
   ],
   "source": [
    "await(Console(\n",
    "    DataLoaderAgent.on_messages_stream(\n",
    "        [TextMessage(content=\"How many VMs will be decomissioned by february this year?\", source=\"user\")], CancellationToken()\n",
    "    )\n",
    "))"
   ]
  },
  {
   "cell_type": "code",
   "execution_count": null,
   "metadata": {},
   "outputs": [],
   "source": [
    "\n",
    "def chat(question, history):\n",
    "    response =  asyncio.run(\n",
    "    assistant_agent.on_messages(\n",
    "        [TextMessage(content=question, source=\"user\")], CancellationToken()\n",
    "    ))\n",
    "    return response.chat_message.content\n",
    "    if isinstance(response.chat_message.content, dict):\n",
    "        return response.chat_message.content.get(\"answer\")\n",
    "        return response.chat_message.content"
   ]
  }
 ],
 "metadata": {
  "kernelspec": {
   "display_name": "autogen0.4",
   "language": "python",
   "name": "python3"
  },
  "language_info": {
   "codemirror_mode": {
    "name": "ipython",
    "version": 3
   },
   "file_extension": ".py",
   "mimetype": "text/x-python",
   "name": "python",
   "nbconvert_exporter": "python",
   "pygments_lexer": "ipython3",
   "version": "3.12.8"
  }
 },
 "nbformat": 4,
 "nbformat_minor": 4
}
