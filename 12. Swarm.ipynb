{
 "cells": [
  {
   "cell_type": "code",
   "execution_count": 1,
   "id": "03cb1407-e935-4c95-9576-3a699a0c71bc",
   "metadata": {},
   "outputs": [
    {
     "data": {
      "text/plain": [
       "True"
      ]
     },
     "execution_count": 1,
     "metadata": {},
     "output_type": "execute_result"
    }
   ],
   "source": [
    "from dotenv import load_dotenv\n",
    "load_dotenv()"
   ]
  },
  {
   "cell_type": "code",
   "execution_count": 2,
   "id": "4c4c2183-b89a-45f3-a537-287c0422936e",
   "metadata": {},
   "outputs": [],
   "source": [
    "from typing import Any, Dict, List\n",
    "\n",
    "from autogen_agentchat.agents import AssistantAgent\n",
    "from autogen_agentchat.conditions import HandoffTermination, TextMentionTermination\n",
    "from autogen_agentchat.messages import HandoffMessage\n",
    "from autogen_agentchat.teams import Swarm\n",
    "from autogen_agentchat.ui import Console\n",
    "from autogen_ext.models.openai import OpenAIChatCompletionClient"
   ]
  },
  {
   "cell_type": "code",
   "execution_count": 3,
   "id": "ca208ea7-fa2f-4b80-add5-5dde76423759",
   "metadata": {},
   "outputs": [],
   "source": [
    "def refund_flight(flight_id: str) -> str:\n",
    "    \"\"\"Refund a flight\"\"\"\n",
    "    return f\"Flight {flight_id} refunded\""
   ]
  },
  {
   "cell_type": "code",
   "execution_count": 4,
   "id": "bfa4ee5d-cf4a-4cb9-8007-ae4d9193314e",
   "metadata": {},
   "outputs": [],
   "source": [
    "model_client = OpenAIChatCompletionClient(\n",
    "    model=\"gpt-4o-mini\",\n",
    "    # api_key=\"YOUR_API_KEY\",\n",
    ")\n",
    "\n",
    "travel_agent = AssistantAgent(\n",
    "    \"travel_agent\",\n",
    "    model_client=model_client,\n",
    "    handoffs=[\"flights_refunder\", \"user\"],\n",
    "    system_message=\"\"\"You are a travel agent.\n",
    "    The flights_refunder is in charge of refunding flights.\n",
    "    If you need information from the user, you must first send your message, then you can handoff to the user.\n",
    "    Use TERMINATE when the travel planning is complete.\"\"\",\n",
    ")\n",
    "\n",
    "flights_refunder = AssistantAgent(\n",
    "    \"flights_refunder\",\n",
    "    model_client=model_client,\n",
    "    handoffs=[\"travel_agent\", \"user\"],\n",
    "    tools=[refund_flight],\n",
    "    system_message=\"\"\"You are an agent specialized in refunding flights.\n",
    "    You only need flight reference numbers to refund a flight.\n",
    "    You have the ability to refund a flight using the refund_flight tool.\n",
    "    If you need information from the user, you must first send your message, then you can handoff to the user.\n",
    "    When the transaction is complete, handoff to the travel agent to finalize.\"\"\",\n",
    ")"
   ]
  },
  {
   "cell_type": "code",
   "execution_count": 5,
   "id": "635c7646-78ba-4c43-a868-f3490ab721cf",
   "metadata": {},
   "outputs": [],
   "source": [
    "termination = HandoffTermination(target=\"user\") | TextMentionTermination(\"TERMINATE\")\n",
    "team = Swarm([travel_agent, flights_refunder], termination_condition=termination)"
   ]
  },
  {
   "cell_type": "code",
   "execution_count": 6,
   "id": "7e560c28-fe5a-412b-b8e8-a1beeb7f888e",
   "metadata": {},
   "outputs": [
    {
     "name": "stdout",
     "output_type": "stream",
     "text": [
      "---------- user ----------\n",
      "I need to refund my flight.\n",
      "---------- travel_agent ----------\n",
      "I can help you with that! Please provide me with your flight details, including the booking reference number, the name on the ticket, and the reason for the refund, so I can assist you further.\n",
      "---------- travel_agent ----------\n",
      "[FunctionCall(id='call_otAF6Wp0QVa4QvrFWPAVPOgf', arguments='{}', name='transfer_to_user')]\n",
      "---------- travel_agent ----------\n",
      "[FunctionExecutionResult(content='Transferred to user, adopting the role of user immediately.', call_id='call_otAF6Wp0QVa4QvrFWPAVPOgf')]\n",
      "---------- travel_agent ----------\n",
      "Transferred to user, adopting the role of user immediately.\n"
     ]
    },
    {
     "name": "stdin",
     "output_type": "stream",
     "text": [
      "User:  my Flight id 5\n"
     ]
    },
    {
     "name": "stdout",
     "output_type": "stream",
     "text": [
      "---------- user ----------\n",
      "my Flight id 5\n",
      "---------- travel_agent ----------\n",
      "[FunctionCall(id='call_5YXHuSwvdV9YH4KyuO6RPM2i', arguments='{}', name='transfer_to_flights_refunder')]\n",
      "---------- travel_agent ----------\n",
      "[FunctionExecutionResult(content='Transferred to flights_refunder, adopting the role of flights_refunder immediately.', call_id='call_5YXHuSwvdV9YH4KyuO6RPM2i')]\n",
      "---------- travel_agent ----------\n",
      "Transferred to flights_refunder, adopting the role of flights_refunder immediately.\n",
      "---------- flights_refunder ----------\n",
      "[FunctionCall(id='call_Pmqn9ecNjalzeGd69BZqdSm3', arguments='{\"flight_id\":\"5\"}', name='refund_flight')]\n",
      "---------- flights_refunder ----------\n",
      "[FunctionExecutionResult(content='Flight 5 refunded', call_id='call_Pmqn9ecNjalzeGd69BZqdSm3')]\n",
      "---------- flights_refunder ----------\n",
      "Flight 5 refunded\n",
      "---------- flights_refunder ----------\n",
      "[FunctionCall(id='call_QgEar9TjcFs5cXh8xbEcxow1', arguments='{}', name='transfer_to_travel_agent')]\n",
      "---------- flights_refunder ----------\n",
      "[FunctionExecutionResult(content='Transferred to travel_agent, adopting the role of travel_agent immediately.', call_id='call_QgEar9TjcFs5cXh8xbEcxow1')]\n",
      "---------- flights_refunder ----------\n",
      "Transferred to travel_agent, adopting the role of travel_agent immediately.\n",
      "---------- travel_agent ----------\n",
      "Your flight has been successfully refunded. If you need any more assistance or have further questions, feel free to ask! Otherwise, I will go ahead and terminate our conversation.\n",
      "---------- travel_agent ----------\n",
      "[FunctionCall(id='call_gtr1dtSSnocSusd2WN9DTg0l', arguments='{}', name='transfer_to_user')]\n",
      "---------- travel_agent ----------\n",
      "[FunctionExecutionResult(content='Transferred to user, adopting the role of user immediately.', call_id='call_gtr1dtSSnocSusd2WN9DTg0l')]\n",
      "---------- travel_agent ----------\n",
      "Transferred to user, adopting the role of user immediately.\n"
     ]
    },
    {
     "name": "stdin",
     "output_type": "stream",
     "text": [
      "User:  TERMINATE\n"
     ]
    },
    {
     "name": "stdout",
     "output_type": "stream",
     "text": [
      "---------- user ----------\n",
      "TERMINATE\n"
     ]
    }
   ],
   "source": [
    "task = \"I need to refund my flight.\"\n",
    "\n",
    "\n",
    "async def run_team_stream() -> None:\n",
    "    task_result = await Console(team.run_stream(task=task))\n",
    "    last_message = task_result.messages[-1]\n",
    "\n",
    "    while isinstance(last_message, HandoffMessage) and last_message.target == \"user\":\n",
    "        user_message = input(\"User: \")\n",
    "\n",
    "        task_result = await Console(\n",
    "            team.run_stream(task=HandoffMessage(source=\"user\", target=last_message.source, content=user_message))\n",
    "        )\n",
    "        last_message = task_result.messages[-1]\n",
    "\n",
    "\n",
    "# Use asyncio.run(...) if you are running this in a script.\n",
    "await run_team_stream()"
   ]
  },
  {
   "cell_type": "code",
   "execution_count": null,
   "id": "84b2b35d-f612-4e0b-b213-1250023b914e",
   "metadata": {},
   "outputs": [],
   "source": []
  }
 ],
 "metadata": {
  "kernelspec": {
   "display_name": "Python 3 (ipykernel)",
   "language": "python",
   "name": "python3"
  },
  "language_info": {
   "codemirror_mode": {
    "name": "ipython",
    "version": 3
   },
   "file_extension": ".py",
   "mimetype": "text/x-python",
   "name": "python",
   "nbconvert_exporter": "python",
   "pygments_lexer": "ipython3",
   "version": "3.12.8"
  }
 },
 "nbformat": 4,
 "nbformat_minor": 5
}
