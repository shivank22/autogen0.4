{
 "cells": [
  {
   "cell_type": "code",
   "execution_count": 1,
   "id": "c46e6ec7-b8fe-4812-9c90-3bf2b237c708",
   "metadata": {},
   "outputs": [
    {
     "data": {
      "text/plain": [
       "True"
      ]
     },
     "execution_count": 1,
     "metadata": {},
     "output_type": "execute_result"
    }
   ],
   "source": [
    "#create a .environment file and Define OPENAI_API_KEY\n",
    "from dotenv import load_dotenv\n",
    "load_dotenv()"
   ]
  },
  {
   "cell_type": "code",
   "execution_count": 2,
   "id": "94c1310c-a2ec-42f5-b24f-edf376363620",
   "metadata": {},
   "outputs": [],
   "source": [
    "from autogen_agentchat.agents import AssistantAgent\n",
    "from autogen_agentchat.teams import RoundRobinGroupChat\n",
    "from autogen_agentchat.ui import Console\n",
    "from autogen_ext.models.openai import OpenAIChatCompletionClient"
   ]
  },
  {
   "cell_type": "code",
   "execution_count": 3,
   "id": "b96ab0cd-baf6-44be-84b8-bb50a1597761",
   "metadata": {},
   "outputs": [],
   "source": [
    "async def get_weather2(city: str):\n",
    "    return (\"Weather of \"+city+\" is nice\")\n",
    "    \n",
    "weather_agent = AssistantAgent(name=\"weather_agent\",\n",
    "                               model_client=OpenAIChatCompletionClient( model=\"gpt-4o-mini\"),\n",
    "                               tools=[get_weather2])\n"
   ]
  },
  {
   "cell_type": "code",
   "execution_count": 25,
   "id": "999e7bb3-a6d4-4624-bdb2-defaddb9fd44",
   "metadata": {},
   "outputs": [],
   "source": [
    "agent_team = RoundRobinGroupChat([weather_agent], max_turns=1)"
   ]
  },
  {
   "cell_type": "code",
   "execution_count": 4,
   "id": "4aac9bc5-a7bf-4204-b4f3-d1b310b925eb",
   "metadata": {},
   "outputs": [],
   "source": [
    "stream = agent_team.run_stream(task=\"What is capital of India, How is its weather there ?\")"
   ]
  },
  {
   "cell_type": "code",
   "execution_count": 5,
   "id": "b6ddc76f-090f-4a5b-860f-ad07ac2d4a43",
   "metadata": {},
   "outputs": [
    {
     "name": "stdout",
     "output_type": "stream",
     "text": [
      "---------- user ----------\n",
      "What is capital of India, How is its weather there ?\n",
      "---------- weather_agent ----------\n",
      "[FunctionCall(id='call_D45NXmMKIiITTNy76DxgNC9P', arguments='{\"city\": \"New Delhi\"}', name='get_weather2')]\n",
      "---------- weather_agent ----------\n",
      "[FunctionExecutionResult(content='Weather of New Delhi is nice', call_id='call_D45NXmMKIiITTNy76DxgNC9P')]\n",
      "---------- weather_agent ----------\n",
      "Weather of New Delhi is nice\n"
     ]
    },
    {
     "data": {
      "text/plain": [
       "TaskResult(messages=[TextMessage(source='user', models_usage=None, content='What is capital of India, How is its weather there ?', type='TextMessage'), ToolCallRequestEvent(source='weather_agent', models_usage=RequestUsage(prompt_tokens=81, completion_tokens=33), content=[FunctionCall(id='call_D45NXmMKIiITTNy76DxgNC9P', arguments='{\"city\": \"New Delhi\"}', name='get_weather2')], type='ToolCallRequestEvent'), ToolCallExecutionEvent(source='weather_agent', models_usage=None, content=[FunctionExecutionResult(content='Weather of New Delhi is nice', call_id='call_D45NXmMKIiITTNy76DxgNC9P')], type='ToolCallExecutionEvent'), ToolCallSummaryMessage(source='weather_agent', models_usage=None, content='Weather of New Delhi is nice', type='ToolCallSummaryMessage')], stop_reason=None)"
      ]
     },
     "execution_count": 5,
     "metadata": {},
     "output_type": "execute_result"
    }
   ],
   "source": [
    "await Console(stream)"
   ]
  },
  {
   "cell_type": "code",
   "execution_count": 39,
   "id": "61369190-9a19-4eee-b740-75e826cabe2e",
   "metadata": {},
   "outputs": [],
   "source": [
    "from autogen_ext.models.openai import OpenAIChatCompletionClient\n",
    "openai_model_client = OpenAIChatCompletionClient(\n",
    "    model=\"gpt-4o-mini\",\n",
    "    # api_key=\"sk-...\", # Optional if you have an OPENAI_API_KEY environment variable set.\n",
    ")"
   ]
  },
  {
   "cell_type": "code",
   "execution_count": 40,
   "id": "b82a8277-d5ab-4103-8a41-ee312cffa8c7",
   "metadata": {},
   "outputs": [
    {
     "name": "stdout",
     "output_type": "stream",
     "text": [
      "finish_reason='unknown' content='The capital of France is Paris.' usage=RequestUsage(prompt_tokens=15, completion_tokens=8) cached=False logprobs=None\n"
     ]
    }
   ],
   "source": [
    "from autogen_core.models import UserMessage\n",
    "result = await openai_model_client.create([UserMessage(content=\"What is the capital of France?\", source=\"user\")])\n",
    "print(result)"
   ]
  },
  {
   "cell_type": "code",
   "execution_count": 41,
   "id": "fc2320ca-317c-4bcb-8625-5c00f83fc8f5",
   "metadata": {},
   "outputs": [
    {
     "data": {
      "text/plain": [
       "'The capital of France is Paris.'"
      ]
     },
     "execution_count": 41,
     "metadata": {},
     "output_type": "execute_result"
    }
   ],
   "source": [
    "result.content"
   ]
  },
  {
   "cell_type": "code",
   "execution_count": 42,
   "id": "1316e792-32f7-4019-8eea-6d6e615b03af",
   "metadata": {},
   "outputs": [],
   "source": [
    "from autogen_agentchat.messages import TextMessage\n",
    "\n",
    "text_message = TextMessage(content=\"Hello, world!\", source=\"User\")"
   ]
  },
  {
   "cell_type": "code",
   "execution_count": null,
   "id": "c853de74-876a-46d5-b291-3b067f3bf934",
   "metadata": {},
   "outputs": [],
   "source": []
  }
 ],
 "metadata": {
  "kernelspec": {
   "display_name": "Python 3 (ipykernel)",
   "language": "python",
   "name": "python3"
  },
  "language_info": {
   "codemirror_mode": {
    "name": "ipython",
    "version": 3
   },
   "file_extension": ".py",
   "mimetype": "text/x-python",
   "name": "python",
   "nbconvert_exporter": "python",
   "pygments_lexer": "ipython3",
   "version": "3.12.8"
  }
 },
 "nbformat": 4,
 "nbformat_minor": 5
}
