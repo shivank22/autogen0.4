{
 "cells": [
  {
   "cell_type": "code",
   "execution_count": 2,
   "metadata": {},
   "outputs": [
    {
     "data": {
      "text/plain": [
       "True"
      ]
     },
     "execution_count": 2,
     "metadata": {},
     "output_type": "execute_result"
    }
   ],
   "source": [
    "from dotenv import load_dotenv\n",
    "load_dotenv()"
   ]
  },
  {
   "cell_type": "code",
   "execution_count": 20,
   "metadata": {},
   "outputs": [],
   "source": [
    "import asyncio\n",
    "\n",
    "from autogen_agentchat.agents import AssistantAgent\n",
    "from autogen_agentchat.base import TaskResult\n",
    "from autogen_agentchat.conditions import ExternalTermination, TextMentionTermination\n",
    "from autogen_agentchat.teams import RoundRobinGroupChat\n",
    "from autogen_agentchat.ui import Console\n",
    "from autogen_core import CancellationToken\n",
    "from autogen_ext.models.openai import OpenAIChatCompletionClient\n",
    "\n",
    "# # Create an OpenAI model client.\n",
    "# model_client = OpenAIChatCompletionClient(\n",
    "#     model=\"gpt-4o-mini\",\n",
    "#     # api_key=\"sk-...\", # Optional if you have an OPENAI_API_KEY env variable set.\n",
    "# )\n",
    "\n",
    "model_client = OpenAIChatCompletionClient(\n",
    "    model=\"qwen2.5\",\n",
    "    base_url=\"http://localhost:11434/v1\",\n",
    "    api_key=\"placeholder\",\n",
    "    model_info={\n",
    "        \"vision\": False,\n",
    "        \"function_calling\": True,\n",
    "        \"json_output\": False,\n",
    "        \"family\": \"unknown\",\n",
    "    },\n",
    ")\n",
    "\n",
    "# Create the primary agent.\n",
    "primary_agent = AssistantAgent(\n",
    "    \"primary\",\n",
    "    model_client=model_client,\n",
    "    system_message=\"You are a helpful AI assistant.\",\n",
    ")\n",
    "\n",
    "# Create the critic agent.\n",
    "critic_agent = AssistantAgent(\n",
    "    \"critic\",\n",
    "    model_client=model_client,\n",
    "    system_message=\"Provide constructive feedback. Respond with 'APPROVE' only when your feedbacks are addressed.\",\n",
    ")\n",
    "\n",
    "# Define a termination condition that stops the task if the critic approves.\n",
    "text_termination = TextMentionTermination(\"APPROVE\")\n",
    "\n",
    "# Create a team with the primary and critic agents.\n",
    "team = RoundRobinGroupChat([primary_agent, critic_agent], termination_condition=text_termination)"
   ]
  },
  {
   "cell_type": "code",
   "execution_count": 21,
   "metadata": {},
   "outputs": [],
   "source": [
    "# Use `asyncio.run(...)` when running in a script.\n",
    "result = await team.run(task=\"Write a poem on France\")\n",
    "# print(result.messages)"
   ]
  },
  {
   "cell_type": "code",
   "execution_count": 18,
   "metadata": {},
   "outputs": [
    {
     "data": {
      "text/plain": [
       "TaskResult(messages=[TextMessage(source='user', models_usage=None, content='Write a poem on France', type='TextMessage'), TextMessage(source='primary', models_usage=RequestUsage(prompt_tokens=24, completion_tokens=362), content=\"In lands where lavender kisses the breeze,  \\nAnd vineyards stretch under sun-dappled trees,  \\nWhere castles stand proud on hillsides so grand,  \\nFrance weaves a tale with a gracious hand.  \\n\\nThe Seine flows like silk through Parisian nights,  \\nBeneath the soft glow of the city's lights,  \\nWith whispers of love in each cobblestone lane,  \\nHistory’s secrets in shadows remain.  \\n\\nMont Saint-Michel rises from tides' gentle reach,  \\nA beacon of hope, where the heavens can teach,  \\nThe echoes of pilgrims, their dreams in the air,  \\nIn the heart of this nation, their stories laid bare.  \\n\\nFrom the Pyrenees' peaks, where the jagged rocks soar,  \\nTo the shores of the Côte d'Azur’s endless lore,  \\nEach region a tapestry, woven with care,  \\nThe flavors, the colors, the songs that we share.  \\n\\nIn markets alive with the scent of fresh bread,  \\nWith laughter and chatter where joy is widespread,  \\nA sip of rich wine, a bite of delight,  \\nIn the heart of France, everything feels right.  \\n\\nThe art that adorns every wall and each street,  \\nFrom Monet's soft dreams to Rodin's heartbeat,  \\nIn galleries echoing creative embrace,  \\nThe spirit of genius finds its true place.  \\n\\nWith festivals blooming from spring to the fall,  \\nAnd voices united in passion's great call,  \\nFrom the heights of the Alps to the shores of the bay,  \\nFrance dances with life in a glorious ballet.  \\n\\nSo here's to the land where beauty abounds,  \\nIn laughter, in silence, in all of its sounds,  \\nA tapestry rich, both timeless and free,  \\nForever in awe, I shall cherish thee.  \", type='TextMessage'), TextMessage(source='critic', models_usage=RequestUsage(prompt_tokens=403, completion_tokens=299), content=\"This poem beautifully captures the essence of France through vivid imagery and emotional depth. Here are some constructive feedback points to consider:\\n\\n1. **Imagery and Sensory Details**: The poem uses rich imagery and sensory details effectively. However, you might want to add even more specific elements related to French culture (e.g., specific regional dishes, famous events, or unique customs) to deepen the connection to France.\\n\\n2. **Rhyme Scheme Consistency**: The rhyme scheme is generally consistent, but a few lines feel slightly forced. Consider reading them aloud to ensure the flow feels natural and smooth throughout the poem.\\n\\n3. **Structure Variability**: While the poem has a rhythmic structure, varying the line length or stanza form in certain sections could add more dynamism to the reading experience. This could help emphasize certain emotions or images more strongly.\\n\\n4. **Depth of Themes**: The themes of love, art, and nature are well-represented. Expanding on the theme of resilience or historical significance in certain regions could add another layer of depth and intrigue to the poem.\\n\\n5. **Final Stanza Impact**: The closing stanza is poignant, but consider rephrasing for even greater impact. A memorable line or a surprising twist could leave a lasting impression on the reader.\\n\\nOverall, it's an enjoyable and heartfelt tribute to France! With these adjustments, it could resonate even more deeply. \\n\\nPlease address these points, and I will respond with 'APPROVE'.\", type='TextMessage')], stop_reason=\"Text 'APPROVE' mentioned\")"
      ]
     },
     "execution_count": 18,
     "metadata": {},
     "output_type": "execute_result"
    }
   ],
   "source": [
    "result"
   ]
  },
  {
   "cell_type": "code",
   "execution_count": 19,
   "metadata": {},
   "outputs": [
    {
     "name": "stdout",
     "output_type": "stream",
     "text": [
      "user - Write a poem on France \n",
      "\n",
      "primary - In lands where lavender kisses the breeze,  \n",
      "And vineyards stretch under sun-dappled trees,  \n",
      "Where castles stand proud on hillsides so grand,  \n",
      "France weaves a tale with a gracious hand.  \n",
      "\n",
      "The Seine flows like silk through Parisian nights,  \n",
      "Beneath the soft glow of the city's lights,  \n",
      "With whispers of love in each cobblestone lane,  \n",
      "History’s secrets in shadows remain.  \n",
      "\n",
      "Mont Saint-Michel rises from tides' gentle reach,  \n",
      "A beacon of hope, where the heavens can teach,  \n",
      "The echoes of pilgrims, their dreams in the air,  \n",
      "In the heart of this nation, their stories laid bare.  \n",
      "\n",
      "From the Pyrenees' peaks, where the jagged rocks soar,  \n",
      "To the shores of the Côte d'Azur’s endless lore,  \n",
      "Each region a tapestry, woven with care,  \n",
      "The flavors, the colors, the songs that we share.  \n",
      "\n",
      "In markets alive with the scent of fresh bread,  \n",
      "With laughter and chatter where joy is widespread,  \n",
      "A sip of rich wine, a bite of delight,  \n",
      "In the heart of France, everything feels right.  \n",
      "\n",
      "The art that adorns every wall and each street,  \n",
      "From Monet's soft dreams to Rodin's heartbeat,  \n",
      "In galleries echoing creative embrace,  \n",
      "The spirit of genius finds its true place.  \n",
      "\n",
      "With festivals blooming from spring to the fall,  \n",
      "And voices united in passion's great call,  \n",
      "From the heights of the Alps to the shores of the bay,  \n",
      "France dances with life in a glorious ballet.  \n",
      "\n",
      "So here's to the land where beauty abounds,  \n",
      "In laughter, in silence, in all of its sounds,  \n",
      "A tapestry rich, both timeless and free,  \n",
      "Forever in awe, I shall cherish thee.   \n",
      "\n",
      "critic - This poem beautifully captures the essence of France through vivid imagery and emotional depth. Here are some constructive feedback points to consider:\n",
      "\n",
      "1. **Imagery and Sensory Details**: The poem uses rich imagery and sensory details effectively. However, you might want to add even more specific elements related to French culture (e.g., specific regional dishes, famous events, or unique customs) to deepen the connection to France.\n",
      "\n",
      "2. **Rhyme Scheme Consistency**: The rhyme scheme is generally consistent, but a few lines feel slightly forced. Consider reading them aloud to ensure the flow feels natural and smooth throughout the poem.\n",
      "\n",
      "3. **Structure Variability**: While the poem has a rhythmic structure, varying the line length or stanza form in certain sections could add more dynamism to the reading experience. This could help emphasize certain emotions or images more strongly.\n",
      "\n",
      "4. **Depth of Themes**: The themes of love, art, and nature are well-represented. Expanding on the theme of resilience or historical significance in certain regions could add another layer of depth and intrigue to the poem.\n",
      "\n",
      "5. **Final Stanza Impact**: The closing stanza is poignant, but consider rephrasing for even greater impact. A memorable line or a surprising twist could leave a lasting impression on the reader.\n",
      "\n",
      "Overall, it's an enjoyable and heartfelt tribute to France! With these adjustments, it could resonate even more deeply. \n",
      "\n",
      "Please address these points, and I will respond with 'APPROVE'. \n",
      "\n"
     ]
    }
   ],
   "source": [
    "for i in result.messages:\n",
    "    print(f\"{i.source} - {i.content} \\n\")"
   ]
  },
  {
   "cell_type": "code",
   "execution_count": 22,
   "metadata": {},
   "outputs": [
    {
     "name": "stdout",
     "output_type": "stream",
     "text": [
      "user - Write a poem on France \n",
      "\n",
      "primary - Under the Sun's Majestic Hand\n",
      "\n",
      "Beneath the azure skies so clear and bright,\n",
      "France, land of light, shines in my sight.\n",
      "A legacy etched with time’s ancient hand,\n",
      "The heart of Europe, rich in every land.\n",
      "\n",
      "From fields where golden wheat does freely sway,\n",
      "To streets awash in rivers’ shimmering way.\n",
      "Its heritage is like a tapestry woven,\n",
      "Of history and tales that linger on.\n",
      "\n",
      "Roses bloom and lavender doth thrive,\n",
      "In provinces from Rhône to Brie.\n",
      "Eiffel Tower lifts its beacon high,\n",
      "A symbol of strength, of valor, pride and sky.\n",
      "\n",
      "Mountains rise in rugged splendor grand,\n",
      "From Alps’ icy crests where snowflakes dance and land.\n",
      "While the Pyrenees, with their deep purple haze,\n",
      "Guard secrets and landscapes like no other place.\n",
      "\n",
      "Paris walks serene on Seine’s soft flow,\n",
      "Where lovers meet on bridges of love aglow.\n",
      "Underneath an umbrella of ivy-fumed trees,\n",
      "In gardens of Versailles, where queens once reigned supreme.\n",
      "\n",
      "Walls speak of battles fought and tales untold,\n",
      "Of wars and peace, from days of yore. A voice loud\n",
      "Whose echoes still resonate in halls and hearts alike,\n",
      "A storybook nation, through times of right and might.\n",
      "\n",
      "From rugged shores to mountains soaring high,\n",
      "France’s diversity is a sight divine.\n",
      "In each locale, from north to south, you’ll find,\n",
      "A culture rich, a beauty that will make your mind.\n",
      "\n",
      "Oh, France, with your heritage so proud,\n",
      "Inspire us now as ever before —\n",
      "With your elegance and timeless allure,\n",
      "You are an eternally charming shore. \n",
      "\n",
      "critic - APPROVE \n",
      "\n"
     ]
    }
   ],
   "source": [
    "for i in result.messages:\n",
    "    print(f\"{i.source} - {i.content} \\n\")"
   ]
  },
  {
   "cell_type": "code",
   "execution_count": 15,
   "metadata": {},
   "outputs": [
    {
     "name": "stdout",
     "output_type": "stream",
     "text": [
      "Write a short poem about the fall season.\n",
      "Golden leaves, a crisp embrace,  \n",
      "Whispering winds in a gentle race.  \n",
      "Amber hues and muted skies,  \n",
      "Nature's canvas, where beauty lies.  \n",
      "\n",
      "Pumpkin scents in the cooling air,  \n",
      "Harvest bounty, gifts to share.  \n",
      "A quiet hush, as days grow short,  \n",
      "Autumn's dance, the year's escort.  \n",
      "\n",
      "Warmth in wool, fireside dreams,  \n",
      "A cozy world of cider streams.  \n",
      "In this season's fleeting grace,  \n",
      "Time slows down in nature's space.  \n",
      "Your poem beautifully captures the essence of the fall season with vivid imagery and a cozy atmosphere. Here are a few suggestions that might enhance it further:\n",
      "\n",
      "1. **Rhythm and Flow:** Ensure each line has a consistent rhythm to create a soothing flow. Consider the syllabic structure of each line, as currently, they vary in length.\n",
      "\n",
      "2. **Imagery Enhancement:** While the imagery is already appealing, you could consider adding more sensory details. For example, mentioning the sound of rustling leaves or the feeling of a cool breeze can immerse the reader further.\n",
      "\n",
      "3. **Theme Expansion:** You might enhance the poem by introducing a theme of change or transition, which is often associated with autumn, to deepen the poem's message.\n",
      "\n",
      "Overall, your poem captures the tranquility and beauty of fall wonderfully. Consider these suggestions to refine and expand the depth of your verses.\n",
      "Thank you for your thoughtful feedback. Here's a revised version of the poem incorporating your suggestions:\n",
      "\n",
      "Whispers of rustling leave's gentle song,  \n",
      "In golden fields where shadows grow long.  \n",
      "Cool breezes dance through branches high,  \n",
      "Painting the earth 'neath an autumn sky.  \n",
      "\n",
      "Pumpkin-laden air with spice and cheer,  \n",
      "Harvesting dreams as the frost draws near.  \n",
      "Fireside warmth where stories unfold,  \n",
      "In autumn's embrace, both new and old.  \n",
      "\n",
      "Seasons change with a sigh and a tear,  \n",
      "Time's tapestry shifting, year by year.  \n",
      "Nature's cycles in colors bright,  \n",
      "As fall ushers in the quiet night.  \n",
      "\n",
      "I hope this version provides a richer autumn experience!\n",
      "Your revised poem beautifully enhances the imagery and rhythmic flow, creating a more immersive and cohesive experience. Here are a few points that highlight its strengths:\n",
      "\n",
      "1. **Improved Rhythm:** The consistent rhythm in each stanza contributes to a soothing reading experience, allowing the words to flow naturally.\n",
      "\n",
      "2. **Enhanced Imagery:** The addition of sensory details, such as \"rustling leaves' gentle song,\" enriches the imagery, making the poem more vivid and evocative.\n",
      "\n",
      "3. **Theme of Transition:** The inclusion of lines addressing the transition of seasons, like \"Time's tapestry shifting, year by year,\" effectively deepens the message and emotional impact.\n",
      "\n",
      "Overall, your revisions celebrate autumn with beautiful language, encapsulating its essence and transition elegantly. APPPROVE\n",
      "Thank you for your kind words. I'm glad the revisions resonated with you and effectively captured the spirit of autumn. If you have any more feedback or need further assistance, feel free to let me know!\n",
      "You're very welcome! I'm delighted to hear that the feedback helped enhance your poem. If you have any more creative projects or need assistance in the future, don't hesitate to reach out. Happy writing and enjoy the beautiful autumn season!\n",
      "Thank you so much! I appreciate your encouragement and support. I'm always here to help with any creative endeavors you may have. Wishing you a wonderful and inspiring autumn season as well!\n",
      "APPROVE\n",
      "Stop Reason: Text 'APPROVE' mentioned\n"
     ]
    }
   ],
   "source": [
    "# When running inside a script, use a async main function and call it from `asyncio.run(...)`.\n",
    "await team.reset()  # Reset the team for a new task.\n",
    "async for message in team.run_stream(task=\"Write a short poem about the fall season.\"):  # type: ignore\n",
    "    if isinstance(message, TaskResult):\n",
    "        print(\"Stop Reason:\", message.stop_reason)\n",
    "    else:\n",
    "        print(message.content)"
   ]
  },
  {
   "cell_type": "code",
   "execution_count": 23,
   "metadata": {},
   "outputs": [
    {
     "name": "stdout",
     "output_type": "stream",
     "text": [
      "---------- user ----------\n",
      "Write a short poem about the fall season.\n",
      "---------- primary ----------\n",
      "Leaves whisper in hues of gold and red,\n",
      "As summer's warmth is laid to rest.\n",
      "Cool breezes dance, trees' arms wide spread,\n",
      "With tales of forests once becalmed.\n",
      "\n",
      "Frost kisses leaves, soft and mild,\n",
      "Glimmering under moonlit shields.\n",
      "Acorns fall beneath the wise old pines,\n",
      "Pledging secrets to the silent fields.\n",
      "\n",
      "Cozy nights are here with starlit skies,\n",
      "And stories shared by fireside light.\n",
      "The air is crisp, a breath of sighs,\n",
      "As autumn's hand upon the earth takes flight.\n",
      "---------- critic ----------\n",
      "APPROVE\n"
     ]
    },
    {
     "data": {
      "text/plain": [
       "TaskResult(messages=[TextMessage(source='user', models_usage=None, content='Write a short poem about the fall season.', type='TextMessage'), TextMessage(source='primary', models_usage=RequestUsage(prompt_tokens=29, completion_tokens=116), content=\"Leaves whisper in hues of gold and red,\\nAs summer's warmth is laid to rest.\\nCool breezes dance, trees' arms wide spread,\\nWith tales of forests once becalmed.\\n\\nFrost kisses leaves, soft and mild,\\nGlimmering under moonlit shields.\\nAcorns fall beneath the wise old pines,\\nPledging secrets to the silent fields.\\n\\nCozy nights are here with starlit skies,\\nAnd stories shared by fireside light.\\nThe air is crisp, a breath of sighs,\\nAs autumn's hand upon the earth takes flight.\", type='TextMessage'), TextMessage(source='critic', models_usage=RequestUsage(prompt_tokens=156, completion_tokens=4), content='APPROVE', type='TextMessage')], stop_reason=\"Text 'APPROVE' mentioned\")"
      ]
     },
     "execution_count": 23,
     "metadata": {},
     "output_type": "execute_result"
    }
   ],
   "source": [
    "await team.reset()  # Reset the team for a new task.\n",
    "await Console(team.run_stream(task=\"Write a short poem about the fall season.\"))  # Stream the messages to the console."
   ]
  },
  {
   "cell_type": "code",
   "execution_count": 24,
   "metadata": {},
   "outputs": [
    {
     "name": "stdout",
     "output_type": "stream",
     "text": [
      "---------- user ----------\n",
      "Write a 4-line poem about the ocean.\n",
      "---------- assistant ----------\n",
      "Endless waves that dance and play,  \n",
      "Under the sun’s warm golden ray.  \n",
      "Whispers of secrets from the deep,  \n",
      "In the ocean's embrace, we dream and keep.\n"
     ]
    },
    {
     "name": "stdin",
     "output_type": "stream",
     "text": [
      "Enter your response:  2 lines only\n"
     ]
    },
    {
     "name": "stdout",
     "output_type": "stream",
     "text": [
      "---------- user_proxy ----------\n",
      "2 lines only\n",
      "---------- assistant ----------\n",
      "Vast and blue, the ocean sighs,  \n",
      "Beneath the stars, its beauty lies.\n"
     ]
    },
    {
     "name": "stdin",
     "output_type": "stream",
     "text": [
      "Enter your response:  approve\n"
     ]
    },
    {
     "name": "stdout",
     "output_type": "stream",
     "text": [
      "---------- user_proxy ----------\n",
      "approve\n",
      "---------- assistant ----------\n",
      "TERMINATE\n"
     ]
    },
    {
     "name": "stdin",
     "output_type": "stream",
     "text": [
      "Enter your response:  APPROVE\n"
     ]
    },
    {
     "name": "stdout",
     "output_type": "stream",
     "text": [
      "---------- user_proxy ----------\n",
      "APPROVE\n"
     ]
    },
    {
     "data": {
      "text/plain": [
       "TaskResult(messages=[TextMessage(source='user', models_usage=None, content='Write a 4-line poem about the ocean.', type='TextMessage'), TextMessage(source='assistant', models_usage=RequestUsage(prompt_tokens=46, completion_tokens=39), content=\"Endless waves that dance and play,  \\nUnder the sun’s warm golden ray.  \\nWhispers of secrets from the deep,  \\nIn the ocean's embrace, we dream and keep.\", type='TextMessage'), UserInputRequestedEvent(source='user_proxy', models_usage=None, request_id='107881f7-8e6d-4d90-a077-f1cbe9b76a98', content='', type='UserInputRequestedEvent'), TextMessage(source='user_proxy', models_usage=None, content='2 lines only', type='TextMessage'), TextMessage(source='assistant', models_usage=RequestUsage(prompt_tokens=99, completion_tokens=22), content='Vast and blue, the ocean sighs,  \\nBeneath the stars, its beauty lies.', type='TextMessage'), UserInputRequestedEvent(source='user_proxy', models_usage=None, request_id='09ba8cad-4b7c-4836-9ff7-04a83a986b50', content='', type='UserInputRequestedEvent'), TextMessage(source='user_proxy', models_usage=None, content='approve', type='TextMessage'), TextMessage(source='assistant', models_usage=RequestUsage(prompt_tokens=133, completion_tokens=4), content='TERMINATE', type='TextMessage'), UserInputRequestedEvent(source='user_proxy', models_usage=None, request_id='d105c17e-1065-4823-b59e-52250b7a5f47', content='', type='UserInputRequestedEvent'), TextMessage(source='user_proxy', models_usage=None, content='APPROVE', type='TextMessage')], stop_reason=\"Text 'APPROVE' mentioned\")"
      ]
     },
     "execution_count": 24,
     "metadata": {},
     "output_type": "execute_result"
    }
   ],
   "source": [
    "from autogen_agentchat.agents import AssistantAgent, UserProxyAgent\n",
    "from autogen_agentchat.conditions import TextMentionTermination\n",
    "from autogen_agentchat.teams import RoundRobinGroupChat\n",
    "from autogen_agentchat.ui import Console\n",
    "from autogen_ext.models.openai import OpenAIChatCompletionClient\n",
    "\n",
    "# Create the agents.\n",
    "model_client = OpenAIChatCompletionClient(model=\"gpt-4o-mini\")\n",
    "assistant = AssistantAgent(\"assistant\", model_client=model_client)\n",
    "user_proxy = UserProxyAgent(\"user_proxy\", input_func=input)  # Use input() to get user input from console.\n",
    "\n",
    "# Create the termination condition which will end the conversation when the user says \"APPROVE\".\n",
    "termination = TextMentionTermination(\"APPROVE\")\n",
    "\n",
    "# Create the team.\n",
    "team = RoundRobinGroupChat([assistant, user_proxy], termination_condition=termination)\n",
    "\n",
    "# Run the conversation and stream to the console.\n",
    "stream = team.run_stream(task=\"Write a 4-line poem about the ocean.\")\n",
    "# Use asyncio.run(...) when running in a script.\n",
    "await Console(stream)"
   ]
  },
  {
   "cell_type": "code",
   "execution_count": null,
   "metadata": {},
   "outputs": [],
   "source": []
  }
 ],
 "metadata": {
  "kernelspec": {
   "display_name": "Python 3 (ipykernel)",
   "language": "python",
   "name": "python3"
  },
  "language_info": {
   "codemirror_mode": {
    "name": "ipython",
    "version": 3
   },
   "file_extension": ".py",
   "mimetype": "text/x-python",
   "name": "python",
   "nbconvert_exporter": "python",
   "pygments_lexer": "ipython3",
   "version": "3.12.8"
  }
 },
 "nbformat": 4,
 "nbformat_minor": 4
}
