{
 "cells": [
  {
   "cell_type": "code",
   "execution_count": 2,
   "id": "dcac327e-5966-4e0d-b3b5-0b0af207967f",
   "metadata": {},
   "outputs": [
    {
     "data": {
      "text/plain": [
       "True"
      ]
     },
     "execution_count": 2,
     "metadata": {},
     "output_type": "execute_result"
    }
   ],
   "source": [
    "from dotenv import load_dotenv\n",
    "load_dotenv()"
   ]
  },
  {
   "cell_type": "code",
   "execution_count": 3,
   "id": "13a87482-d903-40cf-83d8-d2217c9ee962",
   "metadata": {},
   "outputs": [],
   "source": [
    "from dataclasses import dataclass\n",
    "from autogen_core import AgentId, MessageContext, RoutedAgent, message_handler\n",
    "from autogen_agentchat.agents import AssistantAgent\n",
    "from autogen_agentchat.messages import TextMessage\n",
    "from autogen_ext.models.openai import OpenAIChatCompletionClient"
   ]
  },
  {
   "cell_type": "code",
   "execution_count": 4,
   "id": "6b58a702-f2a3-44c7-9f36-792330c5421e",
   "metadata": {},
   "outputs": [],
   "source": [
    "@dataclass #Register a Message Type\n",
    "class MyMessageType:\n",
    "    content: str\n",
    "\n",
    "\n",
    "class MyAgent(RoutedAgent): #Register a Agent #1\n",
    "    def __init__(self) -> None:\n",
    "        super().__init__(\"MyAgent\")\n",
    "\n",
    "    @message_handler\n",
    "    async def handle_my_message_type(self, message: MyMessageType, ctx: MessageContext) -> None:\n",
    "        print(f\"{self.id.type} This is Agent 1 {message.content}\")\n",
    "\n",
    "\n",
    "class MyAssistant(RoutedAgent): #Register another Agent #2\n",
    "    def __init__(self, name: str) -> None:\n",
    "        super().__init__(name)\n",
    "        model_client = OpenAIChatCompletionClient(model=\"gpt-4o-mini\")\n",
    "        self._delegate = AssistantAgent(name, model_client=model_client)\n",
    "\n",
    "    @message_handler\n",
    "    async def handle_my_message_type(self, message: MyMessageType, ctx: MessageContext) -> None:\n",
    "        print(f\"{self.id.type} This is Agent 2 {message.content}\")\n",
    "        response = await self._delegate.on_messages(\n",
    "            [TextMessage(content=message.content, source=\"user\")], ctx.cancellation_token\n",
    "        )\n",
    "        print(f\"{self.id.type} responded: {response.chat_message.content}\")"
   ]
  },
  {
   "cell_type": "code",
   "execution_count": 5,
   "id": "c0ce1c10-fe01-432d-a981-68acfb190e5c",
   "metadata": {},
   "outputs": [
    {
     "data": {
      "text/plain": [
       "AgentType(type='my_assistant')"
      ]
     },
     "execution_count": 5,
     "metadata": {},
     "output_type": "execute_result"
    }
   ],
   "source": [
    "from autogen_core import SingleThreadedAgentRuntime\n",
    "\n",
    "#Create a Runtime\n",
    "runtime = SingleThreadedAgentRuntime()\n",
    "#Now Register Both Agents as Below\n",
    "await MyAgent.register(runtime, \"my_agent\", lambda: MyAgent())\n",
    "await MyAssistant.register(runtime, \"my_assistant\", lambda: MyAssistant(\"my_assistant\"))"
   ]
  },
  {
   "cell_type": "code",
   "execution_count": 6,
   "id": "6a4bf599-407f-40c5-bd81-70e69332b7d1",
   "metadata": {},
   "outputs": [
    {
     "name": "stdout",
     "output_type": "stream",
     "text": [
      "my_agent This is Agent 1 Hello, World!\n",
      "my_assistant This is Agent 2 Hello, World!\n",
      "my_assistant responded: Hello! How can I assist you today?\n"
     ]
    }
   ],
   "source": [
    "runtime.start()  # Start processing messages in the background.\n",
    "await runtime.send_message(MyMessageType(\"Hello, World!\"), AgentId(\"my_agent\", \"default\"))\n",
    "await runtime.send_message(MyMessageType(\"Hello, World!\"), AgentId(\"my_assistant\", \"default\"))\n",
    "await runtime.stop()  # Stop processing messages in the background."
   ]
  },
  {
   "cell_type": "code",
   "execution_count": null,
   "id": "c4501e25-7946-4f93-967e-0fdd382a383f",
   "metadata": {},
   "outputs": [],
   "source": []
  }
 ],
 "metadata": {
  "kernelspec": {
   "display_name": "Python 3 (ipykernel)",
   "language": "python",
   "name": "python3"
  },
  "language_info": {
   "codemirror_mode": {
    "name": "ipython",
    "version": 3
   },
   "file_extension": ".py",
   "mimetype": "text/x-python",
   "name": "python",
   "nbconvert_exporter": "python",
   "pygments_lexer": "ipython3",
   "version": "3.12.8"
  }
 },
 "nbformat": 4,
 "nbformat_minor": 5
}
