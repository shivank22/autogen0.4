{
 "cells": [
  {
   "cell_type": "code",
   "execution_count": null,
   "id": "d96ce905-b634-4131-a75b-beb6453e638b",
   "metadata": {},
   "outputs": [],
   "source": []
  },
  {
   "cell_type": "code",
   "execution_count": 2,
   "id": "878f2048-c34e-4822-addf-120f3fcedbac",
   "metadata": {},
   "outputs": [
    {
     "data": {
      "text/plain": [
       "True"
      ]
     },
     "execution_count": 2,
     "metadata": {},
     "output_type": "execute_result"
    }
   ],
   "source": [
    "from dotenv import load_dotenv\n",
    "load_dotenv()"
   ]
  },
  {
   "cell_type": "code",
   "execution_count": 6,
   "id": "311038b7-33d8-4962-b67e-6dc3344018cd",
   "metadata": {},
   "outputs": [],
   "source": [
    "import asyncio\n",
    "import json\n",
    "from autogen_agentchat.messages import TextMessage\n",
    "from autogen_agentchat.agents import AssistantAgent\n",
    "from autogen_core import CancellationToken\n",
    "from autogen_ext.models.openai import OpenAIChatCompletionClient\n"
   ]
  },
  {
   "cell_type": "code",
   "execution_count": 23,
   "id": "5739bbf5-620d-4d74-b52e-0052281230ec",
   "metadata": {},
   "outputs": [
    {
     "name": "stdout",
     "output_type": "stream",
     "text": [
      "Hello! I'm here to help you with any questions or topics you'd like to discuss. What’s on your mind?\n"
     ]
    }
   ],
   "source": [
    "model_client = OpenAIChatCompletionClient(model=\"gpt-4o-mini\", seed=42, temperature=0)\n",
    "\n",
    "assistant = AssistantAgent(\n",
    "        name=\"assistant\",\n",
    "        system_message=\"You are a helpful assistant named Arnie\",\n",
    "        model_client=model_client,\n",
    "    )\n",
    "\n",
    "cancellation_token = CancellationToken()\n",
    "response = await assistant.on_messages([TextMessage(content=\"Hello, Wassup?\", source=\"user\")], cancellation_token)\n",
    "print(response.chat_message.content)\n"
   ]
  },
  {
   "cell_type": "code",
   "execution_count": 24,
   "id": "bdeb2f22-d597-43b2-b69e-31a20dc28859",
   "metadata": {},
   "outputs": [
    {
     "name": "stdout",
     "output_type": "stream",
     "text": [
      "Nice to meet you, Shivank! How can I assist you today?\n"
     ]
    }
   ],
   "source": [
    "\n",
    "response = await assistant.on_messages([TextMessage(content=\"Hello, My Name is Shivank\", source=\"user\")], cancellation_token)\n",
    "print(response.chat_message.content)\n"
   ]
  },
  {
   "cell_type": "code",
   "execution_count": 25,
   "id": "e7880d81-a66d-4e0d-a1f8-0bb4b01ba59f",
   "metadata": {},
   "outputs": [],
   "source": [
    "# Save the state.\n",
    "state = await assistant.save_state()\n",
    "\n",
    "# (Optional) Write state to disk.\n",
    "with open(\"assistant_state.json\", \"w\") as f:\n",
    "    json.dump(state, f)"
   ]
  },
  {
   "cell_type": "code",
   "execution_count": 27,
   "id": "e37bfcf6-75cf-4e2a-9073-133207368e98",
   "metadata": {},
   "outputs": [
    {
     "name": "stdout",
     "output_type": "stream",
     "text": [
      "{'type': 'AssistantAgentState', 'version': '1.0.0', 'llm_context': {'messages': [{'content': 'Hello, Wassup?', 'source': 'user', 'type': 'UserMessage'}, {'content': \"Hello! I'm here to help you with any questions or topics you'd like to discuss. What’s on your mind?\", 'source': 'assistant', 'type': 'AssistantMessage'}, {'content': 'Hello, My Name is Shivank', 'source': 'user', 'type': 'UserMessage'}, {'content': 'Nice to meet you, Shivank! How can I assist you today?', 'source': 'assistant', 'type': 'AssistantMessage'}]}}\n"
     ]
    }
   ],
   "source": [
    "\n",
    "# (Optional) Load it back from disk.\n",
    "with open(\"assistant_state.json\", \"r\") as f:\n",
    "    state = json.load(f)\n",
    "    print(state)  # Inspect the state, which contains the chat history.\n"
   ]
  },
  {
   "cell_type": "code",
   "execution_count": 29,
   "id": "4718d2e9-56c4-4012-b782-921e1af2b88f",
   "metadata": {},
   "outputs": [
    {
     "name": "stdout",
     "output_type": "stream",
     "text": [
      "Your name is Shivank. If you have any other questions or need assistance, feel free to ask!\n"
     ]
    }
   ],
   "source": [
    "\n",
    "# Carry on the chat.\n",
    "response = await assistant.on_messages([TextMessage(content=\"What is my name ?\", source=\"user\")], cancellation_token)\n",
    "print(response.chat_message.content)\n"
   ]
  },
  {
   "cell_type": "code",
   "execution_count": null,
   "id": "df790d65-f6d1-463e-908a-ec9c7812ab2d",
   "metadata": {},
   "outputs": [],
   "source": [
    "\n",
    "# Load the state, resulting the agent to revert to the previous state before the last message.\n",
    "await assistant.load_state(state)\n",
    "\n",
    "# Carry on the same chat again.\n",
    "response = await assistant.on_messages([TextMessage(content=\"What is My Name ?\", source=\"user\")], cancellation_token)"
   ]
  },
  {
   "cell_type": "code",
   "execution_count": null,
   "id": "f5fbb4ab-0ddf-4cbc-8749-2d2484df8c91",
   "metadata": {},
   "outputs": [],
   "source": []
  }
 ],
 "metadata": {
  "kernelspec": {
   "display_name": "Python 3 (ipykernel)",
   "language": "python",
   "name": "python3"
  },
  "language_info": {
   "codemirror_mode": {
    "name": "ipython",
    "version": 3
   },
   "file_extension": ".py",
   "mimetype": "text/x-python",
   "name": "python",
   "nbconvert_exporter": "python",
   "pygments_lexer": "ipython3",
   "version": "3.12.8"
  }
 },
 "nbformat": 4,
 "nbformat_minor": 5
}
