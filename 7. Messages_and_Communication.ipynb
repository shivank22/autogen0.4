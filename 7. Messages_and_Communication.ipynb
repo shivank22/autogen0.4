{
 "cells": [
  {
   "cell_type": "code",
   "execution_count": 1,
   "id": "5a22155d-c4d4-4660-b75b-3277bbbd8619",
   "metadata": {},
   "outputs": [
    {
     "data": {
      "text/plain": [
       "True"
      ]
     },
     "execution_count": 1,
     "metadata": {},
     "output_type": "execute_result"
    }
   ],
   "source": [
    "from dotenv import load_dotenv\n",
    "load_dotenv()"
   ]
  },
  {
   "cell_type": "code",
   "execution_count": 6,
   "id": "20875685-3897-40c4-b82a-6c6199209568",
   "metadata": {},
   "outputs": [],
   "source": [
    "from dataclasses import dataclass\n",
    "from autogen_core import AgentId, MessageContext, RoutedAgent, SingleThreadedAgentRuntime, message_handler\n",
    "\n",
    "#Routing Message By Type\n",
    "\n",
    "@dataclass\n",
    "class TextMessage:\n",
    "    content: str\n",
    "    source: str\n",
    "    \n",
    "@dataclass\n",
    "class ImageMessage:\n",
    "    url: str\n",
    "    source: str\n",
    "\n",
    "class MyAgent(RoutedAgent):\n",
    "    @message_handler\n",
    "    async def on_text_message(self, message: TextMessage, ctx: MessageContext) -> None:\n",
    "        print(f\"Hello Did you send a Text , {message.source}, you said {message.content}!\")\n",
    "\n",
    "    @message_handler\n",
    "    async def on_image_message(self, message: ImageMessage, ctx: MessageContext) -> None:\n",
    "        print(f\"Hello Did you send a Image, {message.source}, you sent me {message.url}!\")"
   ]
  },
  {
   "cell_type": "code",
   "execution_count": 7,
   "id": "c176fb58-eb6f-4798-adb4-823dbbf58b5a",
   "metadata": {},
   "outputs": [
    {
     "data": {
      "text/plain": [
       "AgentType(type='my_agent')"
      ]
     },
     "execution_count": 7,
     "metadata": {},
     "output_type": "execute_result"
    }
   ],
   "source": [
    "runtime = SingleThreadedAgentRuntime()\n",
    "await MyAgent.register(runtime, \"my_agent\", lambda: MyAgent(\"My Agent\"))"
   ]
  },
  {
   "cell_type": "code",
   "execution_count": 8,
   "id": "3d85630a-d155-40be-9dda-52a87ca78d65",
   "metadata": {},
   "outputs": [
    {
     "name": "stdout",
     "output_type": "stream",
     "text": [
      "Hello Did you send a Text , User, you said Hello, World!!\n",
      "Hello Did you send a Image, User, you sent me https://example.com/image.jpg!\n"
     ]
    }
   ],
   "source": [
    "runtime.start()\n",
    "agent_id = AgentId(\"my_agent\", \"default\")\n",
    "await runtime.send_message(TextMessage(content=\"Hello, World!\", source=\"User\"), agent_id)\n",
    "await runtime.send_message(ImageMessage(url=\"https://example.com/image.jpg\", source=\"User\"), agent_id)\n",
    "await runtime.stop_when_idle()"
   ]
  },
  {
   "cell_type": "code",
   "execution_count": 9,
   "id": "fca96437-39ce-4342-a4ea-4e7140d5b174",
   "metadata": {},
   "outputs": [],
   "source": [
    "#Same Type Messages\n",
    "class RoutedBySenderAgent(RoutedAgent):\n",
    "    @message_handler(match=lambda msg, ctx: msg.source.startswith(\"user1\"))  # type: ignore\n",
    "    async def on_user1_message(self, message: TextMessage, ctx: MessageContext) -> None:\n",
    "        print(f\"Hello from user 1 handler, {message.source}, you said {message.content}!\")\n",
    "\n",
    "    @message_handler(match=lambda msg, ctx: msg.source.startswith(\"user2\"))  # type: ignore\n",
    "    async def on_user2_message(self, message: TextMessage, ctx: MessageContext) -> None:\n",
    "        print(f\"Hello from user 2 handler, {message.source}, you said {message.content}!\")\n",
    "\n",
    "    @message_handler(match=lambda msg, ctx: msg.source.startswith(\"user2\"))  # type: ignore\n",
    "    async def on_image_message(self, message: ImageMessage, ctx: MessageContext) -> None:\n",
    "        print(f\"Hello, {message.source}, you sent me {message.url}!\")"
   ]
  },
  {
   "cell_type": "code",
   "execution_count": 10,
   "id": "89a43e98-acc0-4d1f-885c-fbe84073e0b3",
   "metadata": {},
   "outputs": [
    {
     "name": "stdout",
     "output_type": "stream",
     "text": [
      "Hello from user 1 handler, user1-test, you said Hello, World!!\n",
      "Hello from user 2 handler, user2-test, you said Hello, World!!\n",
      "Hello, user2-test, you sent me https://example.com/image.jpg!\n"
     ]
    }
   ],
   "source": [
    "runtime = SingleThreadedAgentRuntime()\n",
    "await RoutedBySenderAgent.register(runtime, \"my_agent\", lambda: RoutedBySenderAgent(\"Routed by sender agent\"))\n",
    "runtime.start()\n",
    "agent_id = AgentId(\"my_agent\", \"default\")\n",
    "await runtime.send_message(TextMessage(content=\"Hello, World!\", source=\"user1-test\"), agent_id)\n",
    "await runtime.send_message(TextMessage(content=\"Hello, World!\", source=\"user2-test\"), agent_id)\n",
    "await runtime.send_message(ImageMessage(url=\"https://example.com/image.jpg\", source=\"user1-test\"), agent_id)\n",
    "await runtime.send_message(ImageMessage(url=\"https://example.com/image.jpg\", source=\"user2-test\"), agent_id)\n",
    "await runtime.stop_when_idle()"
   ]
  },
  {
   "cell_type": "code",
   "execution_count": 11,
   "id": "2a7613a0-7e41-4ad1-b28a-bf85332a05fd",
   "metadata": {},
   "outputs": [],
   "source": [
    "from dataclasses import dataclass\n",
    "\n",
    "from autogen_core import MessageContext, RoutedAgent, SingleThreadedAgentRuntime, message_handler\n",
    "\n",
    "\n",
    "@dataclass\n",
    "class Message:\n",
    "    content: str\n",
    "\n",
    "\n",
    "class InnerAgent(RoutedAgent):\n",
    "    @message_handler\n",
    "    async def on_my_message(self, message: Message, ctx: MessageContext) -> Message:\n",
    "        return Message(content=f\"Hello from inner, {message.content}\")\n",
    "\n",
    "\n",
    "class OuterAgent(RoutedAgent):\n",
    "    def __init__(self, description: str, inner_agent_type: str):\n",
    "        super().__init__(description)\n",
    "        self.inner_agent_id = AgentId(inner_agent_type, self.id.key)\n",
    "\n",
    "    @message_handler\n",
    "    async def on_my_message(self, message: Message, ctx: MessageContext) -> None:\n",
    "        print(f\"Received message: {message.content}\")\n",
    "        # Send a direct message to the inner agent and receves a response.\n",
    "        response = await self.send_message(Message(f\"Hello from outer, {message.content}\"), self.inner_agent_id)\n",
    "        print(f\"Received inner response: {response.content}\")"
   ]
  },
  {
   "cell_type": "code",
   "execution_count": 12,
   "id": "6600c463-30d5-44b6-8ff3-a9c2708caf56",
   "metadata": {},
   "outputs": [
    {
     "name": "stdout",
     "output_type": "stream",
     "text": [
      "Received message: Hello, World!\n",
      "Received inner response: Hello from inner, Hello from outer, Hello, World!\n"
     ]
    }
   ],
   "source": [
    "runtime = SingleThreadedAgentRuntime()\n",
    "await InnerAgent.register(runtime, \"inner_agent\", lambda: InnerAgent(\"InnerAgent\"))\n",
    "await OuterAgent.register(runtime, \"outer_agent\", lambda: OuterAgent(\"OuterAgent\", \"inner_agent\"))\n",
    "runtime.start()\n",
    "outer_agent_id = AgentId(\"outer_agent\", \"default\")\n",
    "await runtime.send_message(Message(content=\"Hello, World!\"), outer_agent_id)\n",
    "await runtime.stop_when_idle()"
   ]
  },
  {
   "cell_type": "code",
   "execution_count": null,
   "id": "9f03ae4d-9b6b-4bfd-9421-14dad87c1d62",
   "metadata": {},
   "outputs": [],
   "source": []
  }
 ],
 "metadata": {
  "kernelspec": {
   "display_name": "Python 3 (ipykernel)",
   "language": "python",
   "name": "python3"
  },
  "language_info": {
   "codemirror_mode": {
    "name": "ipython",
    "version": 3
   },
   "file_extension": ".py",
   "mimetype": "text/x-python",
   "name": "python",
   "nbconvert_exporter": "python",
   "pygments_lexer": "ipython3",
   "version": "3.12.8"
  }
 },
 "nbformat": 4,
 "nbformat_minor": 5
}
