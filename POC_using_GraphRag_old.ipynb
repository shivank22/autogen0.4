{
 "cells": [
  {
   "cell_type": "markdown",
   "metadata": {},
   "source": [
    "https://microsoft.github.io/autogen/dev/reference/python/autogen_ext.tools.graphrag.html\n",
    "https://microsoft.github.io/graphrag/get_started/\n"
   ]
  },
  {
   "cell_type": "code",
   "execution_count": 7,
   "metadata": {},
   "outputs": [
    {
     "ename": "FileNotFoundError",
     "evalue": "Config file not found: settings.yaml",
     "output_type": "error",
     "traceback": [
      "\u001b[0;31m---------------------------------------------------------------------------\u001b[0m",
      "\u001b[0;31mFileNotFoundError\u001b[0m                         Traceback (most recent call last)",
      "Cell \u001b[0;32mIn[7], line 17\u001b[0m\n\u001b[1;32m     12\u001b[0m openai_client \u001b[38;5;241m=\u001b[39m OpenAIChatCompletionClient(\n\u001b[1;32m     13\u001b[0m     model\u001b[38;5;241m=\u001b[39m\u001b[38;5;124m\"\u001b[39m\u001b[38;5;124mgpt-4o-mini\u001b[39m\u001b[38;5;124m\"\u001b[39m\n\u001b[1;32m     14\u001b[0m )\n\u001b[1;32m     16\u001b[0m \u001b[38;5;66;03m# Set up global search tool\u001b[39;00m\n\u001b[0;32m---> 17\u001b[0m global_tool \u001b[38;5;241m=\u001b[39m \u001b[43mGlobalSearchTool\u001b[49m\u001b[38;5;241;43m.\u001b[39;49m\u001b[43mfrom_settings\u001b[49m\u001b[43m(\u001b[49m\u001b[43msettings_path\u001b[49m\u001b[38;5;241;43m=\u001b[39;49m\u001b[38;5;124;43m\"\u001b[39;49m\u001b[38;5;124;43m./settings.yaml\u001b[39;49m\u001b[38;5;124;43m\"\u001b[39;49m\u001b[43m)\u001b[49m\n\u001b[1;32m     18\u001b[0m local_tool \u001b[38;5;241m=\u001b[39m LocalSearchTool\u001b[38;5;241m.\u001b[39mfrom_settings(settings_path\u001b[38;5;241m=\u001b[39m\u001b[38;5;124m\"\u001b[39m\u001b[38;5;124m./settings.yaml\u001b[39m\u001b[38;5;124m\"\u001b[39m)\n\u001b[1;32m     20\u001b[0m \u001b[38;5;66;03m# Create assistant agent with the global search tool\u001b[39;00m\n",
      "File \u001b[0;32m~/miniconda3/envs/autogen0.4/lib/python3.12/site-packages/autogen_ext/tools/graphrag/_global_search.py:195\u001b[0m, in \u001b[0;36mGlobalSearchTool.from_settings\u001b[0;34m(cls, settings_path)\u001b[0m\n\u001b[1;32m    186\u001b[0m \u001b[38;5;250m\u001b[39m\u001b[38;5;124;03m\"\"\"Create a GlobalSearchTool instance from GraphRAG settings file.\u001b[39;00m\n\u001b[1;32m    187\u001b[0m \n\u001b[1;32m    188\u001b[0m \u001b[38;5;124;03mArgs:\u001b[39;00m\n\u001b[0;32m   (...)\u001b[0m\n\u001b[1;32m    192\u001b[0m \u001b[38;5;124;03m    An initialized GlobalSearchTool instance\u001b[39;00m\n\u001b[1;32m    193\u001b[0m \u001b[38;5;124;03m\"\"\"\u001b[39;00m\n\u001b[1;32m    194\u001b[0m \u001b[38;5;66;03m# Load GraphRAG config\u001b[39;00m\n\u001b[0;32m--> 195\u001b[0m config \u001b[38;5;241m=\u001b[39m \u001b[43mload_config_from_file\u001b[49m\u001b[43m(\u001b[49m\u001b[43msettings_path\u001b[49m\u001b[43m)\u001b[49m\n\u001b[1;32m    197\u001b[0m \u001b[38;5;66;03m# Initialize token encoder\u001b[39;00m\n\u001b[1;32m    198\u001b[0m token_encoder \u001b[38;5;241m=\u001b[39m tiktoken\u001b[38;5;241m.\u001b[39mget_encoding(config\u001b[38;5;241m.\u001b[39mencoding_model)\n",
      "File \u001b[0;32m~/miniconda3/envs/autogen0.4/lib/python3.12/site-packages/graphrag/config/config_file_loader.py:179\u001b[0m, in \u001b[0;36mload_config_from_file\u001b[0;34m(config_path)\u001b[0m\n\u001b[1;32m    158\u001b[0m \u001b[38;5;250m\u001b[39m\u001b[38;5;124;03m\"\"\"Load a configuration from a file.\u001b[39;00m\n\u001b[1;32m    159\u001b[0m \n\u001b[1;32m    160\u001b[0m \u001b[38;5;124;03mParameters\u001b[39;00m\n\u001b[0;32m   (...)\u001b[0m\n\u001b[1;32m    176\u001b[0m \u001b[38;5;124;03m    If the config file is not found.\u001b[39;00m\n\u001b[1;32m    177\u001b[0m \u001b[38;5;124;03m\"\"\"\u001b[39;00m\n\u001b[1;32m    178\u001b[0m loader \u001b[38;5;241m=\u001b[39m get_config_file_loader(config_path)\n\u001b[0;32m--> 179\u001b[0m \u001b[38;5;28;01mreturn\u001b[39;00m \u001b[43mloader\u001b[49m\u001b[38;5;241;43m.\u001b[39;49m\u001b[43mload_config\u001b[49m\u001b[43m(\u001b[49m\u001b[43mconfig_path\u001b[49m\u001b[43m)\u001b[49m\n",
      "File \u001b[0;32m~/miniconda3/envs/autogen0.4/lib/python3.12/site-packages/graphrag/config/config_file_loader.py:85\u001b[0m, in \u001b[0;36mConfigYamlLoader.load_config\u001b[0;34m(self, config_path)\u001b[0m\n\u001b[1;32m     83\u001b[0m \u001b[38;5;28;01mif\u001b[39;00m \u001b[38;5;129;01mnot\u001b[39;00m config_path\u001b[38;5;241m.\u001b[39mis_file():\n\u001b[1;32m     84\u001b[0m     msg \u001b[38;5;241m=\u001b[39m \u001b[38;5;124mf\u001b[39m\u001b[38;5;124m\"\u001b[39m\u001b[38;5;124mConfig file not found: \u001b[39m\u001b[38;5;132;01m{\u001b[39;00mconfig_path\u001b[38;5;132;01m}\u001b[39;00m\u001b[38;5;124m\"\u001b[39m\n\u001b[0;32m---> 85\u001b[0m     \u001b[38;5;28;01mraise\u001b[39;00m \u001b[38;5;167;01mFileNotFoundError\u001b[39;00m(msg)\n\u001b[1;32m     86\u001b[0m \u001b[38;5;28;01mwith\u001b[39;00m config_path\u001b[38;5;241m.\u001b[39mopen(\u001b[38;5;124m\"\u001b[39m\u001b[38;5;124mrb\u001b[39m\u001b[38;5;124m\"\u001b[39m) \u001b[38;5;28;01mas\u001b[39;00m file:\n\u001b[1;32m     87\u001b[0m     data \u001b[38;5;241m=\u001b[39m yaml\u001b[38;5;241m.\u001b[39msafe_load(file\u001b[38;5;241m.\u001b[39mread()\u001b[38;5;241m.\u001b[39mdecode(encoding\u001b[38;5;241m=\u001b[39m\u001b[38;5;124m\"\u001b[39m\u001b[38;5;124mutf-8\u001b[39m\u001b[38;5;124m\"\u001b[39m, errors\u001b[38;5;241m=\u001b[39m\u001b[38;5;124m\"\u001b[39m\u001b[38;5;124mstrict\u001b[39m\u001b[38;5;124m\"\u001b[39m))\n",
      "\u001b[0;31mFileNotFoundError\u001b[0m: Config file not found: settings.yaml"
     ]
    }
   ],
   "source": [
    "# %pip install python-dotenv autogen_ext autogen_agentchat\n",
    "\n",
    "from dotenv import load_dotenv\n",
    "load_dotenv()\n",
    "import asyncio\n",
    "from autogen_ext.models.openai import OpenAIChatCompletionClient\n",
    "from autogen_agentchat.ui import Console\n",
    "from autogen_ext.tools.graphrag import GlobalSearchTool, LocalSearchTool\n",
    "from autogen_agentchat.agents import AssistantAgent\n",
    "\n",
    "# Initialize the OpenAI client\n",
    "openai_client = OpenAIChatCompletionClient(\n",
    "    model=\"gpt-4o-mini\"\n",
    ")\n",
    "\n",
    "# Set up global search tool\n",
    "global_tool = GlobalSearchTool.from_settings(settings_path=\"./settings.yaml\")\n",
    "local_tool = LocalSearchTool.from_settings(settings_path=\"./settings.yaml\")\n",
    "\n",
    "# Create assistant agent with the global search tool\n",
    "assistant_agent = AssistantAgent(\n",
    "    name=\"search_assistant\",\n",
    "    tools=[global_tool,local_tool],\n",
    "    model_client=openai_client,\n",
    "    system_message=(\n",
    "        \"\"\"You are a tool selector AI assistant using the GraphRAG framework. \n",
    "        Your primary task is to determine the appropriate search tool to call based on the user's query. \n",
    "        For broader, abstract questions requiring a comprehensive understanding of the dataset, call the 'global_search' function.\n",
    "        For specific questions requiring a detailed, local search, call the 'local_search' function\n",
    "        VMdata below is metadata for the VMs\n",
    "    1. VM -> Name of the virtual machine.\n",
    "    2. State -> Indicates whether the VM is ON or OFF.\n",
    "    3. Status -> Describes the VM's condition (Normal or Special).\n",
    "    4. Host -> The physical server hosting the VM.\n",
    "    5. Cluster -> The group of hosts managing the VM.\n",
    "    6. Provisioned_Space -> Total storage allocated to the VM.\n",
    "    7. Used_Space -> Storage currently used by the VM.\n",
    "    8. HostCPU -> CPU allocation on the host machine.\n",
    "    9. HostMem -> Memory allocated to the VM.\n",
    "    10. KN_SNC_DT -> Known since date of the VM record.\n",
    "    11. Decom_date -> Planned decommissioning date of the VM.\"\"\"\n",
    "    ),\n",
    ")\n"
   ]
  },
  {
   "cell_type": "code",
   "execution_count": 3,
   "metadata": {},
   "outputs": [
    {
     "name": "stdout",
     "output_type": "stream",
     "text": [
      "{'VM': {0: 'app96.kwbc.net', 1: 'test55.kwbc.net', 2: 'test48.kwbc.net', 3: 'db60.kwbc.net', 4: 'dev54.kwbc.net', 5: 'web40.kwbc.net', 6: 'web24.kwbc.net', 7: 'backup36.kwbc.net', 8: 'infra10.kwbc.net', 9: 'app90.kwbc.net', 10: 'db40.kwbc.net', 11: 'backup78.kwbc.net', 12: 'web21.kwbc.net', 13: 'dev49.kwbc.net', 14: 'web25.kwbc.net', 15: 'web33.kwbc.net', 16: 'app14.kwbc.net', 17: 'infra32.kwbc.net', 18: 'db25.kwbc.net', 19: 'test92.kwbc.net', 20: 'infra31.kwbc.net', 21: 'dev75.kwbc.net', 22: 'infra11.kwbc.net', 23: 'web6.kwbc.net', 24: 'test16.kwbc.net', 25: 'app83.kwbc.net', 26: 'web22.kwbc.net', 27: 'infra35.kwbc.net', 28: 'test70.kwbc.net', 29: 'app52.kwbc.net', 30: 'infra50.kwbc.net', 31: 'test15.kwbc.net', 32: 'dev43.kwbc.net', 33: 'backup18.kwbc.net', 34: 'app58.kwbc.net', 35: 'db99.kwbc.net', 36: 'db96.kwbc.net', 37: 'db13.kwbc.net', 38: 'infra38.kwbc.net', 39: 'infra65.kwbc.net', 40: 'app81.kwbc.net', 41: 'infra81.kwbc.net', 42: 'web6.kwbc.net', 43: 'backup69.kwbc.net', 44: 'app86.kwbc.net', 45: 'app52.kwbc.net', 46: 'app78.kwbc.net', 47: 'infra63.kwbc.net', 48: 'dev51.kwbc.net', 49: 'app79.kwbc.net', 50: 'app91.kwbc.net', 51: 'app79.kwbc.net', 52: 'test77.kwbc.net', 53: 'backup3.kwbc.net', 54: 'infra23.kwbc.net', 55: 'app82.kwbc.net', 56: 'app82.kwbc.net', 57: 'dev67.kwbc.net', 58: 'test97.kwbc.net', 59: 'infra75.kwbc.net', 60: 'db40.kwbc.net', 61: 'test21.kwbc.net', 62: 'db87.kwbc.net', 63: 'dev74.kwbc.net', 64: 'app55.kwbc.net', 65: 'dev42.kwbc.net', 66: 'infra42.kwbc.net', 67: 'db36.kwbc.net', 68: 'test88.kwbc.net', 69: 'test53.kwbc.net', 70: 'web64.kwbc.net', 71: 'infra45.kwbc.net', 72: 'web65.kwbc.net', 73: 'db41.kwbc.net', 74: 'test89.kwbc.net', 75: 'dev93.kwbc.net', 76: 'infra31.kwbc.net', 77: 'app17.kwbc.net', 78: 'test13.kwbc.net', 79: 'web54.kwbc.net', 80: 'infra52.kwbc.net', 81: 'infra74.kwbc.net', 82: 'infra35.kwbc.net', 83: 'backup18.kwbc.net', 84: 'test67.kwbc.net', 85: 'web4.kwbc.net', 86: 'web83.kwbc.net', 87: 'dev47.kwbc.net', 88: 'app86.kwbc.net', 89: 'dev4.kwbc.net', 90: 'test53.kwbc.net', 91: 'dev23.kwbc.net', 92: 'db99.kwbc.net', 93: 'dev44.kwbc.net', 94: 'infra44.kwbc.net', 95: 'backup98.kwbc.net', 96: 'infra44.kwbc.net', 97: 'test66.kwbc.net', 98: 'infra59.kwbc.net', 99: 'dev75.kwbc.net'}, 'State': {0: 'OFF', 1: 'OFF', 2: 'ON', 3: 'OFF', 4: 'OFF', 5: 'ON', 6: 'ON', 7: 'ON', 8: 'OFF', 9: 'OFF', 10: 'ON', 11: 'OFF', 12: 'ON', 13: 'ON', 14: 'OFF', 15: 'ON', 16: 'OFF', 17: 'ON', 18: 'ON', 19: 'OFF', 20: 'ON', 21: 'ON', 22: 'OFF', 23: 'ON', 24: 'ON', 25: 'ON', 26: 'OFF', 27: 'OFF', 28: 'ON', 29: 'OFF', 30: 'ON', 31: 'ON', 32: 'OFF', 33: 'OFF', 34: 'OFF', 35: 'OFF', 36: 'ON', 37: 'ON', 38: 'ON', 39: 'ON', 40: 'ON', 41: 'ON', 42: 'OFF', 43: 'ON', 44: 'ON', 45: 'OFF', 46: 'ON', 47: 'OFF', 48: 'OFF', 49: 'ON', 50: 'ON', 51: 'ON', 52: 'ON', 53: 'OFF', 54: 'ON', 55: 'ON', 56: 'OFF', 57: 'ON', 58: 'ON', 59: 'OFF', 60: 'OFF', 61: 'ON', 62: 'OFF', 63: 'ON', 64: 'OFF', 65: 'ON', 66: 'ON', 67: 'OFF', 68: 'ON', 69: 'OFF', 70: 'OFF', 71: 'ON', 72: 'OFF', 73: 'OFF', 74: 'ON', 75: 'OFF', 76: 'OFF', 77: 'OFF', 78: 'ON', 79: 'ON', 80: 'ON', 81: 'ON', 82: 'OFF', 83: 'OFF', 84: 'OFF', 85: 'ON', 86: 'OFF', 87: 'ON', 88: 'OFF', 89: 'OFF', 90: 'ON', 91: 'ON', 92: 'OFF', 93: 'OFF', 94: 'OFF', 95: 'OFF', 96: 'ON', 97: 'OFF', 98: 'OFF', 99: 'OFF'}, 'Status': {0: 'Normal', 1: 'Normal', 2: 'Special', 3: 'Normal', 4: 'Normal', 5: 'Special', 6: 'Special', 7: 'Special', 8: 'Special', 9: 'Normal', 10: 'Special', 11: 'Special', 12: 'Normal', 13: 'Normal', 14: 'Normal', 15: 'Normal', 16: 'Special', 17: 'Normal', 18: 'Normal', 19: 'Special', 20: 'Normal', 21: 'Normal', 22: 'Special', 23: 'Normal', 24: 'Normal', 25: 'Special', 26: 'Special', 27: 'Special', 28: 'Special', 29: 'Special', 30: 'Special', 31: 'Normal', 32: 'Special', 33: 'Special', 34: 'Normal', 35: 'Normal', 36: 'Normal', 37: 'Normal', 38: 'Normal', 39: 'Normal', 40: 'Normal', 41: 'Special', 42: 'Special', 43: 'Special', 44: 'Special', 45: 'Special', 46: 'Normal', 47: 'Special', 48: 'Normal', 49: 'Special', 50: 'Special', 51: 'Normal', 52: 'Special', 53: 'Normal', 54: 'Special', 55: 'Special', 56: 'Special', 57: 'Normal', 58: 'Normal', 59: 'Normal', 60: 'Normal', 61: 'Normal', 62: 'Special', 63: 'Normal', 64: 'Normal', 65: 'Special', 66: 'Special', 67: 'Normal', 68: 'Normal', 69: 'Special', 70: 'Normal', 71: 'Special', 72: 'Special', 73: 'Normal', 74: 'Special', 75: 'Normal', 76: 'Special', 77: 'Normal', 78: 'Normal', 79: 'Special', 80: 'Special', 81: 'Normal', 82: 'Special', 83: 'Special', 84: 'Normal', 85: 'Normal', 86: 'Special', 87: 'Normal', 88: 'Special', 89: 'Normal', 90: 'Special', 91: 'Normal', 92: 'Normal', 93: 'Normal', 94: 'Normal', 95: 'Normal', 96: 'Normal', 97: 'Normal', 98: 'Normal', 99: 'Special'}, 'Host': {0: 'ijkl87.uxe.proxy.bet', 1: 'ijkl87.uxe.proxy.bet', 2: 'ijkl87.uxe.proxy.bet', 3: 'ijkl87.uxe.proxy.bet', 4: 'ijkl87.uxe.proxy.bet', 5: 'ijkl87.uxe.proxy.bet', 6: 'ijkl87.uxe.proxy.bet', 7: 'ijkl87.uxe.proxy.bet', 8: 'ijkl87.uxe.proxy.bet', 9: 'ijkl87.uxe.proxy.bet', 10: 'ijkl87.uxe.proxy.bet', 11: 'ijkl87.uxe.proxy.bet', 12: 'ijkl87.uxe.proxy.bet', 13: 'ijkl87.uxe.proxy.bet', 14: 'ijkl87.uxe.proxy.bet', 15: 'ijkl87.uxe.proxy.bet', 16: 'ijkl87.uxe.proxy.bet', 17: 'ijkl87.uxe.proxy.bet', 18: 'ijkl87.uxe.proxy.bet', 19: 'ijkl96.uxe.proxy.bet', 20: 'ijkl96.uxe.proxy.bet', 21: 'ijkl96.uxe.proxy.bet', 22: 'ijkl96.uxe.proxy.bet', 23: 'ijkl96.uxe.proxy.bet', 24: 'ijkl96.uxe.proxy.bet', 25: 'ijkl96.uxe.proxy.bet', 26: 'ijkl96.uxe.proxy.bet', 27: 'ijkl96.uxe.proxy.bet', 28: 'ijkl96.uxe.proxy.bet', 29: 'ijkl96.uxe.proxy.bet', 30: 'ijkl39.uxe.proxy.bet', 31: 'ijkl39.uxe.proxy.bet', 32: 'ijkl39.uxe.proxy.bet', 33: 'ijkl39.uxe.proxy.bet', 34: 'ijkl39.uxe.proxy.bet', 35: 'ijkl39.uxe.proxy.bet', 36: 'ijkl39.uxe.proxy.bet', 37: 'ijkl58.uxe.proxy.bet', 38: 'ijkl70.uxe.proxy.bet', 39: 'ijkl70.uxe.proxy.bet', 40: 'ijkl70.uxe.proxy.bet', 41: 'ijkl70.uxe.proxy.bet', 42: 'ijkl70.uxe.proxy.bet', 43: 'ijkl70.uxe.proxy.bet', 44: 'ijkl23.uxe.proxy.bet', 45: 'ijkl55.uxe.proxy.bet', 46: 'ijkl99.uxe.proxy.bet', 47: 'ijkl23.uxe.proxy.bet', 48: 'ijkl73.uxe.proxy.bet', 49: 'ijkl73.uxe.proxy.bet', 50: 'ijkl73.uxe.proxy.bet', 51: 'ijkl73.uxe.proxy.bet', 52: 'ijkl73.uxe.proxy.bet', 53: 'ijkl73.uxe.proxy.bet', 54: 'ijkl73.uxe.proxy.bet', 55: 'ijkl73.uxe.proxy.bet', 56: 'ijkl73.uxe.proxy.bet', 57: 'ijkl73.uxe.proxy.bet', 58: 'ijkl73.uxe.proxy.bet', 59: 'ijkl31.uxe.proxy.bet', 60: 'ijkl87.uxe.proxy.bet', 61: 'ijkl89.uxe.proxy.bet', 62: 'ijkl23.uxe.proxy.bet', 63: 'ijkl23.uxe.proxy.bet', 64: 'ijkl23.uxe.proxy.bet', 65: 'ijkl23.uxe.proxy.bet', 66: 'ijkl23.uxe.proxy.bet', 67: 'ijkl23.uxe.proxy.bet', 68: 'ijkl23.uxe.proxy.bet', 69: 'ijkl23.uxe.proxy.bet', 70: 'ijkl23.uxe.proxy.bet', 71: 'ijkl23.uxe.proxy.bet', 72: 'ijkl23.uxe.proxy.bet', 73: 'ijkl23.uxe.proxy.bet', 74: 'ijkl23.uxe.proxy.bet', 75: 'ijkl23.uxe.proxy.bet', 76: 'ijkl23.uxe.proxy.bet', 77: 'ijkl23.uxe.proxy.bet', 78: 'ijkl23.uxe.proxy.bet', 79: 'ijkl23.uxe.proxy.bet', 80: 'ijkl44.uxe.proxy.bet', 81: 'ijkl44.uxe.proxy.bet', 82: 'ijkl44.uxe.proxy.bet', 83: 'ijkl44.uxe.proxy.bet', 84: 'ijkl44.uxe.proxy.bet', 85: 'ijkl44.uxe.proxy.bet', 86: 'ijkl44.uxe.proxy.bet', 87: 'ijkl44.uxe.proxy.bet', 88: 'ijkl58.uxe.proxy.bet', 89: 'ijkl58.uxe.proxy.bet', 90: 'ijkl58.uxe.proxy.bet', 91: 'ijkl58.uxe.proxy.bet', 92: 'ijkl58.uxe.proxy.bet', 93: 'ijkl58.uxe.proxy.bet', 94: 'ijkl58.uxe.proxy.bet', 95: 'ijkl58.uxe.proxy.bet', 96: 'ijkl58.uxe.proxy.bet', 97: 'ijkl58.uxe.proxy.bet', 98: 'ijkl58.uxe.proxy.bet', 99: 'ijkl58.uxe.proxy.bet'}, 'Cluster': {0: 'KWQPOZXT9753', 1: 'KWQPOZXT9753', 2: 'KWQPOZXT9753', 3: 'KWQPOZXT9753', 4: 'KWQPOZXT9753', 5: 'KWQPOZXT9753', 6: 'KWQPOZXT9753', 7: 'KWQPOZXT9753', 8: 'KWQPOZXT9753', 9: 'KWQPOZXT9753', 10: 'KWQPOZXT9753', 11: 'KWQPOZXT9753', 12: 'KWQPOZXT9753', 13: 'KWQPOZXT9753', 14: 'KWQPOZXT9753', 15: 'KWQPOZXT9753', 16: 'KWQPOZXT9753', 17: 'KWQPOZXT9753', 18: 'KWQPOZXT9753', 19: 'KWQPOZXT9753', 20: 'KWQPOZXT9753', 21: 'KWQPOZXT9753', 22: 'KWQPOZXT9753', 23: 'KWQPOZXT9753', 24: 'KWQPOZXT9753', 25: 'KWQPOZXT9753', 26: 'KWQPOZXT9753', 27: 'KWQPOZXT9753', 28: 'KWQPOZXT9753', 29: 'KWQPOZXT9753', 30: 'KWQPOZXT9753', 31: 'KWQPOZXT9753', 32: 'KWQPOZXT9753', 33: 'KWQPOZXT9753', 34: 'KWQPOZXT9753', 35: 'KWQPOZXT9753', 36: 'KWQPOZXT9753', 37: 'KWQPOZXT9753', 38: 'KWQPOZXT9422', 39: 'KWQPOZXT9422', 40: 'KWQPOZXT9422', 41: 'KWQPOZXT9422', 42: 'KWQPOZXT9422', 43: 'KWQPOZXT9422', 44: 'KWQPOZXT9422', 45: 'KWQPOZXT9422', 46: 'KWQPOZXT9422', 47: 'KWQPOZXT9422', 48: 'KWQPOZXT9422', 49: 'KWQPOZXT9422', 50: 'KWQPOZXT9422', 51: 'KWQPOZXT9422', 52: 'KWQPOZXT9422', 53: 'KWQPOZXT9422', 54: 'KWQPOZXT9422', 55: 'KWQPOZXT9422', 56: 'KWQPOZXT9422', 57: 'KWQPOZXT9422', 58: 'KWQPOZXT9422', 59: 'KWQPOZXT9422', 60: 'KWQPOZXT9422', 61: 'KWQPOZXT9422', 62: 'KWQPOZXT9422', 63: 'KWQPOZXT9422', 64: 'KWQPOZXT9422', 65: 'KWQPOZXT9422', 66: 'KWQPOZXT9422', 67: 'KWQPOZXT9422', 68: 'KWQPOZXT9422', 69: 'KWQPOZXT9422', 70: 'KWQPOZXT9422', 71: 'KWQPOZXT9422', 72: 'KWQPOZXT9422', 73: 'KWQPOZXT9422', 74: 'KWQPOZXT9422', 75: 'KWQPOZXT9422', 76: 'KWQPOZXT9422', 77: 'KWQPOZXT9422', 78: 'KWQPOZXT9422', 79: 'KWQPOZXT9422', 80: 'KWQPOZXT9422', 81: 'KWQPOZXT9422', 82: 'KWQPOZXT9422', 83: 'KWQPOZXT9422', 84: 'KWQPOZXT9422', 85: 'KWQPOZXT9422', 86: 'KWQPOZXT9422', 87: 'KWQPOZXT9967', 88: 'KWQPOZXT9967', 89: 'KWQPOZXT9967', 90: 'KWQPOZXT9967', 91: 'KWQPOZXT9967', 92: 'KWQPOZXT9967', 93: 'KWQPOZXT9967', 94: 'KWQPOZXT9967', 95: 'KWQPOZXT9967', 96: 'KWQPOZXT9967', 97: 'KWQPOZXT9967', 98: 'KWQPOZXT9967', 99: 'KWQPOZXT9967'}, 'Provisioned_Space': {0: '4TB', 1: '2TB', 2: '3TB', 3: '4TB', 4: '4TB', 5: '4TB', 6: '3TB', 7: '4TB', 8: '2TB', 9: '3TB', 10: '3TB', 11: '2TB', 12: '2TB', 13: '2TB', 14: '1TB', 15: '3TB', 16: '2TB', 17: '2TB', 18: '2TB', 19: '1TB', 20: '2TB', 21: '2TB', 22: '1TB', 23: '3TB', 24: '3TB', 25: '2TB', 26: '4TB', 27: '2TB', 28: '1TB', 29: '4TB', 30: '4TB', 31: '2TB', 32: '4TB', 33: '1TB', 34: '4TB', 35: '1TB', 36: '4TB', 37: '3TB', 38: '4TB', 39: '4TB', 40: '1TB', 41: '3TB', 42: '2TB', 43: '4TB', 44: '1TB', 45: '2TB', 46: '4TB', 47: '4TB', 48: '3TB', 49: '1TB', 50: '4TB', 51: '1TB', 52: '2TB', 53: '1TB', 54: '1TB', 55: '4TB', 56: '3TB', 57: '1TB', 58: '1TB', 59: '3TB', 60: '4TB', 61: '3TB', 62: '2TB', 63: '3TB', 64: '1TB', 65: '1TB', 66: '3TB', 67: '2TB', 68: '1TB', 69: '3TB', 70: '3TB', 71: '3TB', 72: '3TB', 73: '3TB', 74: '2TB', 75: '2TB', 76: '3TB', 77: '4TB', 78: '1TB', 79: '2TB', 80: '3TB', 81: '3TB', 82: '2TB', 83: '2TB', 84: '1TB', 85: '4TB', 86: '1TB', 87: '3TB', 88: '1TB', 89: '2TB', 90: '3TB', 91: '3TB', 92: '2TB', 93: '1TB', 94: '3TB', 95: '4TB', 96: '4TB', 97: '2TB', 98: '4TB', 99: '2TB'}, 'Used_Space': {0: '3.46TB', 1: '0.33TB', 2: '1.99TB', 3: '2.84TB', 4: '2.61TB', 5: '0.49TB', 6: '1.71TB', 7: '2.94TB', 8: '1.73TB', 9: '2.07TB', 10: '0.92TB', 11: '0.33TB', 12: '0.63TB', 13: '0.40TB', 14: '0.73TB', 15: '0.55TB', 16: '1.21TB', 17: '1.63TB', 18: '1.63TB', 19: '0.38TB', 20: '0.77TB', 21: '0.69TB', 22: '0.77TB', 23: '1.53TB', 24: '1.57TB', 25: '0.39TB', 26: '3.20TB', 27: '0.84TB', 28: '0.22TB', 29: '1.37TB', 30: '1.90TB', 31: '0.44TB', 32: '1.92TB', 33: '0.12TB', 34: '2.26TB', 35: '0.61TB', 36: '0.59TB', 37: '0.52TB', 38: '1.30TB', 39: '3.45TB', 40: '0.62TB', 41: '2.11TB', 42: '1.26TB', 43: '2.06TB', 44: '0.13TB', 45: '1.07TB', 46: '1.17TB', 47: '1.08TB', 48: '1.82TB', 49: '0.79TB', 50: '2.72TB', 51: '0.85TB', 52: '0.59TB', 53: '0.36TB', 54: '0.25TB', 55: '2.43TB', 56: '2.06TB', 57: '0.68TB', 58: '0.61TB', 59: '1.41TB', 60: '1.56TB', 61: '2.62TB', 62: '0.60TB', 63: '2.07TB', 64: '0.20TB', 65: '0.31TB', 66: '1.22TB', 67: '1.44TB', 68: '0.75TB', 69: '0.79TB', 70: '1.93TB', 71: '0.64TB', 72: '2.30TB', 73: '0.86TB', 74: '1.06TB', 75: '1.62TB', 76: '0.77TB', 77: '0.41TB', 78: '0.47TB', 79: '0.53TB', 80: '1.70TB', 81: '1.13TB', 82: '0.35TB', 83: '0.44TB', 84: '0.28TB', 85: '1.29TB', 86: '0.35TB', 87: '1.59TB', 88: '0.70TB', 89: '0.77TB', 90: '0.96TB', 91: '1.53TB', 92: '0.66TB', 93: '0.22TB', 94: '2.57TB', 95: '3.60TB', 96: '0.59TB', 97: '1.10TB', 98: '3.15TB', 99: '0.50TB'}, 'HostCPU': {0: '301 MHz', 1: '402 MHz', 2: '257 MHz', 3: '458 MHz', 4: '334 MHz', 5: '293 MHz', 6: '411 MHz', 7: '336 MHz', 8: '436 MHz', 9: '380 MHz', 10: '330 MHz', 11: '218 MHz', 12: '407 MHz', 13: '286 MHz', 14: '448 MHz', 15: '483 MHz', 16: '235 MHz', 17: '341 MHz', 18: '415 MHz', 19: '340 MHz', 20: '406 MHz', 21: '201 MHz', 22: '311 MHz', 23: '263 MHz', 24: '269 MHz', 25: '484 MHz', 26: '368 MHz', 27: '389 MHz', 28: '480 MHz', 29: '225 MHz', 30: '295 MHz', 31: '303 MHz', 32: '271 MHz', 33: '255 MHz', 34: '454 MHz', 35: '323 MHz', 36: '231 MHz', 37: '331 MHz', 38: '205 MHz', 39: '465 MHz', 40: '339 MHz', 41: '459 MHz', 42: '212 MHz', 43: '365 MHz', 44: '482 MHz', 45: '499 MHz', 46: '222 MHz', 47: '261 MHz', 48: '479 MHz', 49: '476 MHz', 50: '447 MHz', 51: '251 MHz', 52: '470 MHz', 53: '431 MHz', 54: '392 MHz', 55: '238 MHz', 56: '372 MHz', 57: '496 MHz', 58: '445 MHz', 59: '463 MHz', 60: '281 MHz', 61: '343 MHz', 62: '314 MHz', 63: '451 MHz', 64: '269 MHz', 65: '237 MHz', 66: '245 MHz', 67: '288 MHz', 68: '470 MHz', 69: '285 MHz', 70: '352 MHz', 71: '457 MHz', 72: '306 MHz', 73: '278 MHz', 74: '267 MHz', 75: '394 MHz', 76: '456 MHz', 77: '224 MHz', 78: '399 MHz', 79: '406 MHz', 80: '484 MHz', 81: '301 MHz', 82: '204 MHz', 83: '272 MHz', 84: '447 MHz', 85: '222 MHz', 86: '349 MHz', 87: '397 MHz', 88: '469 MHz', 89: '409 MHz', 90: '494 MHz', 91: '284 MHz', 92: '207 MHz', 93: '437 MHz', 94: '465 MHz', 95: '471 MHz', 96: '261 MHz', 97: '428 MHz', 98: '304 MHz', 99: '378 MHz'}, 'HostMem': {0: '9.14 GB', 1: '10.44 GB', 2: '23.08 GB', 3: '23.49 GB', 4: '12.79 GB', 5: '24.17 GB', 6: '20.88 GB', 7: '16.34 GB', 8: '14.98 GB', 9: '22.43 GB', 10: '23.73 GB', 11: '17.48 GB', 12: '15.79 GB', 13: '20.63 GB', 14: '22.97 GB', 15: '12.90 GB', 16: '27.01 GB', 17: '13.14 GB', 18: '16.99 GB', 19: '30.31 GB', 20: '14.22 GB', 21: '11.37 GB', 22: '12.07 GB', 23: '24.32 GB', 24: '29.51 GB', 25: '21.13 GB', 26: '15.88 GB', 27: '20.83 GB', 28: '10.63 GB', 29: '23.96 GB', 30: '29.45 GB', 31: '27.86 GB', 32: '25.49 GB', 33: '20.30 GB', 34: '19.81 GB', 35: '29.05 GB', 36: '22.90 GB', 37: '16.58 GB', 38: '26.27 GB', 39: '26.30 GB', 40: '11.23 GB', 41: '30.92 GB', 42: '9.73 GB', 43: '29.56 GB', 44: '30.35 GB', 45: '12.10 GB', 46: '17.60 GB', 47: '19.60 GB', 48: '29.69 GB', 49: '30.42 GB', 50: '22.11 GB', 51: '16.01 GB', 52: '28.98 GB', 53: '23.57 GB', 54: '31.49 GB', 55: '12.58 GB', 56: '11.13 GB', 57: '13.91 GB', 58: '12.43 GB', 59: '27.50 GB', 60: '20.35 GB', 61: '13.07 GB', 62: '22.00 GB', 63: '9.66 GB', 64: '19.41 GB', 65: '24.69 GB', 66: '26.78 GB', 67: '15.88 GB', 68: '9.11 GB', 69: '25.08 GB', 70: '24.00 GB', 71: '17.18 GB', 72: '8.23 GB', 73: '24.73 GB', 74: '11.52 GB', 75: '19.72 GB', 76: '16.76 GB', 77: '11.43 GB', 78: '28.34 GB', 79: '30.98 GB', 80: '16.80 GB', 81: '9.96 GB', 82: '11.75 GB', 83: '11.90 GB', 84: '28.39 GB', 85: '25.12 GB', 86: '22.92 GB', 87: '19.51 GB', 88: '24.29 GB', 89: '12.41 GB', 90: '10.12 GB', 91: '28.27 GB', 92: '26.51 GB', 93: '16.40 GB', 94: '30.43 GB', 95: '14.31 GB', 96: '14.69 GB', 97: '10.95 GB', 98: '11.08 GB', 99: '18.64 GB'}, 'KN_SNC_DT': {0: 20221201, 1: 20200427, 2: 20220220, 3: 20240803, 4: 20211120, 5: 20240121, 6: 20201120, 7: 20210924, 8: 20200508, 9: 20210422, 10: 20210324, 11: 20230102, 12: 20200430, 13: 20240513, 14: 20230212, 15: 20240108, 16: 20230115, 17: 20221125, 18: 20240901, 19: 20220116, 20: 20230508, 21: 20241119, 22: 20201026, 23: 20220320, 24: 20220219, 25: 20221005, 26: 20200923, 27: 20220212, 28: 20200629, 29: 20220531, 30: 20210818, 31: 20231211, 32: 20230604, 33: 20221231, 34: 20241021, 35: 20210803, 36: 20220822, 37: 20210307, 38: 20201029, 39: 20220524, 40: 20220506, 41: 20230327, 42: 20211106, 43: 20241128, 44: 20220514, 45: 20210324, 46: 20200725, 47: 20220323, 48: 20230808, 49: 20210524, 50: 20230816, 51: 20201202, 52: 20231115, 53: 20220712, 54: 20230524, 55: 20231009, 56: 20240220, 57: 20240814, 58: 20240313, 59: 20240403, 60: 20211027, 61: 20241030, 62: 20220914, 63: 20200119, 64: 20200910, 65: 20210223, 66: 20230510, 67: 20220622, 68: 20220702, 69: 20230906, 70: 20200415, 71: 20240715, 72: 20200222, 73: 20200127, 74: 20241215, 75: 20240608, 76: 20211013, 77: 20230605, 78: 20210122, 79: 20210516, 80: 20230615, 81: 20230613, 82: 20211129, 83: 20220104, 84: 20230117, 85: 20210705, 86: 20220407, 87: 20200110, 88: 20211127, 89: 20200914, 90: 20200315, 91: 20221024, 92: 20200807, 93: 20241122, 94: 20240228, 95: 20240412, 96: 20210516, 97: 20211119, 98: 20241029, 99: 20200404}, 'Decom_date': {0: '20250201', 1: '20250202', 2: '20250203', 3: '20250204', 4: '20250205', 5: '20250206', 6: '20250207', 7: '20250208', 8: '20250209', 9: '20250210', 10: '20250211', 11: '20250212', 12: '20250213', 13: '20250214', 14: '20250215ss', 15: '20250216', 16: '20250217', 17: '20250218', 18: '20250219', 19: '20250220', 20: '20250221', 21: '20250222', 22: '20250223', 23: '20250224', 24: '20250225', 25: '20250226', 26: '20250227', 27: '20250228', 28: '20250301', 29: '20250302', 30: '20250303', 31: '20250304', 32: '20250305', 33: '20250306', 34: '20250307', 35: '20250308', 36: '20250309', 37: '20250310', 38: '20250311', 39: '20250312', 40: '20250313', 41: '20250314', 42: '20250315', 43: '20250316', 44: '20250317', 45: '20250318', 46: '20250319', 47: '20250320', 48: '20250321', 49: '20250322', 50: '20250323', 51: '20250324', 52: '20250325', 53: '20250326', 54: '20250327', 55: '20250328', 56: '20250329', 57: '20250330', 58: '20250331', 59: '20250401', 60: '20250402', 61: '20250403', 62: '20250404', 63: '20250405', 64: '20250406', 65: '20250407', 66: '20250408', 67: '20250409', 68: '20250410', 69: '20250411', 70: '20250412', 71: '20250413', 72: '20250414', 73: '20250415', 74: '20250416', 75: '20250417', 76: '20250418', 77: '20250419', 78: '20250420', 79: '20250421', 80: '20250422', 81: '20250423', 82: '20250424', 83: '20250425', 84: '20250426', 85: '20250427', 86: '20250428', 87: '20250429', 88: '20250430', 89: '20250501', 90: '20250502', 91: '20250503', 92: '20250504', 93: '20250505', 94: '20250506', 95: '20250507', 96: '20250508', 97: '20250509', 98: '20250510', 99: '20250511'}}\n"
     ]
    }
   ],
   "source": [
    "import pandas as pd\n",
    "\n",
    "# Load the CSV file into a dataframe\n",
    "vm_data_df = pd.read_csv('vm_data.csv')\n",
    "\n",
    "# Output the dataframe as a dictionary\n",
    "vm_data_dict = vm_data_df.to_dict()\n",
    "print(vm_data_dict)"
   ]
  },
  {
   "cell_type": "code",
   "execution_count": 4,
   "metadata": {},
   "outputs": [
    {
     "name": "stdout",
     "output_type": "stream",
     "text": [
      "                                Source  \\\n",
      "0   Cloud Serve Info, Virtual Machines   \n",
      "1   Cloud Serve Info, Virtual Machines   \n",
      "2   Cloud Serve Info, Virtual Machines   \n",
      "3   Cloud Serve Info, Virtual Machines   \n",
      "4   Cloud Serve Info, Virtual Machines   \n",
      "..                                 ...   \n",
      "95  Cloud Serve Info, Virtual Machines   \n",
      "96  Cloud Serve Info, Virtual Machines   \n",
      "97  Cloud Serve Info, Virtual Machines   \n",
      "98  Cloud Serve Info, Virtual Machines   \n",
      "99  Cloud Serve Info, Virtual Machines   \n",
      "\n",
      "                                                 Text Timestamp  \n",
      "0   VM: app96.kwbc.net, State: OFF, Status: Normal...  20250204  \n",
      "1   VM: test55.kwbc.net, State: OFF, Status: Norma...  20250204  \n",
      "2   VM: test48.kwbc.net, State: ON, Status: Specia...  20250204  \n",
      "3   VM: db60.kwbc.net, State: OFF, Status: Normal,...  20250204  \n",
      "4   VM: dev54.kwbc.net, State: OFF, Status: Normal...  20250204  \n",
      "..                                                ...       ...  \n",
      "95  VM: backup98.kwbc.net, State: OFF, Status: Nor...  20250204  \n",
      "96  VM: infra44.kwbc.net, State: ON, Status: Norma...  20250204  \n",
      "97  VM: test66.kwbc.net, State: OFF, Status: Norma...  20250204  \n",
      "98  VM: infra59.kwbc.net, State: OFF, Status: Norm...  20250204  \n",
      "99  VM: dev75.kwbc.net, State: OFF, Status: Specia...  20250204  \n",
      "\n",
      "[100 rows x 3 columns]\n"
     ]
    }
   ],
   "source": [
    "from datetime import datetime\n",
    "\n",
    "# Collect records in a list\n",
    "records = []\n",
    "\n",
    "for index, row in vm_data_df.iterrows():\n",
    "    record = row.to_dict()\n",
    "    record_str = ', '.join(f\"{key}: {value}\" for key, value in record.items())\n",
    "    source = \"Cloud Serve Info, Virtual Machines\"\n",
    "    timestamp = datetime.now().strftime(\"%Y%m%d\")\n",
    "    records.append({\n",
    "        \"Source\": source,\n",
    "        \"Text\": record_str,\n",
    "        \"Timestamp\": timestamp\n",
    "    })\n",
    "\n",
    "# Create a dataframe from the records\n",
    "records_df = pd.DataFrame(records)\n",
    "print(records_df)"
   ]
  },
  {
   "cell_type": "code",
   "execution_count": 5,
   "metadata": {},
   "outputs": [],
   "source": [
    "records_df.to_csv('records.csv', index=False)"
   ]
  },
  {
   "cell_type": "code",
   "execution_count": 6,
   "metadata": {},
   "outputs": [
    {
     "data": {
      "text/plain": [
       "'/Users/shivanksharma/Desktop/AI/Autogen0.4'"
      ]
     },
     "execution_count": 6,
     "metadata": {},
     "output_type": "execute_result"
    }
   ],
   "source": [
    "import os \n",
    "os.getcwd()"
   ]
  },
  {
   "cell_type": "code",
   "execution_count": null,
   "metadata": {},
   "outputs": [],
   "source": []
  }
 ],
 "metadata": {
  "kernelspec": {
   "display_name": "autogen0.4",
   "language": "python",
   "name": "python3"
  },
  "language_info": {
   "codemirror_mode": {
    "name": "ipython",
    "version": 3
   },
   "file_extension": ".py",
   "mimetype": "text/x-python",
   "name": "python",
   "nbconvert_exporter": "python",
   "pygments_lexer": "ipython3",
   "version": "3.12.8"
  }
 },
 "nbformat": 4,
 "nbformat_minor": 4
}
