{
 "cells": [
  {
   "cell_type": "code",
   "execution_count": 1,
   "id": "27063ca0-363d-4fa4-b068-caca2fe1842b",
   "metadata": {},
   "outputs": [
    {
     "data": {
      "text/plain": [
       "True"
      ]
     },
     "execution_count": 1,
     "metadata": {},
     "output_type": "execute_result"
    }
   ],
   "source": [
    "from dotenv import load_dotenv\n",
    "load_dotenv()"
   ]
  },
  {
   "cell_type": "code",
   "execution_count": 2,
   "id": "1d3dd9fd-eb82-4333-9262-9c5b815dd43d",
   "metadata": {},
   "outputs": [],
   "source": [
    "from typing import Sequence\n",
    "\n",
    "from autogen_agentchat.agents import AssistantAgent\n",
    "from autogen_agentchat.conditions import MaxMessageTermination, TextMentionTermination\n",
    "from autogen_agentchat.messages import AgentEvent, ChatMessage\n",
    "from autogen_agentchat.teams import SelectorGroupChat\n",
    "from autogen_agentchat.ui import Console\n",
    "from autogen_ext.models.openai import OpenAIChatCompletionClient"
   ]
  },
  {
   "cell_type": "code",
   "execution_count": 3,
   "id": "d7b9b004-11ce-4706-abb9-ebf8c86942de",
   "metadata": {},
   "outputs": [],
   "source": [
    "# Note: This example uses mock tools instead of real APIs for demonstration purposes\n",
    "def search_web_tool(query: str) -> str:\n",
    "    if \"2006-2007\" in query:\n",
    "        return \"\"\"Here are the total points scored by Miami Heat players in the 2006-2007 season:\n",
    "        Udonis Haslem: 844 points\n",
    "        Dwayne Wade: 1397 points\n",
    "        James Posey: 550 points\n",
    "        ...\n",
    "        \"\"\"\n",
    "    elif \"2007-2008\" in query:\n",
    "        return \"The number of total rebounds for Dwayne Wade in the Miami Heat season 2007-2008 is 214.\"\n",
    "    elif \"2008-2009\" in query:\n",
    "        return \"The number of total rebounds for Dwayne Wade in the Miami Heat season 2008-2009 is 398.\"\n",
    "    return \"No data found.\"\n",
    "\n",
    "\n",
    "def percentage_change_tool(start: float, end: float) -> float:\n",
    "    return ((end - start) / start) * 100"
   ]
  },
  {
   "cell_type": "code",
   "execution_count": 4,
   "id": "7175bc26-607d-439d-b1dd-1ccc332a5467",
   "metadata": {},
   "outputs": [],
   "source": [
    "model_client = OpenAIChatCompletionClient(model=\"gpt-4o-mini\")\n",
    "\n",
    "planning_agent = AssistantAgent(\n",
    "    \"PlanningAgent\",\n",
    "    description=\"An agent for planning tasks, this agent should be the first to engage when given a new task.\",\n",
    "    model_client=model_client,\n",
    "    system_message=\"\"\"\n",
    "    You are a planning agent.\n",
    "    Your job is to break down complex tasks into smaller, manageable subtasks.\n",
    "    Your team members are:\n",
    "        Web search agent: Searches for information\n",
    "        Data analyst: Performs calculations\n",
    "\n",
    "    You only plan and delegate tasks - you do not execute them yourself.\n",
    "\n",
    "    When assigning tasks, use this format:\n",
    "    1. <agent> : <task>\n",
    "\n",
    "    After all tasks are complete, summarize the findings and end with \"TERMINATE\".\n",
    "    \"\"\",\n",
    ")\n",
    "\n",
    "web_search_agent = AssistantAgent(\n",
    "    \"WebSearchAgent\",\n",
    "    description=\"A web search agent.\",\n",
    "    tools=[search_web_tool],\n",
    "    model_client=model_client,\n",
    "    system_message=\"\"\"\n",
    "    You are a web search agent.\n",
    "    Your only tool is search_tool - use it to find information.\n",
    "    You make only one search call at a time.\n",
    "    Once you have the results, you never do calculations based on them.\n",
    "    \"\"\",\n",
    ")\n",
    "\n",
    "data_analyst_agent = AssistantAgent(\n",
    "    \"DataAnalystAgent\",\n",
    "    description=\"A data analyst agent. Useful for performing calculations.\",\n",
    "    model_client=model_client,\n",
    "    tools=[percentage_change_tool],\n",
    "    system_message=\"\"\"\n",
    "    You are a data analyst.\n",
    "    Given the tasks you have been assigned, you should analyze the data and provide results using the tools provided.\n",
    "    \"\"\",\n",
    ")"
   ]
  },
  {
   "cell_type": "code",
   "execution_count": 5,
   "id": "9d9dbde5-b7de-4244-9174-6eae9af9fae7",
   "metadata": {},
   "outputs": [],
   "source": [
    "text_mention_termination = TextMentionTermination(\"TERMINATE\")\n",
    "max_messages_termination = MaxMessageTermination(max_messages=25)\n",
    "termination = text_mention_termination | max_messages_termination\n",
    "\n",
    "team = SelectorGroupChat(\n",
    "    [planning_agent, web_search_agent, data_analyst_agent],\n",
    "    model_client=OpenAIChatCompletionClient(model=\"gpt-4o-mini\"),\n",
    "    termination_condition=termination,\n",
    ")"
   ]
  },
  {
   "cell_type": "code",
   "execution_count": 6,
   "id": "e9e72a2a-97b6-47ad-88ab-189378b4641c",
   "metadata": {
    "scrolled": true
   },
   "outputs": [
    {
     "name": "stdout",
     "output_type": "stream",
     "text": [
      "---------- user ----------\n",
      "Who was the Miami Heat player with the highest points in the 2006-2007 season, and what was the percentage change in his total rebounds between the 2007-2008 and 2008-2009 seasons?\n",
      "---------- WebSearchAgent ----------\n",
      "[FunctionCall(id='call_P159pzIh27C0dhGFLBdEsU0K', arguments='{\"query\": \"Miami Heat highest points player 2006-2007 season\"}', name='search_web_tool'), FunctionCall(id='call_ZF7kCCq1fe57YSfBnmghywbr', arguments='{\"query\": \"Miami Heat player total rebounds 2007-2008 season stats\"}', name='search_web_tool'), FunctionCall(id='call_QRIJUrcg3QFGxN8c89vlTw1c', arguments='{\"query\": \"Miami Heat player total rebounds 2008-2009 season stats\"}', name='search_web_tool')]\n",
      "---------- WebSearchAgent ----------\n",
      "[FunctionExecutionResult(content='Here are the total points scored by Miami Heat players in the 2006-2007 season:\\n        Udonis Haslem: 844 points\\n        Dwayne Wade: 1397 points\\n        James Posey: 550 points\\n        ...\\n        ', call_id='call_P159pzIh27C0dhGFLBdEsU0K'), FunctionExecutionResult(content='The number of total rebounds for Dwayne Wade in the Miami Heat season 2007-2008 is 214.', call_id='call_ZF7kCCq1fe57YSfBnmghywbr'), FunctionExecutionResult(content='The number of total rebounds for Dwayne Wade in the Miami Heat season 2008-2009 is 398.', call_id='call_QRIJUrcg3QFGxN8c89vlTw1c')]\n",
      "---------- WebSearchAgent ----------\n",
      "Here are the total points scored by Miami Heat players in the 2006-2007 season:\n",
      "        Udonis Haslem: 844 points\n",
      "        Dwayne Wade: 1397 points\n",
      "        James Posey: 550 points\n",
      "        ...\n",
      "        \n",
      "The number of total rebounds for Dwayne Wade in the Miami Heat season 2007-2008 is 214.\n",
      "The number of total rebounds for Dwayne Wade in the Miami Heat season 2008-2009 is 398.\n",
      "---------- DataAnalystAgent ----------\n",
      "[FunctionCall(id='call_636dpmcZ7e98XyseAjjaN1f9', arguments='{\"start\": 214, \"end\": 398}', name='percentage_change_tool')]\n",
      "---------- DataAnalystAgent ----------\n",
      "[FunctionExecutionResult(content='85.98130841121495', call_id='call_636dpmcZ7e98XyseAjjaN1f9')]\n",
      "---------- DataAnalystAgent ----------\n",
      "85.98130841121495\n",
      "---------- PlanningAgent ----------\n",
      "1. Web search agent: Identify the Miami Heat player with the highest points in the 2006-2007 season.\n",
      "2. Data analyst: Calculate the percentage change in Dwayne Wade's total rebounds between the 2007-2008 and 2008-2009 seasons.\n",
      "\n",
      "Summary of findings:\n",
      "- The Miami Heat player with the highest points in the 2006-2007 season was Dwayne Wade with 1397 points.\n",
      "- The percentage change in Dwayne Wade's total rebounds from the 2007-2008 season (214) to the 2008-2009 season (398) was approximately 85.98%.\n",
      "\n",
      "TERMINATE.\n"
     ]
    },
    {
     "data": {
      "text/plain": [
       "TaskResult(messages=[TextMessage(source='user', models_usage=None, content='Who was the Miami Heat player with the highest points in the 2006-2007 season, and what was the percentage change in his total rebounds between the 2007-2008 and 2008-2009 seasons?', type='TextMessage'), ToolCallRequestEvent(source='WebSearchAgent', models_usage=RequestUsage(prompt_tokens=142, completion_tokens=97), content=[FunctionCall(id='call_P159pzIh27C0dhGFLBdEsU0K', arguments='{\"query\": \"Miami Heat highest points player 2006-2007 season\"}', name='search_web_tool'), FunctionCall(id='call_ZF7kCCq1fe57YSfBnmghywbr', arguments='{\"query\": \"Miami Heat player total rebounds 2007-2008 season stats\"}', name='search_web_tool'), FunctionCall(id='call_QRIJUrcg3QFGxN8c89vlTw1c', arguments='{\"query\": \"Miami Heat player total rebounds 2008-2009 season stats\"}', name='search_web_tool')], type='ToolCallRequestEvent'), ToolCallExecutionEvent(source='WebSearchAgent', models_usage=None, content=[FunctionExecutionResult(content='Here are the total points scored by Miami Heat players in the 2006-2007 season:\\n        Udonis Haslem: 844 points\\n        Dwayne Wade: 1397 points\\n        James Posey: 550 points\\n        ...\\n        ', call_id='call_P159pzIh27C0dhGFLBdEsU0K'), FunctionExecutionResult(content='The number of total rebounds for Dwayne Wade in the Miami Heat season 2007-2008 is 214.', call_id='call_ZF7kCCq1fe57YSfBnmghywbr'), FunctionExecutionResult(content='The number of total rebounds for Dwayne Wade in the Miami Heat season 2008-2009 is 398.', call_id='call_QRIJUrcg3QFGxN8c89vlTw1c')], type='ToolCallExecutionEvent'), ToolCallSummaryMessage(source='WebSearchAgent', models_usage=None, content='Here are the total points scored by Miami Heat players in the 2006-2007 season:\\n        Udonis Haslem: 844 points\\n        Dwayne Wade: 1397 points\\n        James Posey: 550 points\\n        ...\\n        \\nThe number of total rebounds for Dwayne Wade in the Miami Heat season 2007-2008 is 214.\\nThe number of total rebounds for Dwayne Wade in the Miami Heat season 2008-2009 is 398.', type='ToolCallSummaryMessage'), ToolCallRequestEvent(source='DataAnalystAgent', models_usage=RequestUsage(prompt_tokens=241, completion_tokens=37), content=[FunctionCall(id='call_636dpmcZ7e98XyseAjjaN1f9', arguments='{\"start\": 214, \"end\": 398}', name='percentage_change_tool')], type='ToolCallRequestEvent'), ToolCallExecutionEvent(source='DataAnalystAgent', models_usage=None, content=[FunctionExecutionResult(content='85.98130841121495', call_id='call_636dpmcZ7e98XyseAjjaN1f9')], type='ToolCallExecutionEvent'), ToolCallSummaryMessage(source='DataAnalystAgent', models_usage=None, content='85.98130841121495', type='ToolCallSummaryMessage'), TextMessage(source='PlanningAgent', models_usage=RequestUsage(prompt_tokens=284, completion_tokens=137), content=\"1. Web search agent: Identify the Miami Heat player with the highest points in the 2006-2007 season.\\n2. Data analyst: Calculate the percentage change in Dwayne Wade's total rebounds between the 2007-2008 and 2008-2009 seasons.\\n\\nSummary of findings:\\n- The Miami Heat player with the highest points in the 2006-2007 season was Dwayne Wade with 1397 points.\\n- The percentage change in Dwayne Wade's total rebounds from the 2007-2008 season (214) to the 2008-2009 season (398) was approximately 85.98%.\\n\\nTERMINATE.\", type='TextMessage')], stop_reason=\"Text 'TERMINATE' mentioned\")"
      ]
     },
     "execution_count": 6,
     "metadata": {},
     "output_type": "execute_result"
    }
   ],
   "source": [
    "task = \"Who was the Miami Heat player with the highest points in the 2006-2007 season, and what was the percentage change in his total rebounds between the 2007-2008 and 2008-2009 seasons?\"\n",
    "\n",
    "# Use asyncio.run(...) if you are running this in a script.\n",
    "await Console(team.run_stream(task=task))"
   ]
  },
  {
   "cell_type": "code",
   "execution_count": 7,
   "id": "48e47b37-73ab-4359-a032-b0d71f9056a7",
   "metadata": {},
   "outputs": [
    {
     "name": "stdout",
     "output_type": "stream",
     "text": [
      "---------- user ----------\n",
      "Who was the Miami Heat player with the highest points in the 2006-2007 season, and what was the percentage change in his total rebounds between the 2007-2008 and 2008-2009 seasons?\n",
      "---------- PlanningAgent ----------\n",
      "To accomplish this task, I will break it down into manageable subtasks:\n",
      "\n",
      "1. Web search agent: Find out which Miami Heat player scored the highest points in the 2006-2007 season.\n",
      "2. Data analyst: Gather the total rebounds for the identified player in the 2007-2008 and 2008-2009 seasons and calculate the percentage change in total rebounds between these two seasons.\n",
      "\n",
      "Let's begin with the task assignments. \n",
      "\n",
      "1. Web search agent: Find out which Miami Heat player scored the highest points in the 2006-2007 season.\n",
      "2. Data analyst: Gather the total rebounds for the identified player in the 2007-2008 and 2008-2009 seasons and calculate the percentage change in total rebounds between these two seasons. \n",
      "\n",
      "Once these tasks are completed, I will summarize the findings.\n",
      "---------- WebSearchAgent ----------\n",
      "[FunctionCall(id='call_VwWK97kJzYq94Ioc6YIZ5j2O', arguments='{\"query\":\"Miami Heat player highest points 2006-2007 season\"}', name='search_web_tool')]\n",
      "---------- WebSearchAgent ----------\n",
      "[FunctionExecutionResult(content='Here are the total points scored by Miami Heat players in the 2006-2007 season:\\n        Udonis Haslem: 844 points\\n        Dwayne Wade: 1397 points\\n        James Posey: 550 points\\n        ...\\n        ', call_id='call_VwWK97kJzYq94Ioc6YIZ5j2O')]\n",
      "---------- WebSearchAgent ----------\n",
      "Here are the total points scored by Miami Heat players in the 2006-2007 season:\n",
      "        Udonis Haslem: 844 points\n",
      "        Dwayne Wade: 1397 points\n",
      "        James Posey: 550 points\n",
      "        ...\n",
      "        \n",
      "---------- PlanningAgent ----------\n",
      "1. Web search agent: The player with the highest points in the 2006-2007 season for the Miami Heat was Dwyane Wade with 1397 points.\n",
      "\n",
      "Now, I will proceed with the next task. \n",
      "\n",
      "2. Data analyst: Gather the total rebounds for Dwyane Wade in the 2007-2008 and 2008-2009 seasons and calculate the percentage change in total rebounds between these two seasons. \n",
      "---------- DataAnalystAgent ----------\n",
      "[FunctionCall(id='call_UwpG50xng7vTPYIZuWKmoqA0', arguments='{\"start\": 2007, \"end\": 2008}', name='percentage_change_tool'), FunctionCall(id='call_wQl4g4vwh1mDcP6hAVtsVg0d', arguments='{\"start\": 2008, \"end\": 2009}', name='percentage_change_tool')]\n",
      "---------- DataAnalystAgent ----------\n",
      "[FunctionExecutionResult(content='0.04982561036372695', call_id='call_UwpG50xng7vTPYIZuWKmoqA0'), FunctionExecutionResult(content='0.049800796812749', call_id='call_wQl4g4vwh1mDcP6hAVtsVg0d')]\n",
      "---------- DataAnalystAgent ----------\n",
      "0.04982561036372695\n",
      "0.049800796812749\n",
      "---------- PlanningAgent ----------\n",
      "It seems there might have been a misunderstanding regarding the data provided by the Data Analyst Agent. I will clarify the tasks and reassign them as follows:\n",
      "\n",
      "1. Data analyst: Obtain the total rebounds for Dwyane Wade in the 2007-2008 season.\n",
      "2. Data analyst: Obtain the total rebounds for Dwyane Wade in the 2008-2009 season.\n",
      "3. Data analyst: Calculate the percentage change in total rebounds between the 2007-2008 and 2008-2009 seasons.\n",
      "\n",
      "Let's break this down and assign these tasks again to ensure accuracy.\n",
      "\n",
      "1. Data analyst: Obtain the total rebounds for Dwyane Wade in the 2007-2008 season.\n",
      "2. Data analyst: Obtain the total rebounds for Dwyane Wade in the 2008-2009 season.\n",
      "3. Data analyst: Calculate the percentage change in total rebounds between the 2007-2008 and 2008-2009 seasons. \n",
      "\n",
      "Once these tasks are completed, I will summarize the findings.\n",
      "---------- WebSearchAgent ----------\n",
      "[FunctionCall(id='call_G2Dq4SPXmMDQUKIR8IAzQe3n', arguments='{\"query\": \"Dwyane Wade total rebounds 2007-2008 season\"}', name='search_web_tool'), FunctionCall(id='call_cqa7hHgLPkZyiK2zwYSbar2G', arguments='{\"query\": \"Dwyane Wade total rebounds 2008-2009 season\"}', name='search_web_tool')]\n",
      "---------- WebSearchAgent ----------\n",
      "[FunctionExecutionResult(content='The number of total rebounds for Dwayne Wade in the Miami Heat season 2007-2008 is 214.', call_id='call_G2Dq4SPXmMDQUKIR8IAzQe3n'), FunctionExecutionResult(content='The number of total rebounds for Dwayne Wade in the Miami Heat season 2008-2009 is 398.', call_id='call_cqa7hHgLPkZyiK2zwYSbar2G')]\n",
      "---------- WebSearchAgent ----------\n",
      "The number of total rebounds for Dwayne Wade in the Miami Heat season 2007-2008 is 214.\n",
      "The number of total rebounds for Dwayne Wade in the Miami Heat season 2008-2009 is 398.\n",
      "---------- PlanningAgent ----------\n",
      "Now that we have the total rebounds for Dwyane Wade in both seasons, we can proceed to calculate the percentage change.\n",
      "\n",
      "1. Data analyst: Calculate the percentage change in total rebounds between 214 rebounds in 2007-2008 and 398 rebounds in 2008-2009.\n",
      "\n",
      "Let me assign this final task. \n",
      "\n",
      "1. Data analyst: Calculate the percentage change in total rebounds between 214 (2007-2008) and 398 (2008-2009).\n",
      "\n",
      "Once this task is completed, I will summarize the findings.\n",
      "---------- DataAnalystAgent ----------\n",
      "[FunctionCall(id='call_12yaHZhUW8OerNqUnFpl24gD', arguments='{\"start\":214,\"end\":398}', name='percentage_change_tool')]\n",
      "---------- DataAnalystAgent ----------\n",
      "[FunctionExecutionResult(content='85.98130841121495', call_id='call_12yaHZhUW8OerNqUnFpl24gD')]\n",
      "---------- DataAnalystAgent ----------\n",
      "85.98130841121495\n",
      "---------- PlanningAgent ----------\n",
      "To summarize the findings: \n",
      "\n",
      "- The Miami Heat player with the highest points in the 2006-2007 season was Dwyane Wade, who scored 1397 points.\n",
      "- The percentage change in Dwyane Wade's total rebounds between the 2007-2008 season (214 rebounds) and the 2008-2009 season (398 rebounds) is approximately 85.98%.\n",
      "\n",
      "TERMINATE.\n"
     ]
    },
    {
     "data": {
      "text/plain": [
       "TaskResult(messages=[TextMessage(source='user', models_usage=None, content='Who was the Miami Heat player with the highest points in the 2006-2007 season, and what was the percentage change in his total rebounds between the 2007-2008 and 2008-2009 seasons?', type='TextMessage'), TextMessage(source='PlanningAgent', models_usage=RequestUsage(prompt_tokens=159, completion_tokens=173), content=\"To accomplish this task, I will break it down into manageable subtasks:\\n\\n1. Web search agent: Find out which Miami Heat player scored the highest points in the 2006-2007 season.\\n2. Data analyst: Gather the total rebounds for the identified player in the 2007-2008 and 2008-2009 seasons and calculate the percentage change in total rebounds between these two seasons.\\n\\nLet's begin with the task assignments. \\n\\n1. Web search agent: Find out which Miami Heat player scored the highest points in the 2006-2007 season.\\n2. Data analyst: Gather the total rebounds for the identified player in the 2007-2008 and 2008-2009 seasons and calculate the percentage change in total rebounds between these two seasons. \\n\\nOnce these tasks are completed, I will summarize the findings.\", type='TextMessage'), ToolCallRequestEvent(source='WebSearchAgent', models_usage=RequestUsage(prompt_tokens=321, completion_tokens=27), content=[FunctionCall(id='call_VwWK97kJzYq94Ioc6YIZ5j2O', arguments='{\"query\":\"Miami Heat player highest points 2006-2007 season\"}', name='search_web_tool')], type='ToolCallRequestEvent'), ToolCallExecutionEvent(source='WebSearchAgent', models_usage=None, content=[FunctionExecutionResult(content='Here are the total points scored by Miami Heat players in the 2006-2007 season:\\n        Udonis Haslem: 844 points\\n        Dwayne Wade: 1397 points\\n        James Posey: 550 points\\n        ...\\n        ', call_id='call_VwWK97kJzYq94Ioc6YIZ5j2O')], type='ToolCallExecutionEvent'), ToolCallSummaryMessage(source='WebSearchAgent', models_usage=None, content='Here are the total points scored by Miami Heat players in the 2006-2007 season:\\n        Udonis Haslem: 844 points\\n        Dwayne Wade: 1397 points\\n        James Posey: 550 points\\n        ...\\n        ', type='ToolCallSummaryMessage'), TextMessage(source='PlanningAgent', models_usage=RequestUsage(prompt_tokens=399, completion_tokens=92), content='1. Web search agent: The player with the highest points in the 2006-2007 season for the Miami Heat was Dwyane Wade with 1397 points.\\n\\nNow, I will proceed with the next task. \\n\\n2. Data analyst: Gather the total rebounds for Dwyane Wade in the 2007-2008 and 2008-2009 seasons and calculate the percentage change in total rebounds between these two seasons. ', type='TextMessage'), ToolCallRequestEvent(source='DataAnalystAgent', models_usage=RequestUsage(prompt_tokens=470, completion_tokens=61), content=[FunctionCall(id='call_UwpG50xng7vTPYIZuWKmoqA0', arguments='{\"start\": 2007, \"end\": 2008}', name='percentage_change_tool'), FunctionCall(id='call_wQl4g4vwh1mDcP6hAVtsVg0d', arguments='{\"start\": 2008, \"end\": 2009}', name='percentage_change_tool')], type='ToolCallRequestEvent'), ToolCallExecutionEvent(source='DataAnalystAgent', models_usage=None, content=[FunctionExecutionResult(content='0.04982561036372695', call_id='call_UwpG50xng7vTPYIZuWKmoqA0'), FunctionExecutionResult(content='0.049800796812749', call_id='call_wQl4g4vwh1mDcP6hAVtsVg0d')], type='ToolCallExecutionEvent'), ToolCallSummaryMessage(source='DataAnalystAgent', models_usage=None, content='0.04982561036372695\\n0.049800796812749', type='ToolCallSummaryMessage'), TextMessage(source='PlanningAgent', models_usage=RequestUsage(prompt_tokens=522, completion_tokens=211), content=\"It seems there might have been a misunderstanding regarding the data provided by the Data Analyst Agent. I will clarify the tasks and reassign them as follows:\\n\\n1. Data analyst: Obtain the total rebounds for Dwyane Wade in the 2007-2008 season.\\n2. Data analyst: Obtain the total rebounds for Dwyane Wade in the 2008-2009 season.\\n3. Data analyst: Calculate the percentage change in total rebounds between the 2007-2008 and 2008-2009 seasons.\\n\\nLet's break this down and assign these tasks again to ensure accuracy.\\n\\n1. Data analyst: Obtain the total rebounds for Dwyane Wade in the 2007-2008 season.\\n2. Data analyst: Obtain the total rebounds for Dwyane Wade in the 2008-2009 season.\\n3. Data analyst: Calculate the percentage change in total rebounds between the 2007-2008 and 2008-2009 seasons. \\n\\nOnce these tasks are completed, I will summarize the findings.\", type='TextMessage'), ToolCallRequestEvent(source='WebSearchAgent', models_usage=RequestUsage(prompt_tokens=753, completion_tokens=71), content=[FunctionCall(id='call_G2Dq4SPXmMDQUKIR8IAzQe3n', arguments='{\"query\": \"Dwyane Wade total rebounds 2007-2008 season\"}', name='search_web_tool'), FunctionCall(id='call_cqa7hHgLPkZyiK2zwYSbar2G', arguments='{\"query\": \"Dwyane Wade total rebounds 2008-2009 season\"}', name='search_web_tool')], type='ToolCallRequestEvent'), ToolCallExecutionEvent(source='WebSearchAgent', models_usage=None, content=[FunctionExecutionResult(content='The number of total rebounds for Dwayne Wade in the Miami Heat season 2007-2008 is 214.', call_id='call_G2Dq4SPXmMDQUKIR8IAzQe3n'), FunctionExecutionResult(content='The number of total rebounds for Dwayne Wade in the Miami Heat season 2008-2009 is 398.', call_id='call_cqa7hHgLPkZyiK2zwYSbar2G')], type='ToolCallExecutionEvent'), ToolCallSummaryMessage(source='WebSearchAgent', models_usage=None, content='The number of total rebounds for Dwayne Wade in the Miami Heat season 2007-2008 is 214.\\nThe number of total rebounds for Dwayne Wade in the Miami Heat season 2008-2009 is 398.', type='ToolCallSummaryMessage'), TextMessage(source='PlanningAgent', models_usage=RequestUsage(prompt_tokens=795, completion_tokens=113), content='Now that we have the total rebounds for Dwyane Wade in both seasons, we can proceed to calculate the percentage change.\\n\\n1. Data analyst: Calculate the percentage change in total rebounds between 214 rebounds in 2007-2008 and 398 rebounds in 2008-2009.\\n\\nLet me assign this final task. \\n\\n1. Data analyst: Calculate the percentage change in total rebounds between 214 (2007-2008) and 398 (2008-2009).\\n\\nOnce this task is completed, I will summarize the findings.', type='TextMessage'), ToolCallRequestEvent(source='DataAnalystAgent', models_usage=RequestUsage(prompt_tokens=956, completion_tokens=21), content=[FunctionCall(id='call_12yaHZhUW8OerNqUnFpl24gD', arguments='{\"start\":214,\"end\":398}', name='percentage_change_tool')], type='ToolCallRequestEvent'), ToolCallExecutionEvent(source='DataAnalystAgent', models_usage=None, content=[FunctionExecutionResult(content='85.98130841121495', call_id='call_12yaHZhUW8OerNqUnFpl24gD')], type='ToolCallExecutionEvent'), ToolCallSummaryMessage(source='DataAnalystAgent', models_usage=None, content='85.98130841121495', type='ToolCallSummaryMessage'), TextMessage(source='PlanningAgent', models_usage=RequestUsage(prompt_tokens=930, completion_tokens=87), content=\"To summarize the findings: \\n\\n- The Miami Heat player with the highest points in the 2006-2007 season was Dwyane Wade, who scored 1397 points.\\n- The percentage change in Dwyane Wade's total rebounds between the 2007-2008 season (214 rebounds) and the 2008-2009 season (398 rebounds) is approximately 85.98%.\\n\\nTERMINATE.\", type='TextMessage')], stop_reason=\"Text 'TERMINATE' mentioned\")"
      ]
     },
     "execution_count": 7,
     "metadata": {},
     "output_type": "execute_result"
    }
   ],
   "source": [
    "def selector_func(messages: Sequence[AgentEvent | ChatMessage]) -> str | None:\n",
    "    if messages[-1].source != planning_agent.name:\n",
    "        return planning_agent.name\n",
    "    return None\n",
    "\n",
    "\n",
    "# Reset the previous team and run the chat again with the selector function.\n",
    "await team.reset()\n",
    "team = SelectorGroupChat(\n",
    "    [planning_agent, web_search_agent, data_analyst_agent],\n",
    "    model_client=OpenAIChatCompletionClient(model=\"gpt-4o-mini\"),\n",
    "    termination_condition=termination,\n",
    "    selector_func=selector_func,\n",
    ")\n",
    "\n",
    "await Console(team.run_stream(task=task))"
   ]
  },
  {
   "cell_type": "code",
   "execution_count": null,
   "id": "4caed408-9f29-4534-b3d0-5f92f40d1ebd",
   "metadata": {},
   "outputs": [],
   "source": []
  }
 ],
 "metadata": {
  "kernelspec": {
   "display_name": "Python 3 (ipykernel)",
   "language": "python",
   "name": "python3"
  },
  "language_info": {
   "codemirror_mode": {
    "name": "ipython",
    "version": 3
   },
   "file_extension": ".py",
   "mimetype": "text/x-python",
   "name": "python",
   "nbconvert_exporter": "python",
   "pygments_lexer": "ipython3",
   "version": "3.12.8"
  }
 },
 "nbformat": 4,
 "nbformat_minor": 5
}
