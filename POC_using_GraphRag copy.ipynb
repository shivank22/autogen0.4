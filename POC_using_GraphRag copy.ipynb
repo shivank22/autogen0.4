{
 "cells": [
  {
   "cell_type": "markdown",
   "metadata": {},
   "source": [
    "https://microsoft.github.io/autogen/dev/reference/python/autogen_ext.tools.graphrag.html\n",
    "https://microsoft.github.io/graphrag/get_started/\n"
   ]
  },
  {
   "cell_type": "code",
   "execution_count": null,
   "metadata": {},
   "outputs": [
    {
     "name": "stdout",
     "output_type": "stream",
     "text": [
      "creating llm client with {'api_key': 'REDACTED,len=164', 'type': \"openai_chat\", 'encoding_model': 'cl100k_base', 'model': 'gpt-4o-mini', 'max_tokens': 4000, 'temperature': 0.0, 'top_p': 1.0, 'n': 1, 'frequency_penalty': 0.0, 'presence_penalty': 0.0, 'request_timeout': 180.0, 'api_base': None, 'api_version': None, 'organization': None, 'proxy': None, 'audience': None, 'deployment_name': None, 'model_supports_json': True, 'tokens_per_minute': 50000, 'requests_per_minute': 1000, 'max_retries': 10, 'max_retry_wait': 10.0, 'sleep_on_rate_limit_recommendation': True, 'concurrent_requests': 25, 'responses': None}\n",
      "creating llm client with {'api_key': 'REDACTED,len=164', 'type': \"openai_chat\", 'encoding_model': 'cl100k_base', 'model': 'gpt-4o-mini', 'max_tokens': 4000, 'temperature': 0.0, 'top_p': 1.0, 'n': 1, 'frequency_penalty': 0.0, 'presence_penalty': 0.0, 'request_timeout': 180.0, 'api_base': None, 'api_version': None, 'organization': None, 'proxy': None, 'audience': None, 'deployment_name': None, 'model_supports_json': True, 'tokens_per_minute': 50000, 'requests_per_minute': 1000, 'max_retries': 10, 'max_retry_wait': 10.0, 'sleep_on_rate_limit_recommendation': True, 'concurrent_requests': 25, 'responses': None}\n",
      "creating embedding llm client with {'api_key': 'REDACTED,len=164', 'type': \"openai_embedding\", 'encoding_model': 'cl100k_base', 'model': 'text-embedding-3-small', 'max_tokens': 4000, 'temperature': 0, 'top_p': 1, 'n': 1, 'frequency_penalty': 0.0, 'presence_penalty': 0.0, 'request_timeout': 180.0, 'api_base': None, 'api_version': None, 'organization': None, 'proxy': None, 'audience': None, 'deployment_name': None, 'model_supports_json': None, 'tokens_per_minute': 50000, 'requests_per_minute': 1000, 'max_retries': 10, 'max_retry_wait': 10.0, 'sleep_on_rate_limit_recommendation': True, 'concurrent_requests': 25, 'responses': None}\n"
     ]
    }
   ],
   "source": [
    "# %pip install python-dotenv autogen_ext autogen_agentchat\n",
    "\n",
    "from dotenv import load_dotenv\n",
    "load_dotenv()\n",
    "import asyncio\n",
    "from autogen_ext.models.openai import OpenAIChatCompletionClient\n",
    "from autogen_agentchat.ui import Console\n",
    "from autogen_ext.tools.graphrag import GlobalSearchTool, LocalSearchTool\n",
    "from autogen_agentchat.agents import AssistantAgent\n",
    "\n",
    "# Initialize the OpenAI client\n",
    "openai_client = OpenAIChatCompletionClient(\n",
    "    model=\"gpt-4o-mini\"\n",
    ")\n",
    "\n",
    "# Set up global search tool\n",
    "global_tool = GlobalSearchTool.from_settings(settings_path=\"./settings.yaml\")\n",
    "local_tool = LocalSearchTool.from_settings(settings_path=\"./settings.yaml\")\n",
    "\n",
    "# Create assistant agent with the global search tool\n",
    "assistant_agent = AssistantAgent(\n",
    "    name=\"search_assistant\",\n",
    "    tools=[global_tool,local_tool],\n",
    "    model_client=openai_client,\n",
    "    system_message=(\n",
    "        \"\"\"You are a tool selector AI assistant using the GraphRAG framework. \n",
    "        Your primary task is to determine the appropriate search tool to call based on the user's query. \n",
    "        For broader, abstract questions requiring a comprehensive understanding of the dataset, call the 'global_search' function.\n",
    "        For specific questions requiring a detailed, local search, call the 'local_search' function\n",
    "        VMdata below is metadata for the VMs\n",
    "    1. VM -> Name of the virtual machine.\n",
    "    2. State -> Indicates whether the VM is ON or OFF.\n",
    "    3. Status -> Describes the VM's condition (Normal or Special).\n",
    "    4. Host -> The physical server hosting the VM.\n",
    "    5. Cluster -> The group of hosts managing the VM.\n",
    "    6. Provisioned_Space -> Total storage allocated to the VM.\n",
    "    7. Used_Space -> Storage currently used by the VM.\n",
    "    8. HostCPU -> CPU allocation on the host machine.\n",
    "    9. HostMem -> Memory allocated to the VM.\n",
    "    10. KN_SNC_DT -> Known since date of the VM record.\n",
    "    11. Decom_date -> Planned decommissioning date of the VM.\"\"\"\n",
    "    ),\n",
    ")\n"
   ]
  },
  {
   "cell_type": "code",
   "execution_count": null,
   "metadata": {},
   "outputs": [],
   "source": []
  },
  {
   "cell_type": "code",
   "execution_count": null,
   "metadata": {},
   "outputs": [
    {
     "name": "stdout",
     "output_type": "stream",
     "text": [
      "how many VMs are there in svgx87.gdzd.ubs.net?\n",
      "[FunctionCall(id='call_xVGTyMGaNAK1vQyOFwZAOcSK', arguments='{\"query\":\"count the number of VMs in svgx87.gdzd.ubs.net\"}', name='local_search_tool')]\n",
      "[FunctionExecutionResult(content='{\"answer\": \"### Overview of Virtual Machines on SVGX87.GDZD.UBS.NET\\\\n\\\\nThe host server SVGX87.GDZD.UBS.NET is associated with a total of **nine virtual machines**. These virtual machines play various roles within the operational infrastructure of the network.\\\\n\\\\n### List of Virtual Machines\\\\n\\\\nThe virtual machines linked to SVGX87.GDZD.UBS.NET include:\\\\n\\\\n1. **DB40.FIXAA.NET**\\\\n2. **app14.FIXAA.NET**\\\\n3. **infra32.FIXAA.NET**\\\\n4. **test48.FIXAA.NET**\\\\n5. **App90.FIXAA.NET**\\\\n6. **infra10.FIXAA.NET**\\\\n7. **app96.FIXAA.NET**\\\\n8. **backup36.FIXAA.NET**\\\\n9. **test55.FIXAA.NET**\\\\n10. **dev49.FIXAA.NET**\\\\n11. **dev54.FIXAA.NET**\\\\n\\\\nThis diverse array of virtual machines indicates the server\\'s critical role in supporting various applications and services within the network environment [Data: Entities (49); Sources (17, 21, 42)].\"}', call_id='call_xVGTyMGaNAK1vQyOFwZAOcSK')]\n",
      "{\"answer\": \"### Overview of Virtual Machines on SVGX87.GDZD.UBS.NET\\n\\nThe host server SVGX87.GDZD.UBS.NET is associated with a total of **nine virtual machines**. These virtual machines play various roles within the operational infrastructure of the network.\\n\\n### List of Virtual Machines\\n\\nThe virtual machines linked to SVGX87.GDZD.UBS.NET include:\\n\\n1. **DB40.FIXAA.NET**\\n2. **app14.FIXAA.NET**\\n3. **infra32.FIXAA.NET**\\n4. **test48.FIXAA.NET**\\n5. **App90.FIXAA.NET**\\n6. **infra10.FIXAA.NET**\\n7. **app96.FIXAA.NET**\\n8. **backup36.FIXAA.NET**\\n9. **test55.FIXAA.NET**\\n10. **dev49.FIXAA.NET**\\n11. **dev54.FIXAA.NET**\\n\\nThis diverse array of virtual machines indicates the server's critical role in supporting various applications and services within the network environment [Data: Entities (49); Sources (17, 21, 42)].\"}\n"
     ]
    },
    {
     "ename": "AttributeError",
     "evalue": "'TaskResult' object has no attribute 'content'",
     "output_type": "error",
     "traceback": [
      "\u001b[0;31m---------------------------------------------------------------------------\u001b[0m",
      "\u001b[0;31mAttributeError\u001b[0m                            Traceback (most recent call last)",
      "Cell \u001b[0;32mIn[9], line 5\u001b[0m\n\u001b[1;32m      3\u001b[0m response \u001b[38;5;241m=\u001b[39m assistant_agent\u001b[38;5;241m.\u001b[39mrun_stream(task\u001b[38;5;241m=\u001b[39mquery)\n\u001b[1;32m      4\u001b[0m \u001b[38;5;28;01masync\u001b[39;00m \u001b[38;5;28;01mfor\u001b[39;00m message \u001b[38;5;129;01min\u001b[39;00m response:\n\u001b[0;32m----> 5\u001b[0m \t\u001b[38;5;28mprint\u001b[39m(\u001b[43mmessage\u001b[49m\u001b[38;5;241;43m.\u001b[39;49m\u001b[43mcontent\u001b[49m)\n",
      "\u001b[0;31mAttributeError\u001b[0m: 'TaskResult' object has no attribute 'content'"
     ]
    }
   ],
   "source": [
    "\n",
    "# Run a sample query\n",
    "query = \"What is EAPSIPVXT9753?\"\n",
    "await Console(assistant_agent.run_stream(task=query))\n"
   ]
  },
  {
   "cell_type": "code",
   "execution_count": null,
   "metadata": {},
   "outputs": [],
   "source": []
  },
  {
   "cell_type": "code",
   "execution_count": null,
   "metadata": {},
   "outputs": [
    {
     "name": "stdout",
     "output_type": "stream",
     "text": [
      "---------- user ----------\n",
      "What are total number of VMs in Cloud Serve?\n",
      "---------- search_assistant ----------\n",
      "[FunctionCall(id='call_V99LIt9ShRlXtDyDdd9erK8m', arguments='{\"query\":\"total number of VMs in Cloud Serve\"}', name='local_search_tool')]\n",
      "---------- search_assistant ----------\n",
      "[FunctionExecutionResult(content='{\"answer\": \"### Overview of Virtual Machines in Cloud Serve\\\\n\\\\nThe data provided indicates a variety of virtual machines (VMs) operating within the Cloud Serve environment. Each VM has specific attributes, including its name, state, status, provisioned space, and used space. \\\\n\\\\n### Total Count of Virtual Machines\\\\n\\\\nFrom the available data, there are a total of **100 virtual machines** listed. This includes VMs in various states such as \\\\\"ON,\\\\\" \\\\\"OFF,\\\\\" and those with special statuses. The diversity in their operational states reflects the dynamic nature of cloud resource management.\\\\n\\\\n### Summary of VM Attributes\\\\n\\\\nThe VMs exhibit a range of provisioned and used storage capacities. For instance, the provisioned space for these VMs varies from 1TB to 4TB, with some VMs utilizing a significant portion of their allocated storage. The highest recorded used space among the VMs is **3.20TB**, while the lowest is **0.20TB**, indicating a wide range of operational needs and usage patterns across the virtual machines [Data: Sources (0, 26, 2, 4, 8); Entities (28, 27, 34)]. \\\\n\\\\nThis information highlights the importance of monitoring and managing cloud resources effectively to ensure optimal performance and resource allocation.\"}', call_id='call_V99LIt9ShRlXtDyDdd9erK8m')]\n",
      "---------- search_assistant ----------\n",
      "{\"answer\": \"### Overview of Virtual Machines in Cloud Serve\\n\\nThe data provided indicates a variety of virtual machines (VMs) operating within the Cloud Serve environment. Each VM has specific attributes, including its name, state, status, provisioned space, and used space. \\n\\n### Total Count of Virtual Machines\\n\\nFrom the available data, there are a total of **100 virtual machines** listed. This includes VMs in various states such as \\\"ON,\\\" \\\"OFF,\\\" and those with special statuses. The diversity in their operational states reflects the dynamic nature of cloud resource management.\\n\\n### Summary of VM Attributes\\n\\nThe VMs exhibit a range of provisioned and used storage capacities. For instance, the provisioned space for these VMs varies from 1TB to 4TB, with some VMs utilizing a significant portion of their allocated storage. The highest recorded used space among the VMs is **3.20TB**, while the lowest is **0.20TB**, indicating a wide range of operational needs and usage patterns across the virtual machines [Data: Sources (0, 26, 2, 4, 8); Entities (28, 27, 34)]. \\n\\nThis information highlights the importance of monitoring and managing cloud resources effectively to ensure optimal performance and resource allocation.\"}\n"
     ]
    },
    {
     "data": {
      "text/plain": [
       "TaskResult(messages=[TextMessage(source='user', models_usage=None, content='What are total number of VMs in Cloud Serve?', type='TextMessage'), ToolCallRequestEvent(source='search_assistant', models_usage=RequestUsage(prompt_tokens=698, completion_tokens=23), content=[FunctionCall(id='call_V99LIt9ShRlXtDyDdd9erK8m', arguments='{\"query\":\"total number of VMs in Cloud Serve\"}', name='local_search_tool')], type='ToolCallRequestEvent'), ToolCallExecutionEvent(source='search_assistant', models_usage=None, content=[FunctionExecutionResult(content='{\"answer\": \"### Overview of Virtual Machines in Cloud Serve\\\\n\\\\nThe data provided indicates a variety of virtual machines (VMs) operating within the Cloud Serve environment. Each VM has specific attributes, including its name, state, status, provisioned space, and used space. \\\\n\\\\n### Total Count of Virtual Machines\\\\n\\\\nFrom the available data, there are a total of **100 virtual machines** listed. This includes VMs in various states such as \\\\\"ON,\\\\\" \\\\\"OFF,\\\\\" and those with special statuses. The diversity in their operational states reflects the dynamic nature of cloud resource management.\\\\n\\\\n### Summary of VM Attributes\\\\n\\\\nThe VMs exhibit a range of provisioned and used storage capacities. For instance, the provisioned space for these VMs varies from 1TB to 4TB, with some VMs utilizing a significant portion of their allocated storage. The highest recorded used space among the VMs is **3.20TB**, while the lowest is **0.20TB**, indicating a wide range of operational needs and usage patterns across the virtual machines [Data: Sources (0, 26, 2, 4, 8); Entities (28, 27, 34)]. \\\\n\\\\nThis information highlights the importance of monitoring and managing cloud resources effectively to ensure optimal performance and resource allocation.\"}', call_id='call_V99LIt9ShRlXtDyDdd9erK8m')], type='ToolCallExecutionEvent'), ToolCallSummaryMessage(source='search_assistant', models_usage=None, content='{\"answer\": \"### Overview of Virtual Machines in Cloud Serve\\\\n\\\\nThe data provided indicates a variety of virtual machines (VMs) operating within the Cloud Serve environment. Each VM has specific attributes, including its name, state, status, provisioned space, and used space. \\\\n\\\\n### Total Count of Virtual Machines\\\\n\\\\nFrom the available data, there are a total of **100 virtual machines** listed. This includes VMs in various states such as \\\\\"ON,\\\\\" \\\\\"OFF,\\\\\" and those with special statuses. The diversity in their operational states reflects the dynamic nature of cloud resource management.\\\\n\\\\n### Summary of VM Attributes\\\\n\\\\nThe VMs exhibit a range of provisioned and used storage capacities. For instance, the provisioned space for these VMs varies from 1TB to 4TB, with some VMs utilizing a significant portion of their allocated storage. The highest recorded used space among the VMs is **3.20TB**, while the lowest is **0.20TB**, indicating a wide range of operational needs and usage patterns across the virtual machines [Data: Sources (0, 26, 2, 4, 8); Entities (28, 27, 34)]. \\\\n\\\\nThis information highlights the importance of monitoring and managing cloud resources effectively to ensure optimal performance and resource allocation.\"}', type='ToolCallSummaryMessage')], stop_reason=None)"
      ]
     },
     "execution_count": 3,
     "metadata": {},
     "output_type": "execute_result"
    }
   ],
   "source": [
    "\n",
    "# Run a sample query\n",
    "query = \"What are total number of VMs in Cloud Serve?\"\n",
    "await Console(assistant_agent.run_stream(task=query))"
   ]
  },
  {
   "cell_type": "code",
   "execution_count": 5,
   "metadata": {},
   "outputs": [
    {
     "name": "stdout",
     "output_type": "stream",
     "text": [
      "---------- user ----------\n",
      "How Many VMNAME are there in cluster EAPSIPVXT9753\n",
      "---------- search_assistant ----------\n",
      "[FunctionCall(id='call_ZWQKQAdJXBNd2tzw9qohOYvD', arguments='{\"query\":\"count of VMNAME in cluster EAPSIPVXT9753\"}', name='local_search_tool')]\n",
      "---------- search_assistant ----------\n",
      "[FunctionExecutionResult(content='{\"answer\": \"### Count of VMNAME in Cluster EAPSIPVXT9753\\\\n\\\\nThe cluster EAPSIPVXT9753 encompasses a variety of virtual machines (VMs) that are integral to its operations. Based on the data provided, there are a total of **17 virtual machines** associated with the cluster EAPSIPVXT9753. \\\\n\\\\n### List of Virtual Machines\\\\n\\\\nSome of the notable virtual machines within this cluster include:\\\\n\\\\n- **db13.fixaa.net**\\\\n- **db60.fixaa.net**\\\\n- **dev54.fixaa.net**\\\\n- **app96.fixaa.net**\\\\n- **web24.fixaa.net**\\\\n\\\\nThese virtual machines serve various roles, from database management to application hosting, contributing to the overall functionality and resource management of the cluster [Data: Entities (2, 109); Sources (0, 19, 9, 21, 6)]. \\\\n\\\\n### Conclusion\\\\n\\\\nThe EAPSIPVXT9753 cluster is a critical component of the infrastructure, with its 17 virtual machines working together to ensure efficient operations and resource allocation. This highlights the importance of effective management and orchestration within cloud and data center environments.\"}', call_id='call_ZWQKQAdJXBNd2tzw9qohOYvD')]\n",
      "---------- search_assistant ----------\n",
      "{\"answer\": \"### Count of VMNAME in Cluster EAPSIPVXT9753\\n\\nThe cluster EAPSIPVXT9753 encompasses a variety of virtual machines (VMs) that are integral to its operations. Based on the data provided, there are a total of **17 virtual machines** associated with the cluster EAPSIPVXT9753. \\n\\n### List of Virtual Machines\\n\\nSome of the notable virtual machines within this cluster include:\\n\\n- **db13.fixaa.net**\\n- **db60.fixaa.net**\\n- **dev54.fixaa.net**\\n- **app96.fixaa.net**\\n- **web24.fixaa.net**\\n\\nThese virtual machines serve various roles, from database management to application hosting, contributing to the overall functionality and resource management of the cluster [Data: Entities (2, 109); Sources (0, 19, 9, 21, 6)]. \\n\\n### Conclusion\\n\\nThe EAPSIPVXT9753 cluster is a critical component of the infrastructure, with its 17 virtual machines working together to ensure efficient operations and resource allocation. This highlights the importance of effective management and orchestration within cloud and data center environments.\"}\n"
     ]
    },
    {
     "data": {
      "text/plain": [
       "TaskResult(messages=[TextMessage(source='user', models_usage=None, content='How Many VMNAME are there in cluster EAPSIPVXT9753', type='TextMessage'), ToolCallRequestEvent(source='search_assistant', models_usage=RequestUsage(prompt_tokens=1390, completion_tokens=28), content=[FunctionCall(id='call_ZWQKQAdJXBNd2tzw9qohOYvD', arguments='{\"query\":\"count of VMNAME in cluster EAPSIPVXT9753\"}', name='local_search_tool')], type='ToolCallRequestEvent'), ToolCallExecutionEvent(source='search_assistant', models_usage=None, content=[FunctionExecutionResult(content='{\"answer\": \"### Count of VMNAME in Cluster EAPSIPVXT9753\\\\n\\\\nThe cluster EAPSIPVXT9753 encompasses a variety of virtual machines (VMs) that are integral to its operations. Based on the data provided, there are a total of **17 virtual machines** associated with the cluster EAPSIPVXT9753. \\\\n\\\\n### List of Virtual Machines\\\\n\\\\nSome of the notable virtual machines within this cluster include:\\\\n\\\\n- **db13.fixaa.net**\\\\n- **db60.fixaa.net**\\\\n- **dev54.fixaa.net**\\\\n- **app96.fixaa.net**\\\\n- **web24.fixaa.net**\\\\n\\\\nThese virtual machines serve various roles, from database management to application hosting, contributing to the overall functionality and resource management of the cluster [Data: Entities (2, 109); Sources (0, 19, 9, 21, 6)]. \\\\n\\\\n### Conclusion\\\\n\\\\nThe EAPSIPVXT9753 cluster is a critical component of the infrastructure, with its 17 virtual machines working together to ensure efficient operations and resource allocation. This highlights the importance of effective management and orchestration within cloud and data center environments.\"}', call_id='call_ZWQKQAdJXBNd2tzw9qohOYvD')], type='ToolCallExecutionEvent'), ToolCallSummaryMessage(source='search_assistant', models_usage=None, content='{\"answer\": \"### Count of VMNAME in Cluster EAPSIPVXT9753\\\\n\\\\nThe cluster EAPSIPVXT9753 encompasses a variety of virtual machines (VMs) that are integral to its operations. Based on the data provided, there are a total of **17 virtual machines** associated with the cluster EAPSIPVXT9753. \\\\n\\\\n### List of Virtual Machines\\\\n\\\\nSome of the notable virtual machines within this cluster include:\\\\n\\\\n- **db13.fixaa.net**\\\\n- **db60.fixaa.net**\\\\n- **dev54.fixaa.net**\\\\n- **app96.fixaa.net**\\\\n- **web24.fixaa.net**\\\\n\\\\nThese virtual machines serve various roles, from database management to application hosting, contributing to the overall functionality and resource management of the cluster [Data: Entities (2, 109); Sources (0, 19, 9, 21, 6)]. \\\\n\\\\n### Conclusion\\\\n\\\\nThe EAPSIPVXT9753 cluster is a critical component of the infrastructure, with its 17 virtual machines working together to ensure efficient operations and resource allocation. This highlights the importance of effective management and orchestration within cloud and data center environments.\"}', type='ToolCallSummaryMessage')], stop_reason=None)"
      ]
     },
     "execution_count": 5,
     "metadata": {},
     "output_type": "execute_result"
    }
   ],
   "source": [
    "\n",
    "# Run a sample query\n",
    "query = \"How Many VMNAME are there in cluster EAPSIPVXT9753\"\n",
    "await Console(assistant_agent.run_stream(task=query))"
   ]
  },
  {
   "cell_type": "code",
   "execution_count": 6,
   "metadata": {},
   "outputs": [
    {
     "name": "stdout",
     "output_type": "stream",
     "text": [
      "---------- user ----------\n",
      "How Many hosts are there in cluster EAPSIPVXT9753\n",
      "---------- search_assistant ----------\n",
      "[FunctionCall(id='call_bMFakwh4A2hG3aRF8pzJoh7A', arguments='{\"query\":\"number of hosts in cluster EAPSIPVXT9753\"}', name='local_search_tool')]\n",
      "---------- search_assistant ----------\n",
      "[FunctionExecutionResult(content='{\"answer\": \"### Overview of Cluster EAPSIPVXT9753\\\\n\\\\nThe cluster EAPSIPVXT9753 is a significant component within the computing environment, encompassing a variety of virtual machines and network entities. This cluster is associated with multiple resources that facilitate the management and operation of services.\\\\n\\\\n### Hosts in EAPSIPVXT9753\\\\n\\\\nThe data indicates that the cluster EAPSIPVXT9753 is supported by several hosts. Specifically, the following hosts are associated with this cluster:\\\\n\\\\n1. **svgx39.gdzd.ubs.net** - This host supports multiple virtual machines, including db13.fixaa.net, infra50.fixaa.net, and test15.fixaa.net.\\\\n2. **svgx87.gdzd.ubs.net** - This host is responsible for hosting various virtual machines such as app86.fixaa.net, dev49.fixaa.net, and web24.fixaa.net.\\\\n3. **svgx96.gdzd.ubs.net** - This host also plays a role in the operations of the cluster, supporting virtual machines like test16.fixaa.net and infra11.fixaa.net.\\\\n\\\\nIn total, there are **three distinct hosts** identified within the EAPSIPVXT9753 cluster, each contributing to the overall functionality and resource management of the cluster [Data: Entities (2, 70); Sources (0, 8, 9, 16, 19)]. \\\\n\\\\n### Conclusion\\\\n\\\\nThe presence of multiple hosts within the EAPSIPVXT9753 cluster highlights the complexity and interconnectedness of the resources involved. This structure is essential for ensuring efficient operations and resource allocation within the computing environment.\"}', call_id='call_bMFakwh4A2hG3aRF8pzJoh7A')]\n",
      "---------- search_assistant ----------\n",
      "{\"answer\": \"### Overview of Cluster EAPSIPVXT9753\\n\\nThe cluster EAPSIPVXT9753 is a significant component within the computing environment, encompassing a variety of virtual machines and network entities. This cluster is associated with multiple resources that facilitate the management and operation of services.\\n\\n### Hosts in EAPSIPVXT9753\\n\\nThe data indicates that the cluster EAPSIPVXT9753 is supported by several hosts. Specifically, the following hosts are associated with this cluster:\\n\\n1. **svgx39.gdzd.ubs.net** - This host supports multiple virtual machines, including db13.fixaa.net, infra50.fixaa.net, and test15.fixaa.net.\\n2. **svgx87.gdzd.ubs.net** - This host is responsible for hosting various virtual machines such as app86.fixaa.net, dev49.fixaa.net, and web24.fixaa.net.\\n3. **svgx96.gdzd.ubs.net** - This host also plays a role in the operations of the cluster, supporting virtual machines like test16.fixaa.net and infra11.fixaa.net.\\n\\nIn total, there are **three distinct hosts** identified within the EAPSIPVXT9753 cluster, each contributing to the overall functionality and resource management of the cluster [Data: Entities (2, 70); Sources (0, 8, 9, 16, 19)]. \\n\\n### Conclusion\\n\\nThe presence of multiple hosts within the EAPSIPVXT9753 cluster highlights the complexity and interconnectedness of the resources involved. This structure is essential for ensuring efficient operations and resource allocation within the computing environment.\"}\n"
     ]
    },
    {
     "data": {
      "text/plain": [
       "TaskResult(messages=[TextMessage(source='user', models_usage=None, content='How Many hosts are there in cluster EAPSIPVXT9753', type='TextMessage'), ToolCallRequestEvent(source='search_assistant', models_usage=RequestUsage(prompt_tokens=1706, completion_tokens=27), content=[FunctionCall(id='call_bMFakwh4A2hG3aRF8pzJoh7A', arguments='{\"query\":\"number of hosts in cluster EAPSIPVXT9753\"}', name='local_search_tool')], type='ToolCallRequestEvent'), ToolCallExecutionEvent(source='search_assistant', models_usage=None, content=[FunctionExecutionResult(content='{\"answer\": \"### Overview of Cluster EAPSIPVXT9753\\\\n\\\\nThe cluster EAPSIPVXT9753 is a significant component within the computing environment, encompassing a variety of virtual machines and network entities. This cluster is associated with multiple resources that facilitate the management and operation of services.\\\\n\\\\n### Hosts in EAPSIPVXT9753\\\\n\\\\nThe data indicates that the cluster EAPSIPVXT9753 is supported by several hosts. Specifically, the following hosts are associated with this cluster:\\\\n\\\\n1. **svgx39.gdzd.ubs.net** - This host supports multiple virtual machines, including db13.fixaa.net, infra50.fixaa.net, and test15.fixaa.net.\\\\n2. **svgx87.gdzd.ubs.net** - This host is responsible for hosting various virtual machines such as app86.fixaa.net, dev49.fixaa.net, and web24.fixaa.net.\\\\n3. **svgx96.gdzd.ubs.net** - This host also plays a role in the operations of the cluster, supporting virtual machines like test16.fixaa.net and infra11.fixaa.net.\\\\n\\\\nIn total, there are **three distinct hosts** identified within the EAPSIPVXT9753 cluster, each contributing to the overall functionality and resource management of the cluster [Data: Entities (2, 70); Sources (0, 8, 9, 16, 19)]. \\\\n\\\\n### Conclusion\\\\n\\\\nThe presence of multiple hosts within the EAPSIPVXT9753 cluster highlights the complexity and interconnectedness of the resources involved. This structure is essential for ensuring efficient operations and resource allocation within the computing environment.\"}', call_id='call_bMFakwh4A2hG3aRF8pzJoh7A')], type='ToolCallExecutionEvent'), ToolCallSummaryMessage(source='search_assistant', models_usage=None, content='{\"answer\": \"### Overview of Cluster EAPSIPVXT9753\\\\n\\\\nThe cluster EAPSIPVXT9753 is a significant component within the computing environment, encompassing a variety of virtual machines and network entities. This cluster is associated with multiple resources that facilitate the management and operation of services.\\\\n\\\\n### Hosts in EAPSIPVXT9753\\\\n\\\\nThe data indicates that the cluster EAPSIPVXT9753 is supported by several hosts. Specifically, the following hosts are associated with this cluster:\\\\n\\\\n1. **svgx39.gdzd.ubs.net** - This host supports multiple virtual machines, including db13.fixaa.net, infra50.fixaa.net, and test15.fixaa.net.\\\\n2. **svgx87.gdzd.ubs.net** - This host is responsible for hosting various virtual machines such as app86.fixaa.net, dev49.fixaa.net, and web24.fixaa.net.\\\\n3. **svgx96.gdzd.ubs.net** - This host also plays a role in the operations of the cluster, supporting virtual machines like test16.fixaa.net and infra11.fixaa.net.\\\\n\\\\nIn total, there are **three distinct hosts** identified within the EAPSIPVXT9753 cluster, each contributing to the overall functionality and resource management of the cluster [Data: Entities (2, 70); Sources (0, 8, 9, 16, 19)]. \\\\n\\\\n### Conclusion\\\\n\\\\nThe presence of multiple hosts within the EAPSIPVXT9753 cluster highlights the complexity and interconnectedness of the resources involved. This structure is essential for ensuring efficient operations and resource allocation within the computing environment.\"}', type='ToolCallSummaryMessage')], stop_reason=None)"
      ]
     },
     "execution_count": 6,
     "metadata": {},
     "output_type": "execute_result"
    }
   ],
   "source": [
    "\n",
    "# Run a sample query\n",
    "query = \"How Many hosts are there in cluster EAPSIPVXT9753\"\n",
    "await Console(assistant_agent.run_stream(task=query))"
   ]
  },
  {
   "cell_type": "code",
   "execution_count": 9,
   "metadata": {},
   "outputs": [
    {
     "name": "stdout",
     "output_type": "stream",
     "text": [
      "---------- user ----------\n",
      "What is the trend of decomissioning of AppBrewery's VM decomissioning date Data?\n",
      "---------- search_assistant ----------\n",
      "[FunctionCall(id='call_yUuejL9WlTQF9lTpy4bnIU9D', arguments='{\"query\":\"trend of decommissioning dates for AppBrewery\\'s VMs\"}', name='global_search_tool')]\n",
      "---------- search_assistant ----------\n",
      "[FunctionExecutionResult(content='{\"answer\": \"## Overview of Decommissioning Trends for AppBrewery\\'s Virtual Machines\\\\n\\\\nThe dataset reveals a significant trend in the scheduled decommissioning of virtual machines (VMs) associated with AppBrewery, indicating a proactive approach to lifecycle management and resource optimization. This trend is characterized by a series of planned retirements occurring within specific timeframes, which may reflect strategic initiatives aimed at upgrading or consolidating resources.\\\\n\\\\n### Key Scheduled Decommissioning Dates\\\\n\\\\nSeveral VMs have been identified with imminent decommissioning dates, suggesting a systematic approach to managing the lifecycle of these resources. Notable examples include:\\\\n\\\\n- **DEV54.FIXAA.NET** scheduled for decommissioning on **2025-02-05**\\\\n- **DEV49.FIXAA.NET** set for **2025-02-14**\\\\n- **Backup98.fixaa.net** planned for **2025-05-07**\\\\n- **App58.fixaa.net** on **2025-03-07**\\\\n- **App14.fixaa.net** on **2025-02-17** [Data: Reports (85, 33, 63, 73, 72)].\\\\n\\\\nThis pattern indicates that AppBrewery is actively managing its virtual resources, ensuring that stakeholders are informed of upcoming changes, which is crucial for planning transitions to new systems or VMs.\\\\n\\\\n### Concentrated Decommissioning Efforts\\\\n\\\\nThe data also highlights a concentrated effort to phase out older systems within a short timeframe. For instance, VMs such as **Test67.fixaa.net** on **2025-04-26**, **WEB64.FIXAA.NET** on **2025-04-12**, and **App17** on **2025-04-19** are all scheduled for decommissioning within a few days of each other. This suggests a strategic initiative to streamline operations and minimize service disruptions [Data: Reports (99, 96, 38)].\\\\n\\\\n### Implications for Stakeholders\\\\n\\\\nThe scheduled decommissioning of VMs such as **App86.fixaa.net** on **2025-03-17** and **App78.fixaa.net** on **2025-03-19** poses potential risks to services or applications dependent on these systems. Stakeholders must prepare for these changes to mitigate any impacts on operations [Data: Reports (61, 104)].\\\\n\\\\nAdditionally, the trend of multiple VMs being decommissioned around similar dates, such as **App55.fixaa.net** on **2025-04-06** and **WEB40.FIXAA.NET** on **2025-02-06**, underscores the urgency in managing the lifecycle of these VMs, indicating that AppBrewery is actively planning for future infrastructure changes [Data: Reports (97, 50)].\\\\n\\\\n### Conclusion\\\\n\\\\nIn summary, the trend of decommissioning dates for AppBrewery\\'s VMs reflects a strategic approach to resource management, with a focus on ensuring operational integrity and continuity. Stakeholders are encouraged to monitor these timelines closely to prepare for transitions and minimize potential disruptions to services. The proactive management of these decommissioning schedules will be essential for maintaining the efficiency and effectiveness of AppBrewery\\'s operations moving forward.\"}', call_id='call_yUuejL9WlTQF9lTpy4bnIU9D')]\n",
      "---------- search_assistant ----------\n",
      "{\"answer\": \"## Overview of Decommissioning Trends for AppBrewery's Virtual Machines\\n\\nThe dataset reveals a significant trend in the scheduled decommissioning of virtual machines (VMs) associated with AppBrewery, indicating a proactive approach to lifecycle management and resource optimization. This trend is characterized by a series of planned retirements occurring within specific timeframes, which may reflect strategic initiatives aimed at upgrading or consolidating resources.\\n\\n### Key Scheduled Decommissioning Dates\\n\\nSeveral VMs have been identified with imminent decommissioning dates, suggesting a systematic approach to managing the lifecycle of these resources. Notable examples include:\\n\\n- **DEV54.FIXAA.NET** scheduled for decommissioning on **2025-02-05**\\n- **DEV49.FIXAA.NET** set for **2025-02-14**\\n- **Backup98.fixaa.net** planned for **2025-05-07**\\n- **App58.fixaa.net** on **2025-03-07**\\n- **App14.fixaa.net** on **2025-02-17** [Data: Reports (85, 33, 63, 73, 72)].\\n\\nThis pattern indicates that AppBrewery is actively managing its virtual resources, ensuring that stakeholders are informed of upcoming changes, which is crucial for planning transitions to new systems or VMs.\\n\\n### Concentrated Decommissioning Efforts\\n\\nThe data also highlights a concentrated effort to phase out older systems within a short timeframe. For instance, VMs such as **Test67.fixaa.net** on **2025-04-26**, **WEB64.FIXAA.NET** on **2025-04-12**, and **App17** on **2025-04-19** are all scheduled for decommissioning within a few days of each other. This suggests a strategic initiative to streamline operations and minimize service disruptions [Data: Reports (99, 96, 38)].\\n\\n### Implications for Stakeholders\\n\\nThe scheduled decommissioning of VMs such as **App86.fixaa.net** on **2025-03-17** and **App78.fixaa.net** on **2025-03-19** poses potential risks to services or applications dependent on these systems. Stakeholders must prepare for these changes to mitigate any impacts on operations [Data: Reports (61, 104)].\\n\\nAdditionally, the trend of multiple VMs being decommissioned around similar dates, such as **App55.fixaa.net** on **2025-04-06** and **WEB40.FIXAA.NET** on **2025-02-06**, underscores the urgency in managing the lifecycle of these VMs, indicating that AppBrewery is actively planning for future infrastructure changes [Data: Reports (97, 50)].\\n\\n### Conclusion\\n\\nIn summary, the trend of decommissioning dates for AppBrewery's VMs reflects a strategic approach to resource management, with a focus on ensuring operational integrity and continuity. Stakeholders are encouraged to monitor these timelines closely to prepare for transitions and minimize potential disruptions to services. The proactive management of these decommissioning schedules will be essential for maintaining the efficiency and effectiveness of AppBrewery's operations moving forward.\"}\n"
     ]
    },
    {
     "data": {
      "text/plain": [
       "TaskResult(messages=[TextMessage(source='user', models_usage=None, content=\"What is the trend of decomissioning of AppBrewery's VM decomissioning date Data?\", type='TextMessage'), ToolCallRequestEvent(source='search_assistant', models_usage=RequestUsage(prompt_tokens=1658, completion_tokens=29), content=[FunctionCall(id='call_yUuejL9WlTQF9lTpy4bnIU9D', arguments='{\"query\":\"trend of decommissioning dates for AppBrewery\\'s VMs\"}', name='global_search_tool')], type='ToolCallRequestEvent'), ToolCallExecutionEvent(source='search_assistant', models_usage=None, content=[FunctionExecutionResult(content='{\"answer\": \"## Overview of Decommissioning Trends for AppBrewery\\'s Virtual Machines\\\\n\\\\nThe dataset reveals a significant trend in the scheduled decommissioning of virtual machines (VMs) associated with AppBrewery, indicating a proactive approach to lifecycle management and resource optimization. This trend is characterized by a series of planned retirements occurring within specific timeframes, which may reflect strategic initiatives aimed at upgrading or consolidating resources.\\\\n\\\\n### Key Scheduled Decommissioning Dates\\\\n\\\\nSeveral VMs have been identified with imminent decommissioning dates, suggesting a systematic approach to managing the lifecycle of these resources. Notable examples include:\\\\n\\\\n- **DEV54.FIXAA.NET** scheduled for decommissioning on **2025-02-05**\\\\n- **DEV49.FIXAA.NET** set for **2025-02-14**\\\\n- **Backup98.fixaa.net** planned for **2025-05-07**\\\\n- **App58.fixaa.net** on **2025-03-07**\\\\n- **App14.fixaa.net** on **2025-02-17** [Data: Reports (85, 33, 63, 73, 72)].\\\\n\\\\nThis pattern indicates that AppBrewery is actively managing its virtual resources, ensuring that stakeholders are informed of upcoming changes, which is crucial for planning transitions to new systems or VMs.\\\\n\\\\n### Concentrated Decommissioning Efforts\\\\n\\\\nThe data also highlights a concentrated effort to phase out older systems within a short timeframe. For instance, VMs such as **Test67.fixaa.net** on **2025-04-26**, **WEB64.FIXAA.NET** on **2025-04-12**, and **App17** on **2025-04-19** are all scheduled for decommissioning within a few days of each other. This suggests a strategic initiative to streamline operations and minimize service disruptions [Data: Reports (99, 96, 38)].\\\\n\\\\n### Implications for Stakeholders\\\\n\\\\nThe scheduled decommissioning of VMs such as **App86.fixaa.net** on **2025-03-17** and **App78.fixaa.net** on **2025-03-19** poses potential risks to services or applications dependent on these systems. Stakeholders must prepare for these changes to mitigate any impacts on operations [Data: Reports (61, 104)].\\\\n\\\\nAdditionally, the trend of multiple VMs being decommissioned around similar dates, such as **App55.fixaa.net** on **2025-04-06** and **WEB40.FIXAA.NET** on **2025-02-06**, underscores the urgency in managing the lifecycle of these VMs, indicating that AppBrewery is actively planning for future infrastructure changes [Data: Reports (97, 50)].\\\\n\\\\n### Conclusion\\\\n\\\\nIn summary, the trend of decommissioning dates for AppBrewery\\'s VMs reflects a strategic approach to resource management, with a focus on ensuring operational integrity and continuity. Stakeholders are encouraged to monitor these timelines closely to prepare for transitions and minimize potential disruptions to services. The proactive management of these decommissioning schedules will be essential for maintaining the efficiency and effectiveness of AppBrewery\\'s operations moving forward.\"}', call_id='call_yUuejL9WlTQF9lTpy4bnIU9D')], type='ToolCallExecutionEvent'), ToolCallSummaryMessage(source='search_assistant', models_usage=None, content='{\"answer\": \"## Overview of Decommissioning Trends for AppBrewery\\'s Virtual Machines\\\\n\\\\nThe dataset reveals a significant trend in the scheduled decommissioning of virtual machines (VMs) associated with AppBrewery, indicating a proactive approach to lifecycle management and resource optimization. This trend is characterized by a series of planned retirements occurring within specific timeframes, which may reflect strategic initiatives aimed at upgrading or consolidating resources.\\\\n\\\\n### Key Scheduled Decommissioning Dates\\\\n\\\\nSeveral VMs have been identified with imminent decommissioning dates, suggesting a systematic approach to managing the lifecycle of these resources. Notable examples include:\\\\n\\\\n- **DEV54.FIXAA.NET** scheduled for decommissioning on **2025-02-05**\\\\n- **DEV49.FIXAA.NET** set for **2025-02-14**\\\\n- **Backup98.fixaa.net** planned for **2025-05-07**\\\\n- **App58.fixaa.net** on **2025-03-07**\\\\n- **App14.fixaa.net** on **2025-02-17** [Data: Reports (85, 33, 63, 73, 72)].\\\\n\\\\nThis pattern indicates that AppBrewery is actively managing its virtual resources, ensuring that stakeholders are informed of upcoming changes, which is crucial for planning transitions to new systems or VMs.\\\\n\\\\n### Concentrated Decommissioning Efforts\\\\n\\\\nThe data also highlights a concentrated effort to phase out older systems within a short timeframe. For instance, VMs such as **Test67.fixaa.net** on **2025-04-26**, **WEB64.FIXAA.NET** on **2025-04-12**, and **App17** on **2025-04-19** are all scheduled for decommissioning within a few days of each other. This suggests a strategic initiative to streamline operations and minimize service disruptions [Data: Reports (99, 96, 38)].\\\\n\\\\n### Implications for Stakeholders\\\\n\\\\nThe scheduled decommissioning of VMs such as **App86.fixaa.net** on **2025-03-17** and **App78.fixaa.net** on **2025-03-19** poses potential risks to services or applications dependent on these systems. Stakeholders must prepare for these changes to mitigate any impacts on operations [Data: Reports (61, 104)].\\\\n\\\\nAdditionally, the trend of multiple VMs being decommissioned around similar dates, such as **App55.fixaa.net** on **2025-04-06** and **WEB40.FIXAA.NET** on **2025-02-06**, underscores the urgency in managing the lifecycle of these VMs, indicating that AppBrewery is actively planning for future infrastructure changes [Data: Reports (97, 50)].\\\\n\\\\n### Conclusion\\\\n\\\\nIn summary, the trend of decommissioning dates for AppBrewery\\'s VMs reflects a strategic approach to resource management, with a focus on ensuring operational integrity and continuity. Stakeholders are encouraged to monitor these timelines closely to prepare for transitions and minimize potential disruptions to services. The proactive management of these decommissioning schedules will be essential for maintaining the efficiency and effectiveness of AppBrewery\\'s operations moving forward.\"}', type='ToolCallSummaryMessage')], stop_reason=None)"
      ]
     },
     "execution_count": 9,
     "metadata": {},
     "output_type": "execute_result"
    }
   ],
   "source": [
    "# Run a sample query\n",
    "query = \"What is the trend of decomissioning of AppBrewery's VM decomissioning date Data?\"\n",
    "await Console(assistant_agent.run_stream(task=query))"
   ]
  },
  {
   "cell_type": "code",
   "execution_count": null,
   "metadata": {},
   "outputs": [],
   "source": []
  }
 ],
 "metadata": {
  "kernelspec": {
   "display_name": "autogen0.4",
   "language": "python",
   "name": "python3"
  },
  "language_info": {
   "codemirror_mode": {
    "name": "ipython",
    "version": 3
   },
   "file_extension": ".py",
   "mimetype": "text/x-python",
   "name": "python",
   "nbconvert_exporter": "python",
   "pygments_lexer": "ipython3",
   "version": "3.12.8"
  }
 },
 "nbformat": 4,
 "nbformat_minor": 4
}
