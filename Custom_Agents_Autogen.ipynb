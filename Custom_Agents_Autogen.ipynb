{
 "cells": [
  {
   "cell_type": "code",
   "execution_count": 2,
   "metadata": {},
   "outputs": [
    {
     "data": {
      "text/plain": [
       "True"
      ]
     },
     "execution_count": 2,
     "metadata": {},
     "output_type": "execute_result"
    }
   ],
   "source": [
    "import pandas as pd\n",
    "import os,re\n",
    "from dotenv import load_dotenv\n",
    "load_dotenv()"
   ]
  },
  {
   "cell_type": "code",
   "execution_count": 4,
   "metadata": {},
   "outputs": [
    {
     "name": "stderr",
     "output_type": "stream",
     "text": [
      "/var/folders/p0/j24845kj1qs3ncsrk58vfq880000gn/T/ipykernel_25057/1245999921.py:1: FutureWarning: The argument 'date_parser' is deprecated and will be removed in a future version. Please use 'date_format' instead, or read your data in as 'object' dtype and then call 'to_datetime'.\n",
      "  df = pd.read_csv(\"./data/vm_data_final.csv\", parse_dates=['KN_SNC_DT', 'Decom_date'], date_parser=lambda x: pd.to_datetime(x, format=\"%Y%m%d\", errors='coerce'))\n"
     ]
    }
   ],
   "source": [
    "df = pd.read_csv(\"./data/vm_data_final.csv\", parse_dates=['KN_SNC_DT', 'Decom_date'], date_parser=lambda x: pd.to_datetime(x, format=\"%Y%m%d\", errors='coerce'))"
   ]
  },
  {
   "cell_type": "code",
   "execution_count": null,
   "metadata": {},
   "outputs": [],
   "source": [
    "from pathlib import Path\n",
    "from typing import AsyncGenerator, Sequence\n",
    "\n",
    "from autogen_agentchat.agents import BaseChatAgent\n",
    "from autogen_agentchat.base import Response\n",
    "from autogen_agentchat.messages import ChatMessage, MultiModalMessage\n",
    "from autogen_core import CancellationToken, Image as AGImage\n",
    "from autogen_core.code_executor import CodeBlock\n",
    "from autogen_ext.code_executors.local import LocalCommandLineCodeExecutor\n",
    "from autogen_ext.models.openai import OpenAIChatCompletionClient\n",
    "from autogen_core.model_context import UnboundedChatCompletionContext\n",
    "from autogen_core.models import SystemMessage, ChatCompletionClient, UserMessage\n",
    "\n",
    "from PIL import Image\n",
    "\n",
    "class CloudServeAgent(BaseChatAgent):\n",
    "    def __init__(\n",
    "        self,\n",
    "        name: str,\n",
    "        model_client: ChatCompletionClient,\n",
    "        description: str = \"An agent that generates a DataFrame and a matplotlib plot based on user inputs.\",\n",
    "        work_dir: Path = Path(\"cloudserve\")\n",
    "    ):\n",
    "        super().__init__(name=name, description=description)\n",
    "        self.work_dir = work_dir\n",
    "        self.work_dir.mkdir(exist_ok=True)\n",
    "        self._model_context = UnboundedChatCompletionContext()\n",
    "        # self._model_context = BufferedChatCompletionContext(buffer_size=5)\n",
    "        self.local_executor = LocalCommandLineCodeExecutor(work_dir=self.work_dir)\n",
    "        self._model_client = model_client\n",
    "        self._system_message = [SystemMessage(content=\"\"\"Write Only Python code what user asks for dont write anything else than code, Save outputs in current working directory\"\"\")]\n",
    "    \n",
    "    @property\n",
    "    def produced_message_types(self) -> Sequence[type[ChatMessage]]:\n",
    "        return (MultiModalMessage,)\n",
    "\n",
    "    async def on_messages(self, messages: Sequence[ChatMessage], cancellation_token: CancellationToken) -> Response:\n",
    "        content = []\n",
    "        for file in self.work_dir.iterdir():\n",
    "            if file.is_file():\n",
    "                os.remove(file)\n",
    "        for msg in messages:\n",
    "            await self._model_context.add_message(UserMessage(content=msg.content, source=msg.source))\n",
    "\n",
    "        # Get conversation history\n",
    "        history = [\n",
    "        (msg.source if hasattr(msg, \"source\") else \"system\")\n",
    "        + \": \"\n",
    "        + (msg.content if isinstance(msg.content, str) else \"\")\n",
    "        + \"\\n\"\n",
    "        for msg in await self._model_context.get_messages()]\n",
    "        \n",
    "        print('this is History',history)\n",
    "        \n",
    "        # user_message = UserMessage(content=messages[0].content, source=\"user\")\n",
    "        # response = await self._model_client.create(\n",
    "        #     self._system_message + [user_message], cancellation_token=cancellation_token\n",
    "        # )\n",
    "        \n",
    "        error_details = None\n",
    "        conversation_history = self._system_message[:]\n",
    "        conversation_history.append(UserMessage(content=messages[0].content, source=\"user\"))\n",
    "        response = await self._model_client.create(conversation_history, cancellation_token=cancellation_token)\n",
    "        initial_response_content = response.content\n",
    "        \n",
    "        pattern = re.compile(r\"```(\\w+)\\n(.*?)```\", re.DOTALL)\n",
    "        match = pattern.search(initial_response_content)\n",
    "        if match:\n",
    "            language = match.group(1)\n",
    "            code = match.group(2)\n",
    "        else:\n",
    "            language = \"python\"\n",
    "            code = initial_response_content\n",
    "\n",
    "        while True:\n",
    "            try:\n",
    "                code_block = CodeBlock(language=language, code=code)\n",
    "                result = await self.local_executor.execute_code_blocks(\n",
    "                    code_blocks=[code_block],\n",
    "                    cancellation_token=cancellation_token,\n",
    "                )\n",
    "                df_output = result.stdout if hasattr(result, 'stdout') else str(result)\n",
    "                print(code_block.code)\n",
    "                break\n",
    "            except Exception as e:\n",
    "                error_details = str(e)\n",
    "                conversation_history.append(UserMessage(content=f\"Error: {error_details}\", source=\"user\"))\n",
    "                fix_response = await self._model_client.create(conversation_history, cancellation_token=cancellation_token)\n",
    "                fixed_response_content = fix_response.content\n",
    "                match = pattern.search(fixed_response_content)\n",
    "                if match:\n",
    "                    language = match.group(1)\n",
    "                    code = match.group(2)\n",
    "                else:\n",
    "                    language = \"python\"\n",
    "                    code = fixed_response_content\n",
    "\n",
    "        print(\"Final Output:\", df_output)\n",
    "        content.append(df_output)\n",
    "        \n",
    "        for file in self.work_dir.iterdir():\n",
    "            if file.is_file() and file.suffix.lower() in ['.png', '.jpg', '.jpeg']:\n",
    "                pil_image = Image.open(file)\n",
    "                content.append(AGImage(pil_image))\n",
    "            \n",
    "        multimodal_msg = MultiModalMessage(content=content,source=self.name)\n",
    "        \n",
    "        return Response(chat_message=multimodal_msg, inner_messages=[])\n",
    "    \n",
    "    async def on_messages_stream(\n",
    "        self, messages: Sequence[ChatMessage], cancellation_token: CancellationToken\n",
    "    ) -> AsyncGenerator[Response, None]:\n",
    "        response = await self.on_messages(messages, cancellation_token)\n",
    "        yield response\n",
    "\n",
    "    async def on_reset(self, cancellation_token: CancellationToken) -> None:\n",
    "        pass\n"
   ]
  },
  {
   "cell_type": "code",
   "execution_count": 45,
   "metadata": {},
   "outputs": [],
   "source": [
    "model_client = OpenAIChatCompletionClient(model=\"gpt-4o-mini\")\n",
    "cloudServeAgent=CloudServeAgent(\"CloudServeAgent\",model_client)"
   ]
  },
  {
   "cell_type": "code",
   "execution_count": 46,
   "metadata": {},
   "outputs": [
    {
     "name": "stdout",
     "output_type": "stream",
     "text": [
      "this is History ['user: Generate 2 graphs\\n']\n",
      "import matplotlib.pyplot as plt\n",
      "import numpy as np\n",
      "\n",
      "# First graph: Sine wave\n",
      "x = np.linspace(0, 2 * np.pi, 100)\n",
      "y = np.sin(x)\n",
      "\n",
      "plt.figure()\n",
      "plt.plot(x, y)\n",
      "plt.title('Sine Wave')\n",
      "plt.xlabel('x (radians)')\n",
      "plt.ylabel('sin(x)')\n",
      "plt.grid()\n",
      "plt.savefig('sine_wave.png')\n",
      "\n",
      "# Second graph: Cosine wave\n",
      "y2 = np.cos(x)\n",
      "\n",
      "plt.figure()\n",
      "plt.plot(x, y2)\n",
      "plt.title('Cosine Wave')\n",
      "plt.xlabel('x (radians)')\n",
      "plt.ylabel('cos(x)')\n",
      "plt.grid()\n",
      "plt.savefig('cosine_wave.png')\n",
      "\n",
      "Final Output: CommandLineCodeResult(exit_code=0, output='', code_file='/Users/shivanksharma/Desktop/AI/Autogen0.4/cloudserve/tmp_code_25e97f76565e6055651c1f21b6e74fe860cebff9007a030d782544c3c40b1a74.py')\n"
     ]
    }
   ],
   "source": [
    "from autogen_agentchat.ui import Console\n",
    "\n",
    "response = [msg async for msg in cloudServeAgent.run_stream(task=\"Generate 2 graphs\", cancellation_token=CancellationToken())]"
   ]
  },
  {
   "cell_type": "code",
   "execution_count": 61,
   "metadata": {},
   "outputs": [],
   "source": [
    "from autogen_core.models import UserMessage\n",
    "from autogen_ext.models.openai import OpenAIChatCompletionClient\n",
    "\n",
    "# Create an OpenAI model client.\n",
    "model_client = OpenAIChatCompletionClient(\n",
    "    model=\"gpt-4o\",\n",
    "    # api_key=\"sk-...\", # Optional if you have an API key set in the environment.\n",
    ")"
   ]
  },
  {
   "cell_type": "code",
   "execution_count": 69,
   "metadata": {},
   "outputs": [
    {
     "name": "stdout",
     "output_type": "stream",
     "text": [
      "finish_reason='stop' content='```python\\nprint(\"Hello!\")\\n```' usage=RequestUsage(prompt_tokens=27, completion_tokens=9) cached=False logprobs=None thought=None\n"
     ]
    }
   ],
   "source": [
    "response = await model_client.create(\n",
    "            [SystemMessage(content=\"\"\"Write Only Python code what user asks for dont write anything else than code\"\"\")] \n",
    "            + [UserMessage(content='Hi', source=\"user\")]\n",
    "        )\n",
    "print(response)"
   ]
  },
  {
   "cell_type": "code",
   "execution_count": 96,
   "metadata": {},
   "outputs": [
    {
     "data": {
      "text/html": [
       "<img src=\"data:image/png;base64,iVBORw0KGgoAAAANSUhEUgAAAlgAAAGQCAIAAAD9V4nPAAA/00lEQVR4nO3de1xT9f8H8M82GOM6LgIDuXrlpiIgSJqmkWRKGmhZkngp+yqRilZSeaFU0r6pPzXxkqJmdLHUpNJSMryhIKiICCqigMBQgQ2Gg7Gd3wNOLb54CRF2tp3X848eO7f5ZuJefc75XDgURREAAAC24jJdAAAAAJMQhAAAwGoIQgAAYDUEIQAAsBqCEAAAWA1BCAAArIYgBAAAVkMQAgAAqyEIAQCA1RCEAADAaghCAABgNQQhAACwGoIQAABYDUEIAACshiAEAABWQxACAACrIQgBAIDVEIQAAMBqCEIAAGA1BCEAALAaghAAAFgNQQgAAKyGIAQAAFZDEAIAAKshCAEAgNUQhABdy83NberUqZ37ns+06Nz3JIRMnTrVzc2t098WQMshCIFdLl26FBkZ2b17dyMjI0dHx8jIyLy8PKLF8vLyli5deuPGjU55t2eeeYbzN2tr60GDBm3fvl2lUnXgrVasWLF///5OqQqAWQhCYJG9e/f6+fmlpqZOmzZt48aNM2bM+OOPP/z8/H766SeirfLy8uLj49sE4e8tOvaGTk5OX7VYtGhRU1PTjBkzPvjggw68D4IQ9IYB0wUAaEhhYeHrr7/eo0ePY8eO2dra0jvnzJnz9NNPR0ZG5uTkuLu7a7gkmUxmamragQv5fH6H/1ChUBgZGUm/fuutt/r27bthw4ZPPvnE0NCww+8JoNPQIgS2+Oyzz+rr67ds2aJOQUJIt27dNm/eXFdX99lnnz3sOdnSpUs5HI56MykpaeTIkXZ2dkZGRl5eXomJia1Ppihq2bJlTk5OJiYmI0aMuHTpUuujO3bs4HA4aWlps2fPtrOzc3JyIoTcvHlz9uzZffv2NTY2trGxmThxorr9t2PHjokTJxJCRowYQd/P/PPPP+9/RiiXy5cuXdqnTx+BQODg4BAeHl5YWNiez8TExGTw4MEymez27dv3H5XJZPPnz3d2djYyMurbt+9///tfiqLoQxwORyaT7dy5k66q0x+CAmgSWoTAFikpKW5ubk8//XSb/cOGDXNzc0tJSdm4cWN73icxMdHb2/vFF180MDBISUmZPXu2SqWKjo6mjy5evHjZsmUvtMjOzh41alRjY2Obd5g9e7atre3ixYtlMhkhJDMz89SpU5MmTXJycrpx40ZiYuIzzzyTl5dnYmIybNiwd955Z926dR988IGnpychhP5va0qlcuzYsampqZMmTZozZ05tbe3hw4dzc3N79uzZnh/n+vXrPB7P0tKyzX6Kol588cWjR4/OmDHD19f3t99+e/fdd2/durVmzRpCyFdfffXGG28EBgbOnDmTENLOPwtAS1EALFBTU0MIGTdu3AOPvvjii4QQqVRKUVRUVJSrq2vro0uWLGn9L6W+vr710dDQ0B49etCvKysr+Xz+mDFjVCoVvYd+/BYVFUVvJiUlEUKGDh3a1NT0sDdMT08nhOzatYve3LNnDyHk6NGjrc8Z3oJ+vX37dkLI6tWrW5+gLqCN4cOHe3h43G5x+fLld955hxASFhZGH239s9PP/5YtW6a+dsKECRwO59q1a/Smqamp+ucC0Gm4NQqsUFtbSwgxNzd/4FF6P33OvzI2NqZfSCSSO3fuDB8+/Pr16xKJhBBy5MiRxsbGmJgY9a3UuXPn3v8Ob775Jo/Hu/8NFQrF3bt3e/XqZWlpmZ2d3c4f7ccff+zWrVtMTEzrna3v5baRn59v28LT03P9+vVjxoyho7SNX3/9lcfj0UlJmz9/PkVRBw8ebGdhALoCt0aBFR4ddbW1tRwOp1u3bu15q5MnTy5ZsiQ9Pb2+vl69UyKRCIXCmzdvEkJ69+6t3m9ra2tlZdXmHdr0yrl3715CQkJSUtKtW7fUD+HoZG2PwsLCvn37Ghi099+ym5vb1q1bORyOQCDo3bu3nZ3dA0+7efOmo6Nj6/91oO/K0j8jgD5BEAIrCIVCR0fHnJycBx7NyclxcnKiu2Le35ZSKpXq14WFhc8++6yHh8fq1audnZ35fP6vv/66Zs2axxqKp24C0mJiYpKSkubOnRscHCwUCjkczqRJkzo2tq89TE1NQ0JCuujNAXQRghDYIiwsbPPmzSdOnBg6dGjr/cePH79x40ZsbCy9aWVlRT9QVGvdBkpJSWloaDhw4ICLiwu95+jRo+qjrq6uhJCrV6/26NGD3nP79u3q6upHF/bDDz9ERUV9/vnn9KZcLm9dwCNuctJ69ux55swZhULRueMfXF1djxw5Ultbq24U5ufnq3/G9hQGoCvwjBDYYsGCBSYmJm+99dbdu3fVO6uqqv7zn/9YWFi8/fbb9J6ePXtKJBJ127G8vHzfvn3q8+lne61vYNL9X2ghISGGhobr169Xn7B27dp/LYzH46nPJ4SsX7++dRuUHmjYJptbi4iIuHPnzoYNG1rvbP2GHfPCCy8olcrWb7tmzRoOhzN69Gh1YY+oCkCHoEUIbNGrV69du3a9+uqr/fr1mzFjhru7+40bN7Zt21ZdXf3tt9+qn9tNmjTp/ffff+mll9555536+vrExMQ+ffqou66MGjWKz+eHhYW99dZbdXV1W7dutbOzKy8vp4/a2touWLAgISFh7NixL7zwwrlz5w4ePPivjx7Hjh371VdfCYVCLy+v9PT0I0eO2NjYqI/6+vryeLyVK1dKJBIjIyN6CGPry6dMmbJr167Y2NiMjIynn35aJpMdOXJk9uzZ48aNe5KPKywsbMSIER9++OGNGzcGDBjw+++///TTT3PnzlWPlPD39z9y5Mjq1asdHR3d3d2DgoKe5I8DYBLT3VYBNOrixYuvvfaaSCTicptvhwgEgkuXLrU55/fff/fx8eHz+X379t29e3eb4RMHDhzo37+/QCBwc3NbuXIl3eWyqKiIPqpUKuPj4x0cHIyNjZ955pnc3FxXV9c2wycyMzNb/3HV1dXTpk3r1q2bmZlZaGhofn5+60soitq6dWuPHj3oxig9jqL18Al6AMaHH37o7u5uaGgoEokmTJhQWFj4wB9/+PDh3t7eD/tw2gwdqa2tnTdvnqOjo6GhYe/evT/77LPWozLy8/OHDRtGP+/EOArQaZwnv4UCoKN27do1derUyMjIXbt2MV0LADAGt0aBvaZMmVJeXr5w4UInJ6cVK1YwXQ4AMAMtQgAAYDX0GgUAAFZDEAIAAKshCAEAgNUQhAAAwGp63mtUpVKVlZWZm5tjOigAgK5GtQw/dXR0pMfp6go9D8KysjJnZ2emqwAAYJGSkhInJyeiO/Q8COn5gktKSiwsLJiuBQBAz0mlUmdn54ct/Km19DwI6TuiFi2YrgUAgBU4uvYoSpdu4wIAAHQ6BCEAALAaghAAAFgNQQgAAKyGIAQAAFZDEAIAAKvp+fAJAABoJ6WKyiiqqqyV25kLAt2teVwdGwXRYQhCAAAgh3LL41PyyiVyetNBKFgS5vW8jwNhAdwaBQBgu0O55bN2Z6tTkBBSIZHP2p19KLecsACCEACA1ZQqKj4lj/rfnfRmfEqeUtXmiB7SxiBUKpWLFi1yd3c3Njbu2bPnJ598QlF//U1QFLV48WIHBwdjY+OQkJCrV68yXSwAgG7LKKpq3RZUowgpl8gziqqIvtPGIFy5cmViYuKGDRsuX768cuXKVatWrV+/nj60atWqdevWbdq06cyZM6ampqGhoXL5A/7+AACgnSpr5R0+qh+0sbPMqVOnxo0bN2bMGEKIm5vbN998k5GRQTcH165d+9FHH40bN44QsmvXLnt7+/3790+aNInpkgEAdJWduaDDR/WDNrYIn3rqqdTU1CtXrhBCLly4cOLEidGjRxNCioqKKioqQkJC6NOEQmFQUFB6enqbyxsaGqStMPETAADojEB3azOjBzSKOC19RwPdrYm+08YW4cKFC6VSqYeHB4/HUyqVy5cvnzx5cnMvpooKQoi9vb36THt7e3pnawkJCfHx8RqvGgBAJx27eruuoanNTnoI4ZIwLzaMJtTGFuH333//9ddfJycnZ2dn79y587///e/OnTvbf3lcXJzkbyUlJV1ZKQCAbrtxRzbnm3OEkKG9ujkI/7kLKhIKEiP9WDKOUBtbhO++++7ChQvpJ3/9+vW7efNmQkJCVFSUSCQihIjFYgeHv/5uxGKxr69vm8uNWjBROACALpE1NM386qxU3uTnYrltaoABl8vOmWW0sUVYX1/P5f5TGI/HU6lUhBB3d3eRSJSamkrvl0qlZ86cCQ4OZq5SAABdRVHUuz9cuCKuszU3Soz0NzLg8bic4J4243y7B/e0YU8KammLMCwsbPny5S4uLt7e3ufOnVu9evX06dOb71lzOHPnzl22bFnv3r3d3d0XLVrk6Og4fvx4pusFANA9iWmFv16sMORxNkX62Vvof9dQHQvC9evXL1q0aPbs2ZWVlY6Ojm+99dbixYvpQ++9955MJps5c2ZNTc3QoUMPHTokELD67w8AoAP+LKj87LcCQsjSF739XfW/X+ijcdSTtuglqVQqFAolEomFhQXTtQAAaIWbd2Vh609I5U2vBjonhPfvxHfW0a9cbXxGCAAAXdhBZleWVN400MVy6YveTJejFRCEAABsQVHUez/kFIhrbc2NNrV0kCGAIAQAYI9Nadd/uVhuyOMkTmZ7B5nWEIQAAKyQduX2qt/yW+aL8Q5wY3sHmdYQhAAA+u/mXVlMcjZFkUmDnCcHuTBdjnZBEAIA6Ln6xqa3vmruIOPrbBk/zpvDYdFg+fZAEAIA6P0MMjn5FbXdzNBB5sEQhAAA+mzzseu/5JQbcDmJkX6iVtNqgxqCEABAbx27cnvVoZYOMi96D0IHmYdAEAIA6Kfiu/Ux35xTUeSVAOdIdJB5OAQhAIAeqm9sXmJJck8xAB1k/g2CEABAP2eQoTvIbI70Fxiig8yjIAgBAPTNlmPXf0YHmXZDEAIA6JXjV2+vpDvIhHmhg0x7IAgBAPRH8d36t5ObO8i8HOAUOdiV6XJ0A4IQAEAPO8h8PM4HHWTaCUEIAKAPKIp6/8eLLR1k+Jsi/dBBpv0QhAAA+mDr8espF8oMuJyNk/0dhMZMl6NLEIQAADrv+NXbnx5s7iCzOMwr0B0dZB4PghAAQLeVVP01g8xEf6fX0UHm8SEIAQB02L1G5cyvsmrqFQOchJ+MRweZjkAQAgDodAeZnMvl0uYOMq9jBpkOQhACAOiqL48XHWjpIPPFa37oINNhCEIAAJ104uqdhIOXCSGLxnoF9bBhuhwdpo1B6Obmxvlf0dHRhBC5XB4dHW1jY2NmZhYRESEWi5muFACAGSVV9W9/k62iyAR/pynB6CCjd0GYmZlZ/rfDhw8TQiZOnEgImTdvXkpKyp49e9LS0srKysLDw5muFACAAfcalW+1dJDp7yRchg4yT8yAaB9bW1v1608//bRnz57Dhw+XSCTbtm1LTk4eOXIkISQpKcnT0/P06dODBw9mtFgAAI2iKGrh3pw8uoMMlljS1xahWmNj4+7du6dPn87hcLKyshQKRUhICH3Iw8PDxcUlPT39/qsaGhqkrWi8agCALrTtRNFP5//qIONoiQ4y+h6E+/fvr6mpmTp1KiGkoqKCz+dbWlqqj9rb21dUVNx/VUJCgvBvzs7Omi0ZAKALnbx2Z8WvzR1kPhrjiQ4yrAjCbdu2jR492tHR8bGuiouLk/ytpKSky6oDANB4B5nk5g4yEX5OUU+5MV2O/tDGZ4S0mzdvHjlyZO/evfSmSCRqbGysqalRNwrFYrFIJLr/QqMWmi0WAEATHWSqWzrILH8JHWTY0SJMSkqys7MbM2YMvenv729oaJiamkpvFhQUFBcXBwcHM1ojAIAmUBQV19JBxsYUHWRY0yJUqVRJSUlRUVEGBn9VKBQKZ8yYERsba21tbWFhERMTExwcjC6jAMAG204U7T9fxuNyvpiMDjKsCcIjR44UFxdPnz699c41a9ZwudyIiIiGhobQ0NCNGzcyVyAAgIacunYnoWWJpY/GeA5GB5kuwKEoiugvqVQqFAolEomFhQXTtQAAPLbS6vqw9Seq6xXhft0/nzhAyx8NSnXzK1d7nxECALCcuoNMv+7CFS/10/IU1F0IQgAA7e0gc6mspYMMlljqSghCAABttP3kDbqDzIbX/Lqjg0xXQhACAGidU4V/zSDz4QuewT3RQaZrIQgBALRLaXX928nnlCoq3K/7tCGYQabLIQgBALSIXKH8z+6sKlmjT3cLdJDRDAQhAIBWdZC5mHtLam3K3/x6ADrIaAaCEABAWySdvLHv3K3mGWTQQUaDEIQAAFrhVOGd5eggwwQtnWINAIANlCoqo6iqslbO5XAW/5SrVFEvDUQHGU1DEAIAMONQbnl8Sl65RK7e42xlnBCODjKahlujAAAMOJRbPmt3dusUbF56t/renwWVzBXFUghCAABNU6qo+JS8+1c84BASn5KnVOnzWghaCEEIAKBpGUVVbdqCNIqQcok8o6iKiaLYC0EIAKBplbXyDh+FTocgBADQNDtzQYePQqdDEAIAaJqztTH3QT1DOYQ4CAWB7tYM1MRiCEIAAI2qqW+clpRJd4hpnYb06yVhXrwHhiR0GQQhAIDm3GtUvrHz7NXKOpGFYPlLPiLhP3dBRUJBYqTf8z4OjBbIRhhQDwCgIU1KVcw32WdvVlsIDHZOD+wrMp80yIWeWcbOvPmOKNqCjEAQAgBoAkVRH+y7eORypZEBd9vUQX1F5oQQHpeDaUUZh1ujAACa8N/fC74/W8rlkPWvDhzkhu4wWgRBCADQ5ZJOFn1xtJAQsuKlfqO8RUyXA7oQhLdu3YqMjLSxsTE2Nu7Xr9/Zs2fp/RRFLV682MHBwdjYOCQk5OrVq0xXCgDwLw5cKPv45zxCyIJRfSYFujBdDuhCEFZXVw8ZMsTQ0PDgwYN5eXmff/65lZUVfWjVqlXr1q3btGnTmTNnTE1NQ0ND5XJMwQAA2uvE1Tvzvz9PUSQq2DV6RC+my4EH4FCU1s3uunDhwpMnTx4/frzNfoqiHB0d58+fv2DBAkKIRCKxt7ffsWPHpEmTHvZWUqlUKBRKJBILC4uuLxwA4H9cLJVM2pIua1SO6e+wbtJAve8UKtXNr1xtbBEeOHAgICBg4sSJdnZ2AwcO3Lp1K72/qKiooqIiJCSE3hQKhUFBQenp6YwWCwDwYDfuyKbtyJA1Kp/qabP65QF6n4K6SxuD8Pr164mJib179/7tt99mzZr1zjvv7Ny5kxBSUVFBCLG3t1efaW9vT+9sraGhQdqKxssHAGieOHvK9ow7dY3ejhabX/c3MuAxXRHo1DhClUoVEBCwYsUKQsjAgQNzc3M3bdoUFRXVzssTEhLi4+O7uEYAgIeqlSumbs8srqp3tTHZMS3QXGDIdEWgay1CBwcHLy8v9aanp2dxcXHz/EOi5j7HYrFYfUgsFtM7W4uLi5P8raSkRIOFAwCQhiblzF1ZeeXSbmb8XdMDbc2NmK4IdDAIhwwZUlBQoN68cuWKq6srIcTd3V0kEqWmptL7pVLpmTNngoOD21xuZGRk0YpmawcAVlOqqHnfnU+/fteUz9sxLdDVxpTpikA3b43OmzfvqaeeWrFixcsvv5yRkbGlRXMPVw5n7ty5y5Yt6927t7u7+6JFixwdHcePH890vQAAzSiKik+59OvFCkMeZ8uUAJ/uQqYrAp0NwkGDBu3bty8uLu7jjz92d3dfu3bt5MmT6UPvvfeeTCabOXNmTU3N0KFDDx06JBBgBUsA0Aob/ri2K/0mh0PWvOI7pFc3pssBXR5H2Il0dFALAOicbzKK4/ZeJIQsDfOaOsSdsJJUN79ytfEZIQCAbvntUsWH+5pT8O0RvVibgroLQQgA8ETOXL8b8805FUVeCXCeP6oP0+XAY0MQAgB0XH6F9I1dZxubVCGe9stf8uFwMH2M7kEQAgB0UGl1fdT2jFp50yA3qw2vDTTg4RtVJ+GvDQCgI6pkjVO2Z4ilDX3szb6cMkhgiEnUdBWCEADgsdU3Nk3bkXn9tsxRKNg5PVBogknUdBiCEADg8SiUqlm7sy+U1FiaGO6aEeggNGa6IngiCEIAgMegUlHv/ZCTduW2wJC7feqgXnbmTFcETwpBCADwGD49lL/v3C0el5M42d/PxYrpcqATIAgBANpry7HCLceuE0JWRfQf4WHHdDnQORCEAADtsje7dMWv+c1rvY32iPB3Yroc6DQIQgCAf3e0oPK9H3IIIW8MdZ85rAfT5UBnQhACAPyLc8XVs3dnN6mo8b6OH7zgielj9AyCEADgUQpv103fkXlPoRzWx3bVhAFcLlJQ3yAIAQAeqkIin7Ito7peMcBJmDjZj2+A70w9hL9UAIAHk9xTRG3PuFVzz72b6fapg0yNtHElc3hyCEIAgAeQK5Rv7jxbIK61MzfaNT3QxsyI6YqgqyAIAQDaalKq3vnmXMaNKnMjg53TA52tTZiuCLoQghAA4H9QFLXop9zf88R8A+7WqABPBwumK4KuhSAEAPgfaw5f+SajhMsh6yb5Du5hw3Q50OUQhAAA/9iVfmPdH9cIIZ+M93nex4HpckATEIQAAH/5Jad8yYFLhJB5IX0mB7kyXQ5oCIIQAKDZqWt35n13nqJI5GCXd57txXQ5oDkIQgAAkntLMvOrrEalarSPKP5FH0yixiraGIRLly7ltOLh4UHvl8vl0dHRNjY2ZmZmERERYrGY6UoBQB8U362fmpRZ19A0uIf1mld8eZhEjWW0MQgJId7e3uV/O3HiBL1z3rx5KSkpe/bsSUtLKysrCw8PZ7pMANB5t2sbXt9+5k5dg6eDxZYpAQJDHtMVgaZp6YxBBgYGIpGo9R6JRLJt27bk5OSRI0cSQpKSkjw9PU+fPj148GDmygQA3VbX0DRtR8bNu/VOVsY7pw2yEBgyXREwQEuD8OrVq46OjgKBIDg4OCEhwcXFJSsrS6FQhISE0Cd4eHi4uLikp6ffH4QNLejXUqlU47UDgFZTqqiMoqrKWrmVieGmtMLcW1IbU/5XM4LsLARMlwbM0MYgDAoK2rFjR9++fcvLy+Pj459++unc3NyKigo+n29paak+zd7evqKi4v7LExIS4uPjNVsyAOiGQ7nl8Sl55RK5eg/fgJs0bZB7N1NG6wImaWMQjh49mn7Rv3//oKAgV1fX77//3tjYuJ2Xx8XFxcbG0q+lUqmzs3OXVQoAuuRQbvms3dnU/+5sbFKV1dzr7/TP/2QD22hpZxk1S0vLPn36XLt2TSQSNTY21tTUqA+JxeI2zxFpRkZGFq1otl4A0FJKFRWfktcmBQkhHELiU/KUqvuPAFtoexDW1dUVFhY6ODj4+/sbGhqmpqbS+wsKCoqLi4ODg5kuEAB0Q0ZRVes7omoUIeUSeUZRFRNFgVbQxlujCxYsCAsLc3V1LSsrW7JkCY/He/XVV4VC4YwZM2JjY62trS0sLGJiYoKDg9FlFADaqbJW3uGjoN+0MQhLS0tfffXVu3fv2traDh069PTp07a2ts1Twq9Zw+VyIyIiGhoaQkNDN27cyHSlAKAz7MwftbKunTm6jLIXh6L0+c64VCoVCoUSiQQPCwHYTKWiPth/8duMkvsPcQgRCQUn3h+JCWVY+5WrjS1CAIBO1KRUvfdDzt5zt+hNTstzQfVrQsiSMC+kIJshCAFAnzU2qeZ8e+5gbgWPy1n98gAjA27rcYQioWBJmBfWHWQ5BCEA6C25Qjlrd9bRgtt8HnfDawNHeTcPuHrOS0TPLGNnLgh0t0ZbEBCEAKCfZA1Nb+46e6rwrpEBd8uUgOF9mvvcEUJ4XE5wTxumqwMtgiAEAD0klSumJWVm3aw25fO2TR00uAeSDx4KQQgA+qZa1jhle8bFWxILgcHO6YEDXayYrgi0GoIQAPRKZa389S8zCsS11s1rSgR6OwqZrgi0HYIQAPRHWc29yV+eKbojszM3Sn4zqJedOdMVgQ5AEAKAnrh5V/ba1jO3au51tzROfjPI1QYrK0G7IAgBQB9cq6yd/OUZsbTBvZvp7jeCulu2d+E2AAQhAOi8vDLp69vO3JU19rE32/1GECYOhceCIAQA3XauuDpqe4ZU3uTT3WLX9CBrUz7TFYGOQRACgA47c/3u9B2Zskaln4tl0rRAobEh0xWB7kEQAoCuOnbl9syvzsoVquAeNl9GBZga4QsNOgK/NwCgk36/VPF28rlGpWpEX9vESH+BIY/pikBXIQgBQPccuFA277vzShU12kf0f5MG8g24TFcEOgxBCAA65vvMkvf35lAUeWlg988m9DfgIQXhiSAIAUCX7Dx1Y8mBS4SQVwNdlo/34WIRJXhiCEIA0Bmb0go/PZhPCJk+xH3RWE8OBykInQBBCAA6gKKoNUeurku9SgiJGdkr9rk+SEHoLAhCANB2FEWt+PXy1uNFhJB3Q/tGj+jFdEWgV7rkIXNZWVlXvC0AsJBKRX20P5dOwSVhXkhB0I0g9Pb2Tk5O7op3BgBWaVKqFvxw4eszxRwO+TS837Qh7kxXBHqoS4Jw+fLlb7311sSJE6uqqp7kfT799FMOhzN37lx6Uy6XR0dH29jYmJmZRUREiMXiTqoXALRRY5Nqzrfn92bf4nE5a1/xnRTownRFoJ+6JAhnz56dk5Nz9+5dLy+vlJSUjr1JZmbm5s2b+/fvr94zb968lJSUPXv2pKWllZWVhYeHd17JAKBd5Arlf3Zn/XKx3JDH+eI1v3G+3ZmuCPRWV3WWcXd3/+OPPzZs2BAeHu7p6Wlg8M8flJ2d/a+X19XVTZ48eevWrcuWLaP3SCSSbdu2JScnjxw5khCSlJTk6el5+vTpwYMHd9GPAABMqW9senPX2ZPX7hoZcDe/7v9MXzumKwJ91oW9Rm/evLl3714rK6tx48a1DsL2iI6OHjNmTEhIiDoIs7KyFApFSEgIvenh4eHi4pKeno4gBNAzUrlielLm2ZvVJnzetqhBwT1tmK4I9FxXBeHWrVvnz58fEhJy6dIlW1vbx7r222+/zc7OzszMbL2zoqKCz+dbWlqq99jb21dUVNx/eUML+rVUKu3oTwAADKiWNUYlZeSUSswFBjunB/q5WDFdEei/LgnC559/PiMjY8OGDVOmTHnca0tKSubMmXP48GGBoINrTCckJMTHx3fsWgBg0O3ahsgvzxSIa61N+bumB/p0FzJdEbBCl3SWUSqVOTk5HUhB+hZoZWWln5+fQYu0tLR169YZGBjY29s3NjbW1NSozxSLxSKR6P53iIuLk/ytpKTkyX4UANCQcsm9VzanF4hr7cyNvps5GCkIut0iPHz4cIevffbZZy9evKjenDZtmoeHx/vvv+/s7GxoaJiamhoREUEIKSgoKC4uDg4Ovv8djFp0uAAA0Lziu/WvfXm6tPped0vjr98IcutmynRFwCJaN8Waubm5j4+PetPU1NTGxobeM2PGjNjYWGtrawsLi5iYmODgYPSUAdAD1yrrIr88UyGVu9mY7H4jyMnKhOmKgF20LggfYc2aNVwuNyIioqGhITQ0dOPGjUxXBABP6nK5NPLLM3dljb3tzL5+I8jOooOdAwA6jENRFNFfUqlUKBRKJBILCwumawGAts6X1ERtz5DcU3g7Wnw1I8jalM90RcDGr1xdahECgD7JKKqaviOzrqHJz8UyaVqg0NiQ6YqApRCEAMCA41dvv7nrrFyhGtzDelvUIFMjfBcBY/DLBwCadiRPPPvr7Eal6pm+tpsi/QWGPKYrAlZDEAJAl1OqqIyiqspauZ25oFIqn7/nQpOKCvW2X/fqQCMDpCAwDEEIAF3rUG55fEpeuUTeeud4X8f/ThxgwOuSOT0AHguCEAC60KHc8lm7s+/vmz7KS4QUBC2BX0QA6CpKFRWfknd/CnII+eSXPKVKn8dugQ5BEAJAV8koqmpzR5RGNc8sKs8oqmKiKIC2EIQA0FUqa+UdPgqgMQhCAOgq0nuKRxy1M8dsaqAV0FkGALrEnrMlH6fkPfAQhxCRUBDobq3xogAeAC1CAOhkTUpVfMqld3/IUaio/k5CTkvyqdGvl4R58bitdwMwBkEIAJ2pStY4ZXtG0skbhJB3nu29f/aQxEg/kfCfu6AioSAx0u95HwdGywT4B26NAkCnuVwufXPX2dLqeyZ83uqXB9Bp97yPw3NeIvXMMoHu1mgLglZBEAJA5/glp3zBngv3FEoXa5OtUwL6iszVh3hcTnBPG0arA3goBCEAPCmVilp9+MqGo9cIIU/37rb+1YGWJlhZEHQGghAAnohUrpj37fnU/EpCyBtD3ReO9sDcaaBbEIQA0HGFt+ve3HX2+m0Z34D7aXi/cD8npisCeGwIQgDooKP5le98c662oclBKNj8un9/J0umKwLoCAQhADw2iqIS0wo/+62AokiAq9XGSD9MEwO6C0EIAI+nvrHpvR9yfs4pJ4S8GugS/6I33wAPBUGHIQgB4DGUVNXP/CrrcrnUgMtZ+qJ35GBXpisCeFIIQgBor/TCu9HJ2VWyRhtT/sbJfkE9MDQQ9AGCEAD+HUVRu9Jvfvxz82q6Pt0tNr8e0N3SmOmiADqHNt7ZT0xM7N+/v0WL4ODggwcP0vvlcnl0dLSNjY2ZmVlERIRYLGa6UgBWaGhSLvzx4pIDl5Qqapyv4563nkIKgj7RxiB0cnL69NNPs7Kyzp49O3LkyHHjxl26dIkQMm/evJSUlD179qSlpZWVlYWHhzNdKYD+q5TKX91y+ruzJVwO+eAFj7Wv+BrzeUwXBdCZOBRFEe1mbW392WefTZgwwdbWNjk5ecKECYSQ/Px8T0/P9PT0wYMHP+JaqVQqFAolEomFhYUGSwbQE+eKq/+zO0ssbbAQGKx/zW94H1umKwKtJtXNr1ytfkaoVCr37Nkjk8mCg4OzsrIUCkVISAh9yMPDw8XF5YFB2NCCfi2VSjVeNYCe2HO25MN9uY1KVW87sy1TAty7mTJdEQCbgvDixYvBwcFyudzMzGzfvn1eXl7nz5/n8/mWlv9MXWFvb19RUXH/tQkJCfHx8ZqtF0CvNClVy3+9TK8p+JyX/ZpXfM2MtPS7AkA/nxESQvr27Xv+/PkzZ87MmjUrKioqLy+v/dfGxcVJ/lZSUtKVZQLo/8q6myP9kYKg37T095vP5/fq1YsQ4u/vn5mZ+X//93+vvPJKY2NjTU2NulEoFotFItH91xq10HjJAHq7si6AftPSFmFrKpWqoaHB39/f0NAwNTWV3llQUFBcXBwcHMx0dQD645ec8vCNp0qr77lYm+ybPQQpCCyhjS3CuLi40aNHu7i41NbWJicn//nnn7/99ptQKJwxY0ZsbKy1tbWFhUVMTExwcPCju4wCQDthZV1gM20MwsrKyilTppSXlwuFwv79+//222/PPfccIWTNmjVcLjciIqKhoSE0NHTjxo1MVwqgD7CyLrCcDowjZOGgFgCNwcq60Il09CtXG1uEAKAZWFkXAEEIwFJYWRdADUEIwDpYWRegNQQhALtgZV2ANhCEACyClXUB7ocgBGAFrKwL8DAIQgD9pFRRGUVVlbVyO3PBAGfh0gOXvj9bSggZ5+v4aXh/rCkIoIYgBNBDh3LL41PyyiVyetOQx1EoKS6HLBzt8ebTPTgcDtMFAmgRBCGAvjmUWz5rd3brmTIUyuat6BG9Zg7ryWBhANoJfaYB9IpSRcWn5D1wvqgfskqVKn2eSQqgYxCEAHolo6hKfUe0jXKJPKOoSuMVAWg7BCGAXqmUyh91tPZRRwHYCUEIoD8qJPIdp5pXln8YzKMGcD90lgHQBxRF7ckq/eTnvFp50wNP4BAiEgoC3a01XhqAtkOLEEDnldXcm5qU+d4PObXypgHOlovHenFakk+Nfr0kzIvHxcAJgLbQIgTQYRRFfZdZsuyXy3UNTXwDbuxzfd4Y6m7A4zpaClqPIxQJBUvCvJ73cWC6XgBthCAE0FWl1fVxey8ev3qHEDLQxfKzCQN62ZnRh573cXjOS6SeWSbQ3RptQYCHQRAC6B6KopIzilf8clnWqDQy4L4b2nfaEPc2UcfjcoJ7Yk5tgH+HIATQMSVV9e//mHOq8C4hzWvqrprQv4ftXw1BAOgABCGAzlCpqN1nbn56ML++USkw5L4X6hH1lBvueQI8IQQhgG64eVf23g85Z1qmhgl0t14V0d+tmynTRQHoAwQhgLZTqaid6TdWHSq4p1AaG/IWjvZ4fbArFw1BgE6CIATQakV3ZO//kJNxo7khGNzDZmVEfxcbE6aLAtAr2jigPiEhYdCgQebm5nZ2duPHjy8oKFAfksvl0dHRNjY2ZmZmERERYrGY0UoBupBSRX15/Pro/zuWcaPKlM9bNt7n6zeCkIIArAjCtLS06Ojo06dPHz58WKFQjBo1SiaT0YfmzZuXkpKyZ8+etLS0srKy8PBwposF6BKFt+smbjq17JfLcoVqaK9uh+YOi8TtUICuwaEorV6f7Pbt23Z2dmlpacOGDZNIJLa2tsnJyRMmTCCE5Ofne3p6pqenDx48+GGXS6VSoVAokUgsLCw0WzjAEzUEVx++0tCkMjMy+HCM56RBzlhTHnSCVDe/crX9GaFEIiGEWFs3zxSclZWlUChCQkLoQx4eHi4uLo8OQgDdcq2ydsGenPMlNYSQYX1sE8L7dbc0ZrooAD2n1UGoUqnmzp07ZMgQHx+f5iVmKir4fL6lpaX6BHt7+4qKijZXNbSgX0ulUs2WDNBBTUrVluPX1x652tikMjcyWDTWa2KAExqCAGwPwujo6Nzc3BMnTjzWVQkJCfHx8V1WFEDnK6ioffeHCzmlzfc/RvS1XRHez0GIhiAAizvL0N5+++2ff/756NGjTk5O9B6RSNTY2FhT03zXiCYWi0UiUZsL4+LiJH8rKSnRbNUAj0ehVG344+rY9cdzSiUWAoPPJw7YPnUQUhCA7S1CiqJiYmL27dv3559/uru7q/f7+/sbGhqmpqZGREQ0/090QUFxcXFwcHCby41aaLxqgMd2uVy6YM+FS2XNN/BDPO2Wv9TP3gIryANomjYGYXR0dHJy8k8//WRubk4/AhQKhcbGxkKhcMaMGbGxsdbW1hYWFjExMcHBwegpA7pIoVRtPFq44ehVhZKyNDFcGuY9ztcRTwQBGKGNwyfu/zpISkqaOnUqPaB+/vz533zzTUNDQ2ho6MaNG++/NaoHfXlBv10qkyzYk3O5vLkhOMrLftlLPnbmaAiCPpDq5leuNgZhJ9LRvxXQV41Nqg1Hr208eq1JRVmZGMaP8wnr74CGIOgNqW5+5WrjrVEAvXSxVPLuDxfyK2oJIS/0E308zqebGR5mAzAPQQjQ5RqalOtSr25Ku65UUTam/I/H+Yzp78B0UQDwFwQhQNe6UFLz7g8XrojrCCFhAxyXhnnZoCEIoE0QhACdRqmiMoqqKmvlduaCQHdrhVK19sjVLccKVRTpZsZfNt7neR80BAG0DoIQoHMcyi2PT8krl8jpTRtTvgGPI5Y2z/Y33tdxSZi3lSmf6RoB4AEQhACd4FBu+azd2a17YN+VNRJCmieLedn3OS97BmsDAF2dYg1AVyhVVHxK3gPHIRnzeSM97DRfEgC0H4IQ4EllFFWp74i2IZY2ZBRVabwiAHgMCEKAJ5VT+s9E8PerrH1wRgKAlsAzQoCOK7oj+78jV/afL3vEOZg+DUDLIQgBOqK0un596rUfskuVquaHgwIDrrxJ1eYcDiEiYfM4CoZqBIB2QRACPB6xVP7F0WvfZBQrlM0RONLDLva5PqXV9bN2ZzcvIvb3afT8oUvCvHhcTCUKoNUQhADtdaeuYdOfhV+dvtnQ0vgb0ssm9rm+/q5WhBCf7sLESL/W4whFQsGSMC+MoAfQfghCgH8nqVdsOV6YdPJGfaOSEBLgajV/VN/gnjatz3nex+E5L1HrmWXQFgTQCQhCgEeplSuSTt7Yevx6rbyJENLfSTh/VN9hvbs9cO0kHpfTJh0BQPshCAEe7F6jclf6jU1phdX1CkKIh8g89rk+z3nZY/lAAD2DIARoS65QfpNR/MXRwjt1zTOF9rA1nRfSZ0w/By5udQLoIwQhwD8UStWes6Xr/7hK93lxtjae+2yfcb6OBjxMPQGgtxCEAM2UKmr/uVv/l3q1uKqeEOIgFMSM7D0xwMkQEQig7xCEwHYqFfXLxfK1R64U3pYRQrqZGUWP6PlqoIvAkMd0aQCgCQhCYC+Kog7niVcfvpJfUUsIsTQx/M/wnlOCXU34+HcBwCL4Bw9sRFHUsat3Pv+9IKdUQggxNzJ44+ke04e6mQsMmS4NADQNQQisc/r63c9/L8i8UU0IMeHzpg1xe/PpHpYmWD4egKUQhMAi2cXVn/9ecPLaXUII34A7ZbDrf57p2c3MiOm6AIBJ2tgj7tixY2FhYY6OjhwOZ//+/er9FEUtXrzYwcHB2Ng4JCTk6tWrjJYJuiT3lmT6jszwjadOXrtryOO8Ptj12LsjPhrrhRQEAG0MQplMNmDAgC+++KLN/lWrVq1bt27Tpk1nzpwxNTUNDQ2Vy7HkKfyLK+LaWbuzxq4/8Ud+JY/LeTnA6Y/5z3wy3kckxDKBAKCtt0ZHt2izk6KotWvXfvTRR+PGjSOE7Nq1y97efv/+/ZMmTWKoTNCNVXN/ulBGUYTDIS8OcJzzbO8etmZM1wUA2kUbg/CBioqKKioqQkJC6E2hUBgUFJSenn5/EDa0oF9LpVKNVwoapVRR9y/4UFJVv/6Pqz9m36JXzX3eWzTvuT59ReZMFwsA2khngrCiooIQYm9vr95jb29P72wjISEhPj5es9UBMw7llrdeAtBBKJjzbO9LZdJvM/9n1Vyf7kKmKwUA7aUzQdh+cXFxsbGx9GupVOrs7Mx0RdAlDuWWz9qdrV4RnhBSLpEv3HuRft161VwAAH0IQpFIRAgRi8UODn8t+S0Wi319fe8/06iFxgsEjVKqqPiUvNYpqGbI4yRNHTS0t63mqwIAXaSNvUYfyN3dXSQSpaam0ptSqfTMmTPBwcFM1wXMyCiqUt8RbUOhpHhcnfnFBgDGaWOLsK6u7tq1a/TroqKi8+fPW1tbu7i4zJ07d9myZb1793Z3d1+0aJGjo+P48eOZLhYYkFcm3XKs8BEnVNZiXA0A6HIQnj17dsSIEfRr+mlfVFTUjh073nvvPZlMNnPmzJqamqFDhx46dEggwFAwFqmslf90ruzH7FJ6juxHsDPHLwYAtBeHoh74nEVPSKVSoVAokUgsLCyYrgU6SK5Q/p4n3ptdeuzK7ZbREITP4470sD1TVFVTr2jz68shRCQUnHh/JD2OAgA0SaqbX7na2CIEoJcJPHuzem926S855bUNTfROPxfLcD+nsf0dLE34dK9RDiHqLKSjb0mYF1IQANoPQQha58Yd2d5zt/adKy2pukfv6W5pHO7XPdzPyb2bqfq0530cEiP9Wo8jFAkFS8K8nvf5q18xAEB7IAhBW0juKX7JKf8xuzTrZvMCSYQQMyODF/qJwv2cAt2suQ9q5D3v4/Ccl+j+mWUAANoPQQgMUyhVx67c3pt96/BlcWOTqnlMD4cM7W0b4dd9lJfImM979OU8Lie4p42migUAPYQgBGZQFHWpTLo3+9aBC7fu1DXSO/vam0f4dx/n293eAt0+AUBDEISgaWKpfP+5W3uzbxWI/xoFYWPKH+fbPdyvu7ejBYeDe5sAoFEIQtCQe43K3/Mqfsy+deLq36MgDLjPedpH+Hd/uretIQ9zwQAAMxCE0LVUKirjRtWPWaUHcyvq/h4FEeBqFe7nNKafg9DEkOkCAYDtEITQVa7frtvXcgv0Vs1foyCcrIzD/ZzCB3Z3azUKAgCAWQhC6Jy1cNVq6ht/zinfm12aXVxD7zE3MhjT3yHczynA1eqBoyAAABiEIIQnXQuXHsOuUKr+LLi9N7s09XJlo/KvURDD+thG+Dk952UvMPyXURAAAExBEMITrYVbIZH/Z3f2iL62F0olVbK/RkF4iMwn+Du96OuIya8BQPshCOGJ1sKlN48W3CaEdDMzGu/rGO7n5OWoS/PtAgDLIQihE9bCJYS8/3zfN5/uYYBREACgaxCE8ChyhfJSmfRccfW54pqT1+484kxHS2OkIADoIgQh/A+Kom7V3DtXXJPdEn55ZVK658u/wuNAANBRCEJobvbllErOFVfT4VdZ29D6qI0pf6CLlZ+r5YDulrF7zldKGx64Fm6gu7WGywYA6BQIQjaiKKqk6t65kursm9XZxTWXy6VN9KRnLQy4HC9Hi4HOln6uVgOdrZytjdXzf8a/6I21cAFAzyAI2aK+selCiaQl/GrOl1SrF3yg2Zkb+blYDXRpDj8fR+HDFj/CWrgAoH8QhHqLoqgbd+uzb1bT4VcgrlW2avYZ8jjejkJ1+DkKBe1c9gFr4QKAnkEQ6sOsZmp1DU0XSmpawq/mXHF1db2i9VEHoYBOvoEuVt6OFh2e7QVr4QKAPkEQ6vCsZvTaDtfvyOhOLueKqwvEtVSrrix8A26/7kK/luQb6GLpIDRm7GcAANBWCEJdndVsbH+HWnnTueJqqfyvtY1oTlbGzZ08W8LPy8GCb4CxfQAAj4IgfNK7kV1EoVTV1Cvu1jV8uC/3gbOa/ZxTTm8KDLn9nSybH/W1NPswng8AQM+D8Isvvvjss88qKioGDBiwfv36wMBADd+NfBIURdU2NNXIFNX1jdX1jTX19AuFpOW/6j019Qr1GraPMG2IW4SfU1+ROZZ3BwBgSxB+9913sbGxmzZtCgoKWrt2bWhoaEFBgZ2dnQbuRs7anZ0Y6fewLJQrlDX1ipp7jdUyRc0/qUYHG72n+XXNPUXrrpuPxuEQY0NefaPyYSf4Olv6dBc+7k8HAACtcajWnSu0XlBQ0KBBgzZs2NDST0Tl7OwcExOzcOHCh50vlUqFQqFEIrGwaO96CEoVNXTlHw+cXdrS2HD2iJ7Se01/p9o/sXdP8dC4up+xIc/KxNDShG9pYmj1v/+1MjUUGvOtWl5bGBtmFFW9uvX0w97nmzcHo/cmAGgP6eN/5WoDXWoRNjY2ZmVlxcXF0ZtcLjckJCQ9Pb3NaQ0t6NdSqbQT11iouadY8Wv+wy7kcTmWxobqVLM0ac6zlv/+9UJ9qP3jFgLdrR2EggqJHLOaAQB0EV0Kwjt37iiVSnt7e/Uee3v7/Py2yZSQkBAfH9/hP6Wy9qErDRFC/Fya70bSIdcm8MyNDLid3aGGx+UsCfPCrGYAAF1Hl4KwneLi4mJjY+nXUqnU2dn5sS5/dK/Ld0M9NHw3ErOaAQB0KV0Kwm7duvF4PLFYrN4jFotFIlGb04xadPhP0cK7kZjVDACg6+hSt3s+n+/v75+amkpvqlSq1NTU4ODgrrgbqb4DqSV3I+lZzcb5dg/uaYMUBABgaRASQmJjY7du3bpz587Lly/PmjVLJpNNmzati+5GioT/3CMVCQWPGDsBAAC6S5dujRJCXnnlldu3by9evLiiosLX1/fQoUOt+850ItyNBABgCR0bR8iSQS0AALpIqptfuTp2axQAAKBzIQgBAIDVEIQAAMBqCEIAAGA1BCEAALAaghAAAFhNx8YRPi56cEgH1qAAAIDHRX/Z6tyoPD0PwtraWkLI4867DQAAHVZbWysU6tKa4Xo+oF6lUpWVlZmbm3M4HZkXhl68oqSkRLcGh2oAPpmHwSfzMPhk2PDJUBRVW1vr6OjI5erSczc9bxFyuVwnJ6cnfBOLFp1UkV7BJ/Mw+GQeBp+M3n8yQp1qC9J0KbQBAAA6HYIQAABYDUH4KEZGRkuWLHmSZX71FT6Zh8En8zD4ZB4Gnwzj9LyzDAAAwKOhRQgAAKyGIAQAAFZDEAIAAKshCAEAgNUQhI/yxRdfuLm5CQSCoKCgjIwMpsvRCgkJCYMGDTI3N7ezsxs/fnxBQQHTFWmdTz/9lMPhzJ07l+lCtMitW7ciIyNtbGyMjY379et39uxZpitinlKpXLRokbu7u7Gxcc+ePT/55BN0XWQKgvChvvvuu9jY2CVLlmRnZw8YMCA0NLSyspLpopiXlpYWHR19+vTpw4cPKxSKUaNGyWQypovSIpmZmZs3b+7fvz/ThWiR6urqIUOGGBoaHjx4MC8v7/PPP7eysmK6KOatXLkyMTFxw4YNly9fXrly5apVq9avX890USyF4RMPFRQUNGjQoA0bNtBzljo7O8fExCxcuJDpurTI7du37ezs0tLShg0bxnQtWqGurs7Pz2/jxo3Lli3z9fVdu3Yt0xVphYULF548efL48eNMF6Jdxo4da29vv23bNnozIiLC2Nh49+7dTNfFRmgRPlhjY2NWVlZISAi9yeVyQ0JC0tPTma5Lu0gkEkKItbU104Voi+jo6DFjxqh/bYB24MCBgICAiRMn2tnZDRw4cOvWrUxXpBWeeuqp1NTUK1euEEIuXLhw4sSJ0aNHM10US+n5pNsddufOHaVSaW9vr95jb2+fn5/PaFHaRaVSzZ07d8iQIT4+PkzXohW+/fbb7OzszMxMpgvROtevX09MTIyNjf3ggw8yMzPfeecdPp8fFRVF2G3hwoVSqdTDw4PH4ymVyuXLl0+ePJnpolgKQQgdFB0dnZube+LECaYL0QolJSVz5sw5fPiwQCBguhato1KpAgICVqxYQQgZOHBgbm7upk2bEITff//9119/nZyc7O3tff78+blz5zo6OuJjYQSC8MG6devG4/HEYrF6j1gsFolEjBalRd5+++2ff/752LFjT77KlX7IysqqrKz08/OjN5VK5bFjxzZs2NDQ0MDj8Qi7OTg4eHl5qTc9PT1//PFHRivSCu++++7ChQsnTZpECOnXr9/NmzcTEhIQhIzAM8IH4/P5/v7+qamp9KZKpUpNTQ0ODma6LuZRFPX222/v27fvjz/+cHd3Z7ocbfHss89evHjx/N8CAgImT558/vx5pCAhZMiQIa2H2Vy5csXV1ZXRirRCfX1969VreTyeSqVitCL2QovwoWJjY6OiogICAgIDA9euXSuTyaZNm8Z0UcyLjo5OTk7+6aefzM3NKyoq6HU4jY2NCbuZm5u3flZqampqY2ODp6e0efPmPfXUUytWrHj55ZczMjK2tGC6KOaFhYUtX77cxcXF29v73Llzq1evnj59OtNFsRUFD7d+/XoXFxc+nx8YGHj69Gmmy9EK9/8KJSUlMV2U1hk+fPicOXOYrkKLpKSk+Pj4GBkZeXh4bNmyhelytIJUKp0zZ46Li4tAIOjRo8eHH37Y0NDAdFEshXGEAADAanhGCAAArIYgBAAAVkMQAgAAqyEIAQCA1RCEAADAaghCAABgNQQhAACwGoIQAABYDUEIoC2USuVTTz0VHh6u3iORSJydnT/88ENG6wLQc5hZBkCLXLlyxdfXd+vWrfTSdFOmTLlw4UJmZiafz2e6NAC9hSAE0C7r1q1bunTppUuXMjIyJk6cmJmZOWDAAKaLAtBnCEIA7UJR1MiRI3k83sWLF2NiYj766COmKwLQcwhCAK2Tn5/v6enZr1+/7OxsAwOslQbQtdBZBkDrbN++3cTEpKioqLS0lOlaAPQfWoQA2uXUqVPDhw///fffly1bRgg5cuQIh8NhuigAfYYWIYAWqa+vnzp16qxZs0aMGLFt27aMjIxNmzYxXRSAnkOLEECLzJkz59dff71w4YKJiQkhZPPmzQsWLLh48aKbmxvTpQHoLQQhgLZIS0t79tln//zzz6FDh6p3hoaGNjU14QYpQNdBEAIAAKvhGSEAALAaghAAAFgNQQgAAITN/h/NnJcAUu0XJQAAAABJRU5ErkJggg==\"/>"
      ],
      "text/plain": [
       "<autogen_core._image.Image at 0x1575181a0>"
      ]
     },
     "execution_count": 96,
     "metadata": {},
     "output_type": "execute_result"
    }
   ],
   "source": [
    "response.messages[1].content[1]"
   ]
  },
  {
   "cell_type": "code",
   "execution_count": null,
   "metadata": {},
   "outputs": [],
   "source": []
  }
 ],
 "metadata": {
  "kernelspec": {
   "display_name": "autogen0.4",
   "language": "python",
   "name": "python3"
  },
  "language_info": {
   "codemirror_mode": {
    "name": "ipython",
    "version": 3
   },
   "file_extension": ".py",
   "mimetype": "text/x-python",
   "name": "python",
   "nbconvert_exporter": "python",
   "pygments_lexer": "ipython3",
   "version": "3.12.8"
  }
 },
 "nbformat": 4,
 "nbformat_minor": 2
}
