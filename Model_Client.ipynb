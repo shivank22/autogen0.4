{
 "cells": [
  {
   "cell_type": "code",
   "execution_count": 3,
   "metadata": {},
   "outputs": [],
   "source": [
    "from autogen_core.models import UserMessage\n",
    "from autogen_ext.models.openai import OpenAIChatCompletionClient\n",
    "\n",
    "# Create an OpenAI model client.\n",
    "model_client = OpenAIChatCompletionClient(\n",
    "    model=\"gpt-4o-mini\",\n",
    "    # api_key=\"sk-...\", # Optional if you have an API key set in the environment.\n",
    ")"
   ]
  },
  {
   "cell_type": "code",
   "execution_count": 5,
   "metadata": {},
   "outputs": [
    {
     "name": "stdout",
     "output_type": "stream",
     "text": [
      "The capital of France is Paris.\n",
      "RequestUsage(prompt_tokens=15, completion_tokens=8)\n"
     ]
    }
   ],
   "source": [
    "# Send a message list to the model and await the response.\n",
    "messages = [\n",
    "    UserMessage(content=\"What is the capital of France?\", source=\"user\"),\n",
    "]\n",
    "response = await model_client.create(messages=messages)\n",
    "\n",
    "# Print the response\n",
    "print(response.content)\n",
    "print(response.usage)"
   ]
  },
  {
   "cell_type": "code",
   "execution_count": 6,
   "metadata": {},
   "outputs": [
    {
     "name": "stdout",
     "output_type": "stream",
     "text": [
      "Streamed responses:\n",
      "In a quiet valley nestled between two mountains, there lived a dragon named Ember. Unlike others of her kind, Ember had shimmering scales of emerald green instead of the usual fiery red. While her breath was warm and could ignite a forest, she preferred to nurture the wildflowers that bloomed in her domain.\n",
      "\n",
      "One day, a drought threatened the valley, and the flowers began to wilt. Sensing their distress, Ember flew high into the sky, collecting clouds in her massive wings. With a powerful huff, she released a gentle rain over the parched land.\n",
      "\n",
      "The flowers revived, vibrant and grateful, their colors brighter than ever. The villagers, initially afraid of the dragon, soon recognized her as a guardian. From that day on, Ember wasn't just a dragon; she was a beloved protector, forever nurturing life in the valley she called home.\n",
      "\n",
      "------------\n",
      "\n",
      "The complete response:\n",
      "In a quiet valley nestled between two mountains, there lived a dragon named Ember. Unlike others of her kind, Ember had shimmering scales of emerald green instead of the usual fiery red. While her breath was warm and could ignite a forest, she preferred to nurture the wildflowers that bloomed in her domain.\n",
      "\n",
      "One day, a drought threatened the valley, and the flowers began to wilt. Sensing their distress, Ember flew high into the sky, collecting clouds in her massive wings. With a powerful huff, she released a gentle rain over the parched land.\n",
      "\n",
      "The flowers revived, vibrant and grateful, their colors brighter than ever. The villagers, initially afraid of the dragon, soon recognized her as a guardian. From that day on, Ember wasn't just a dragon; she was a beloved protector, forever nurturing life in the valley she called home.\n",
      "\n",
      "\n",
      "------------\n",
      "\n",
      "The token usage was:\n",
      "RequestUsage(prompt_tokens=0, completion_tokens=0)\n"
     ]
    }
   ],
   "source": [
    "messages = [\n",
    "    UserMessage(content=\"Write a very short story about a dragon.\", source=\"user\"),\n",
    "]\n",
    "\n",
    "# Create a stream.\n",
    "stream = model_client.create_stream(messages=messages)\n",
    "\n",
    "# Iterate over the stream and print the responses.\n",
    "print(\"Streamed responses:\")\n",
    "async for response in stream:  # type: ignore\n",
    "    if isinstance(response, str):\n",
    "        # A partial response is a string.\n",
    "        print(response, flush=True, end=\"\")\n",
    "    else:\n",
    "        # The last response is a CreateResult object with the complete message.\n",
    "        print(\"\\n\\n------------\\n\")\n",
    "        print(\"The complete response:\", flush=True)\n",
    "        print(response.content, flush=True)\n",
    "        print(\"\\n\\n------------\\n\")\n",
    "        print(\"The token usage was:\", flush=True)\n",
    "        print(response.usage, flush=True)"
   ]
  },
  {
   "cell_type": "code",
   "execution_count": null,
   "metadata": {},
   "outputs": [],
   "source": []
  }
 ],
 "metadata": {
  "kernelspec": {
   "display_name": "autogen0.4",
   "language": "python",
   "name": "python3"
  },
  "language_info": {
   "codemirror_mode": {
    "name": "ipython",
    "version": 3
   },
   "file_extension": ".py",
   "mimetype": "text/x-python",
   "name": "python",
   "nbconvert_exporter": "python",
   "pygments_lexer": "ipython3",
   "version": "3.12.8"
  }
 },
 "nbformat": 4,
 "nbformat_minor": 4
}
