{
 "cells": [
  {
   "cell_type": "code",
   "execution_count": 25,
   "metadata": {},
   "outputs": [
    {
     "data": {
      "text/plain": [
       "True"
      ]
     },
     "execution_count": 25,
     "metadata": {},
     "output_type": "execute_result"
    }
   ],
   "source": [
    "from dotenv import load_dotenv\n",
    "load_dotenv()"
   ]
  },
  {
   "cell_type": "code",
   "execution_count": 53,
   "metadata": {},
   "outputs": [],
   "source": [
    "import asyncio\n",
    "\n",
    "from autogen_agentchat.agents import AssistantAgent\n",
    "from autogen_agentchat.base import TaskResult\n",
    "from autogen_agentchat.conditions import ExternalTermination, TextMentionTermination\n",
    "from autogen_agentchat.teams import RoundRobinGroupChat\n",
    "from autogen_agentchat.ui import Console\n",
    "from autogen_core import CancellationToken\n",
    "from autogen_ext.models.openai import OpenAIChatCompletionClient\n",
    "from autogen_agentchat.teams import SelectorGroupChat\n",
    "from autogen_agentchat.ui import Console\n",
    "from autogen_agentchat.messages import AgentEvent, ChatMessage"
   ]
  },
  {
   "cell_type": "code",
   "execution_count": 27,
   "metadata": {},
   "outputs": [],
   "source": [
    "model_client = OpenAIChatCompletionClient(model=\"gpt-4o-mini\")"
   ]
  },
  {
   "cell_type": "code",
   "execution_count": 45,
   "metadata": {},
   "outputs": [],
   "source": [
    "# Create the primary agent.\n",
    "Planner = AssistantAgent(\n",
    "    \"Planner\",\n",
    "    model_client=model_client,\n",
    "    system_message=\"\"\"You are Planner Agent Below are your tasks\n",
    "        1. Give tasks to Coder Agent\n",
    "        2. Once Task is completed Give code to Tester Agent\n",
    "        3. Review processes are completed by Coder Agent and Tester Agent\n",
    "        4. Return Java 17 code with commit message\n",
    "        5. Once all tasks are completed, Reply with APPROVE to end the task\n",
    "        6. If Agent replies as DONE move forward with output to next task\n",
    "        \"\"\",\n",
    ")\n",
    "\n",
    "# Create the critic agent.\n",
    "Coder = AssistantAgent(\n",
    "    \"Coder\",\n",
    "    model_client=model_client,\n",
    "    system_message=\"Write JAVA17 code for input code provided by Planner agent, Reply with DONE once task is completed\",\n",
    ")\n",
    "\n",
    "# Create the critic agent.\n",
    "Tester = AssistantAgent(\n",
    "    \"Tester\",\n",
    "    model_client=model_client,\n",
    "    system_message=\"Understand the code provided by coder agent and Write Unit test cases for the code provided, Reply with DONE once task is completed\",\n",
    ")\n",
    "\n",
    "# Define a termination condition that stops the task if the critic approves.\n",
    "text_termination = TextMentionTermination(\"APPROVE\")\n",
    "\n",
    "# Create a team with the primary and critic agents.\n",
    "team = RoundRobinGroupChat([Planner, Coder,Tester], termination_condition=text_termination)"
   ]
  },
  {
   "cell_type": "code",
   "execution_count": 46,
   "metadata": {},
   "outputs": [],
   "source": [
    "task=\"\"\"Migrate below code to JAVA17\n",
    "import java.util.*;\n",
    "import java.text.SimpleDateFormat;\n",
    "\n",
    "public class LegacyJavaApp {\n",
    "    public static void main(String[] args) {\n",
    "        Date now = new Date();\n",
    "        SimpleDateFormat sdf = new SimpleDateFormat(\"yyyy-MM-dd HH:mm:ss\");\n",
    "        System.out.println(\"Current Date: \" + sdf.format(now));\n",
    "\n",
    "        StringBuffer sb = new StringBuffer();\n",
    "        sb.append(\"Hello\");\n",
    "        sb.append(\" Java 8\");\n",
    "        System.out.println(sb.toString());\n",
    "\n",
    "        List<String> names = Arrays.asList(\"Alice\", \"Bob\", \"Charlie\");\n",
    "        Collections.sort(names, new Comparator<String>() {\n",
    "            @Override\n",
    "            public int compare(String a, String b) {\n",
    "                return a.compareTo(b);\n",
    "            }\n",
    "        });\n",
    "        System.out.println(\"Sorted Names: \" + names);\n",
    "    }\n",
    "}\n",
    "\n",
    "\n",
    "\"\"\""
   ]
  },
  {
   "cell_type": "code",
   "execution_count": null,
   "metadata": {},
   "outputs": [],
   "source": [
    "# selector_prompt = \"\"\"Select from below roles\n",
    "# {roles}\n",
    "# for first task select Planner\n",
    "# Current conversation context:\n",
    "# {history}\n",
    "\n",
    "# Read the above conversation, then select an agent from {participants} to perform the next task.\n",
    "# Make sure the planner agent has assigned tasks before other agents start working.\n",
    "# Only select one agent.\n",
    "# \"\"\""
   ]
  },
  {
   "cell_type": "code",
   "execution_count": null,
   "metadata": {},
   "outputs": [],
   "source": [
    "from typing import Sequence\n",
    "\n",
    "def selector_func(messages: Sequence[AgentEvent | ChatMessage]) -> str | None:\n",
    "    if not messages:\n",
    "        return \"Planner\"  # Start with Planner Agent\n",
    "    \n",
    "    last_message = messages[-1]\n",
    "\n",
    "    if last_message.source == \"Planner\":\n",
    "        return \"Coder\"  # Pass tasks to the coder\n",
    "\n",
    "    if last_message.source == \"Coder\":\n",
    "        return \"Tester\"  # Coder sends code to the tester\n",
    "\n",
    "    if last_message.source == \"Tester\":\n",
    "        if \"error\" in last_message.content.lower():\n",
    "            return \"Coder\"  # If error occurs, send back to coder\n",
    "        return \"Planner\"  # If no error, end process\n",
    "\n",
    "    return \"Planner\"  # Default case\n"
   ]
  },
  {
   "cell_type": "code",
   "execution_count": 55,
   "metadata": {},
   "outputs": [],
   "source": [
    "team = SelectorGroupChat(\n",
    "    [Planner, Coder, Tester],\n",
    "    model_client=model_client,\n",
    "    termination_condition=text_termination,\n",
    "    selector_func=selector_func,\n",
    "    allow_repeated_speaker=False,  # Allow an agent to speak multiple turns in a row.\n",
    ")"
   ]
  },
  {
   "cell_type": "code",
   "execution_count": 57,
   "metadata": {},
   "outputs": [
    {
     "ename": "TypeError",
     "evalue": "expected string or bytes-like object, got 'AssistantAgent'",
     "output_type": "error",
     "traceback": [
      "\u001b[0;31m---------------------------------------------------------------------------\u001b[0m",
      "\u001b[0;31mTypeError\u001b[0m                                 Traceback (most recent call last)",
      "Cell \u001b[0;32mIn[57], line 1\u001b[0m\n\u001b[0;32m----> 1\u001b[0m \u001b[38;5;28;01mawait\u001b[39;00m Console(team\u001b[38;5;241m.\u001b[39mrun_stream(task\u001b[38;5;241m=\u001b[39mtask))\n",
      "File \u001b[0;32m~/miniconda3/envs/autogen0.4/lib/python3.12/site-packages/autogen_agentchat/ui/_console.py:109\u001b[0m, in \u001b[0;36mConsole\u001b[0;34m(stream, no_inline_images, output_stats, user_input_manager)\u001b[0m\n\u001b[1;32m    105\u001b[0m total_usage \u001b[38;5;241m=\u001b[39m RequestUsage(prompt_tokens\u001b[38;5;241m=\u001b[39m\u001b[38;5;241m0\u001b[39m, completion_tokens\u001b[38;5;241m=\u001b[39m\u001b[38;5;241m0\u001b[39m)\n\u001b[1;32m    107\u001b[0m last_processed: Optional[T] \u001b[38;5;241m=\u001b[39m \u001b[38;5;28;01mNone\u001b[39;00m\n\u001b[0;32m--> 109\u001b[0m \u001b[38;5;28;01masync\u001b[39;00m \u001b[38;5;28;01mfor\u001b[39;00m message \u001b[38;5;129;01min\u001b[39;00m stream:\n\u001b[1;32m    110\u001b[0m     \u001b[38;5;28;01mif\u001b[39;00m \u001b[38;5;28misinstance\u001b[39m(message, TaskResult):\n\u001b[1;32m    111\u001b[0m         duration \u001b[38;5;241m=\u001b[39m time\u001b[38;5;241m.\u001b[39mtime() \u001b[38;5;241m-\u001b[39m start_time\n",
      "File \u001b[0;32m~/miniconda3/envs/autogen0.4/lib/python3.12/site-packages/autogen_agentchat/teams/_group_chat/_base_group_chat.py:408\u001b[0m, in \u001b[0;36mBaseGroupChat.run_stream\u001b[0;34m(self, task, cancellation_token)\u001b[0m\n\u001b[1;32m    402\u001b[0m shutdown_task \u001b[38;5;241m=\u001b[39m asyncio\u001b[38;5;241m.\u001b[39mcreate_task(stop_runtime())\n\u001b[1;32m    404\u001b[0m \u001b[38;5;28;01mtry\u001b[39;00m:\n\u001b[1;32m    405\u001b[0m     \u001b[38;5;66;03m# Run the team by sending the start message to the group chat manager.\u001b[39;00m\n\u001b[1;32m    406\u001b[0m     \u001b[38;5;66;03m# The group chat manager will start the group chat by relaying the message to the participants\u001b[39;00m\n\u001b[1;32m    407\u001b[0m     \u001b[38;5;66;03m# and the closure agent.\u001b[39;00m\n\u001b[0;32m--> 408\u001b[0m     \u001b[38;5;28;01mawait\u001b[39;00m \u001b[38;5;28mself\u001b[39m\u001b[38;5;241m.\u001b[39m_runtime\u001b[38;5;241m.\u001b[39msend_message(\n\u001b[1;32m    409\u001b[0m         GroupChatStart(messages\u001b[38;5;241m=\u001b[39mmessages),\n\u001b[1;32m    410\u001b[0m         recipient\u001b[38;5;241m=\u001b[39mAgentId(\u001b[38;5;28mtype\u001b[39m\u001b[38;5;241m=\u001b[39m\u001b[38;5;28mself\u001b[39m\u001b[38;5;241m.\u001b[39m_group_chat_manager_topic_type, key\u001b[38;5;241m=\u001b[39m\u001b[38;5;28mself\u001b[39m\u001b[38;5;241m.\u001b[39m_team_id),\n\u001b[1;32m    411\u001b[0m         cancellation_token\u001b[38;5;241m=\u001b[39mcancellation_token,\n\u001b[1;32m    412\u001b[0m     )\n\u001b[1;32m    413\u001b[0m     \u001b[38;5;66;03m# Collect the output messages in order.\u001b[39;00m\n\u001b[1;32m    414\u001b[0m     output_messages: List[AgentEvent \u001b[38;5;241m|\u001b[39m ChatMessage] \u001b[38;5;241m=\u001b[39m []\n",
      "File \u001b[0;32m~/miniconda3/envs/autogen0.4/lib/python3.12/site-packages/autogen_core/_single_threaded_agent_runtime.py:328\u001b[0m, in \u001b[0;36mSingleThreadedAgentRuntime.send_message\u001b[0;34m(self, message, recipient, sender, cancellation_token, message_id)\u001b[0m\n\u001b[1;32m    314\u001b[0m \u001b[38;5;28;01mawait\u001b[39;00m \u001b[38;5;28mself\u001b[39m\u001b[38;5;241m.\u001b[39m_message_queue\u001b[38;5;241m.\u001b[39mput(\n\u001b[1;32m    315\u001b[0m     SendMessageEnvelope(\n\u001b[1;32m    316\u001b[0m         message\u001b[38;5;241m=\u001b[39mmessage,\n\u001b[0;32m   (...)\u001b[0m\n\u001b[1;32m    323\u001b[0m     )\n\u001b[1;32m    324\u001b[0m )\n\u001b[1;32m    326\u001b[0m cancellation_token\u001b[38;5;241m.\u001b[39mlink_future(future)\n\u001b[0;32m--> 328\u001b[0m \u001b[38;5;28;01mreturn\u001b[39;00m \u001b[38;5;28;01mawait\u001b[39;00m future\n",
      "File \u001b[0;32m~/miniconda3/envs/autogen0.4/lib/python3.12/site-packages/autogen_core/_single_threaded_agent_runtime.py:417\u001b[0m, in \u001b[0;36mSingleThreadedAgentRuntime._process_send\u001b[0;34m(self, message_envelope)\u001b[0m\n\u001b[1;32m    409\u001b[0m     message_context \u001b[38;5;241m=\u001b[39m MessageContext(\n\u001b[1;32m    410\u001b[0m         sender\u001b[38;5;241m=\u001b[39mmessage_envelope\u001b[38;5;241m.\u001b[39msender,\n\u001b[1;32m    411\u001b[0m         topic_id\u001b[38;5;241m=\u001b[39m\u001b[38;5;28;01mNone\u001b[39;00m,\n\u001b[0;32m   (...)\u001b[0m\n\u001b[1;32m    414\u001b[0m         message_id\u001b[38;5;241m=\u001b[39mmessage_envelope\u001b[38;5;241m.\u001b[39mmessage_id,\n\u001b[1;32m    415\u001b[0m     )\n\u001b[1;32m    416\u001b[0m     \u001b[38;5;28;01mwith\u001b[39;00m MessageHandlerContext\u001b[38;5;241m.\u001b[39mpopulate_context(recipient_agent\u001b[38;5;241m.\u001b[39mid):\n\u001b[0;32m--> 417\u001b[0m         response \u001b[38;5;241m=\u001b[39m \u001b[38;5;28;01mawait\u001b[39;00m recipient_agent\u001b[38;5;241m.\u001b[39mon_message(\n\u001b[1;32m    418\u001b[0m             message_envelope\u001b[38;5;241m.\u001b[39mmessage,\n\u001b[1;32m    419\u001b[0m             ctx\u001b[38;5;241m=\u001b[39mmessage_context,\n\u001b[1;32m    420\u001b[0m         )\n\u001b[1;32m    421\u001b[0m \u001b[38;5;28;01mexcept\u001b[39;00m CancelledError \u001b[38;5;28;01mas\u001b[39;00m e:\n\u001b[1;32m    422\u001b[0m     \u001b[38;5;28;01mif\u001b[39;00m \u001b[38;5;129;01mnot\u001b[39;00m message_envelope\u001b[38;5;241m.\u001b[39mfuture\u001b[38;5;241m.\u001b[39mcancelled():\n",
      "File \u001b[0;32m~/miniconda3/envs/autogen0.4/lib/python3.12/site-packages/autogen_core/_base_agent.py:113\u001b[0m, in \u001b[0;36mBaseAgent.on_message\u001b[0;34m(self, message, ctx)\u001b[0m\n\u001b[1;32m    111\u001b[0m \u001b[38;5;129m@final\u001b[39m\n\u001b[1;32m    112\u001b[0m \u001b[38;5;28;01masync\u001b[39;00m \u001b[38;5;28;01mdef\u001b[39;00m\u001b[38;5;250m \u001b[39m\u001b[38;5;21mon_message\u001b[39m(\u001b[38;5;28mself\u001b[39m, message: Any, ctx: MessageContext) \u001b[38;5;241m-\u001b[39m\u001b[38;5;241m>\u001b[39m Any:\n\u001b[0;32m--> 113\u001b[0m     \u001b[38;5;28;01mreturn\u001b[39;00m \u001b[38;5;28;01mawait\u001b[39;00m \u001b[38;5;28mself\u001b[39m\u001b[38;5;241m.\u001b[39mon_message_impl(message, ctx)\n",
      "File \u001b[0;32m~/miniconda3/envs/autogen0.4/lib/python3.12/site-packages/autogen_agentchat/teams/_group_chat/_sequential_routed_agent.py:48\u001b[0m, in \u001b[0;36mSequentialRoutedAgent.on_message_impl\u001b[0;34m(self, message, ctx)\u001b[0m\n\u001b[1;32m     46\u001b[0m \u001b[38;5;28;01mawait\u001b[39;00m \u001b[38;5;28mself\u001b[39m\u001b[38;5;241m.\u001b[39m_fifo_lock\u001b[38;5;241m.\u001b[39macquire()\n\u001b[1;32m     47\u001b[0m \u001b[38;5;28;01mtry\u001b[39;00m:\n\u001b[0;32m---> 48\u001b[0m     \u001b[38;5;28;01mreturn\u001b[39;00m \u001b[38;5;28;01mawait\u001b[39;00m \u001b[38;5;28msuper\u001b[39m()\u001b[38;5;241m.\u001b[39mon_message_impl(message, ctx)\n\u001b[1;32m     49\u001b[0m \u001b[38;5;28;01mfinally\u001b[39;00m:\n\u001b[1;32m     50\u001b[0m     \u001b[38;5;28mself\u001b[39m\u001b[38;5;241m.\u001b[39m_fifo_lock\u001b[38;5;241m.\u001b[39mrelease()\n",
      "File \u001b[0;32m~/miniconda3/envs/autogen0.4/lib/python3.12/site-packages/autogen_core/_routed_agent.py:485\u001b[0m, in \u001b[0;36mRoutedAgent.on_message_impl\u001b[0;34m(self, message, ctx)\u001b[0m\n\u001b[1;32m    483\u001b[0m     \u001b[38;5;28;01mfor\u001b[39;00m h \u001b[38;5;129;01min\u001b[39;00m handlers:\n\u001b[1;32m    484\u001b[0m         \u001b[38;5;28;01mif\u001b[39;00m h\u001b[38;5;241m.\u001b[39mrouter(message, ctx):\n\u001b[0;32m--> 485\u001b[0m             \u001b[38;5;28;01mreturn\u001b[39;00m \u001b[38;5;28;01mawait\u001b[39;00m h(\u001b[38;5;28mself\u001b[39m, message, ctx)\n\u001b[1;32m    486\u001b[0m \u001b[38;5;28;01mreturn\u001b[39;00m \u001b[38;5;28;01mawait\u001b[39;00m \u001b[38;5;28mself\u001b[39m\u001b[38;5;241m.\u001b[39mon_unhandled_message(message, ctx)\n",
      "File \u001b[0;32m~/miniconda3/envs/autogen0.4/lib/python3.12/site-packages/autogen_core/_routed_agent.py:389\u001b[0m, in \u001b[0;36mrpc.<locals>.decorator.<locals>.wrapper\u001b[0;34m(self, message, ctx)\u001b[0m\n\u001b[1;32m    386\u001b[0m     \u001b[38;5;28;01melse\u001b[39;00m:\n\u001b[1;32m    387\u001b[0m         logger\u001b[38;5;241m.\u001b[39mwarning(\u001b[38;5;124mf\u001b[39m\u001b[38;5;124m\"\u001b[39m\u001b[38;5;124mMessage type \u001b[39m\u001b[38;5;132;01m{\u001b[39;00m\u001b[38;5;28mtype\u001b[39m(message)\u001b[38;5;132;01m}\u001b[39;00m\u001b[38;5;124m not in target types \u001b[39m\u001b[38;5;132;01m{\u001b[39;00mtarget_types\u001b[38;5;132;01m}\u001b[39;00m\u001b[38;5;124m\"\u001b[39m)\n\u001b[0;32m--> 389\u001b[0m return_value \u001b[38;5;241m=\u001b[39m \u001b[38;5;28;01mawait\u001b[39;00m func(\u001b[38;5;28mself\u001b[39m, message, ctx)\n\u001b[1;32m    391\u001b[0m \u001b[38;5;28;01mif\u001b[39;00m AnyType \u001b[38;5;129;01mnot\u001b[39;00m \u001b[38;5;129;01min\u001b[39;00m return_types \u001b[38;5;129;01mand\u001b[39;00m \u001b[38;5;28mtype\u001b[39m(return_value) \u001b[38;5;129;01mnot\u001b[39;00m \u001b[38;5;129;01min\u001b[39;00m return_types:\n\u001b[1;32m    392\u001b[0m     \u001b[38;5;28;01mif\u001b[39;00m strict:\n",
      "File \u001b[0;32m~/miniconda3/envs/autogen0.4/lib/python3.12/site-packages/autogen_agentchat/teams/_group_chat/_base_group_chat_manager.py:111\u001b[0m, in \u001b[0;36mBaseGroupChatManager.handle_start\u001b[0;34m(self, message, ctx)\u001b[0m\n\u001b[1;32m    107\u001b[0m ctx\u001b[38;5;241m.\u001b[39mcancellation_token\u001b[38;5;241m.\u001b[39mlink_future(speaker_topic_type_future)\n\u001b[1;32m    108\u001b[0m speaker_topic_type \u001b[38;5;241m=\u001b[39m \u001b[38;5;28;01mawait\u001b[39;00m speaker_topic_type_future\n\u001b[1;32m    109\u001b[0m \u001b[38;5;28;01mawait\u001b[39;00m \u001b[38;5;28mself\u001b[39m\u001b[38;5;241m.\u001b[39mpublish_message(\n\u001b[1;32m    110\u001b[0m     GroupChatRequestPublish(),\n\u001b[0;32m--> 111\u001b[0m     topic_id\u001b[38;5;241m=\u001b[39m\u001b[43mDefaultTopicId\u001b[49m\u001b[43m(\u001b[49m\u001b[38;5;28;43mtype\u001b[39;49m\u001b[38;5;241;43m=\u001b[39;49m\u001b[43mspeaker_topic_type\u001b[49m\u001b[43m)\u001b[49m,\n\u001b[1;32m    112\u001b[0m     cancellation_token\u001b[38;5;241m=\u001b[39mctx\u001b[38;5;241m.\u001b[39mcancellation_token,\n\u001b[1;32m    113\u001b[0m )\n",
      "File \u001b[0;32m~/miniconda3/envs/autogen0.4/lib/python3.12/site-packages/autogen_core/_default_topic.py:23\u001b[0m, in \u001b[0;36mDefaultTopicId.__init__\u001b[0;34m(self, type, source)\u001b[0m\n\u001b[1;32m     20\u001b[0m     \u001b[38;5;28;01mexcept\u001b[39;00m \u001b[38;5;167;01mRuntimeError\u001b[39;00m:\n\u001b[1;32m     21\u001b[0m         source \u001b[38;5;241m=\u001b[39m \u001b[38;5;124m\"\u001b[39m\u001b[38;5;124mdefault\u001b[39m\u001b[38;5;124m\"\u001b[39m\n\u001b[0;32m---> 23\u001b[0m \u001b[38;5;28;43msuper\u001b[39;49m\u001b[43m(\u001b[49m\u001b[43m)\u001b[49m\u001b[38;5;241;43m.\u001b[39;49m\u001b[38;5;21;43m__init__\u001b[39;49m\u001b[43m(\u001b[49m\u001b[38;5;28;43mtype\u001b[39;49m\u001b[43m,\u001b[49m\u001b[43m \u001b[49m\u001b[43msource\u001b[49m\u001b[43m)\u001b[49m\n",
      "File \u001b[0;32m<string>:5\u001b[0m, in \u001b[0;36m__init__\u001b[0;34m(self, type, source)\u001b[0m\n",
      "File \u001b[0;32m~/miniconda3/envs/autogen0.4/lib/python3.12/site-packages/autogen_core/_topic.py:34\u001b[0m, in \u001b[0;36mTopicId.__post_init__\u001b[0;34m(self)\u001b[0m\n\u001b[1;32m     33\u001b[0m \u001b[38;5;28;01mdef\u001b[39;00m\u001b[38;5;250m \u001b[39m\u001b[38;5;21m__post_init__\u001b[39m(\u001b[38;5;28mself\u001b[39m) \u001b[38;5;241m-\u001b[39m\u001b[38;5;241m>\u001b[39m \u001b[38;5;28;01mNone\u001b[39;00m:\n\u001b[0;32m---> 34\u001b[0m     \u001b[38;5;28;01mif\u001b[39;00m \u001b[43mis_valid_topic_type\u001b[49m\u001b[43m(\u001b[49m\u001b[38;5;28;43mself\u001b[39;49m\u001b[38;5;241;43m.\u001b[39;49m\u001b[43mtype\u001b[49m\u001b[43m)\u001b[49m \u001b[38;5;129;01mis\u001b[39;00m \u001b[38;5;28;01mFalse\u001b[39;00m:\n\u001b[1;32m     35\u001b[0m         \u001b[38;5;28;01mraise\u001b[39;00m \u001b[38;5;167;01mValueError\u001b[39;00m(\u001b[38;5;124mf\u001b[39m\u001b[38;5;124m\"\u001b[39m\u001b[38;5;124mInvalid topic type: \u001b[39m\u001b[38;5;132;01m{\u001b[39;00m\u001b[38;5;28mself\u001b[39m\u001b[38;5;241m.\u001b[39mtype\u001b[38;5;132;01m}\u001b[39;00m\u001b[38;5;124m. Must match the pattern: ^[\u001b[39m\u001b[38;5;130;01m\\\\\u001b[39;00m\u001b[38;5;124mw\u001b[39m\u001b[38;5;130;01m\\\\\u001b[39;00m\u001b[38;5;124m-\u001b[39m\u001b[38;5;130;01m\\\\\u001b[39;00m\u001b[38;5;124m.\u001b[39m\u001b[38;5;130;01m\\\\\u001b[39;00m\u001b[38;5;124m:\u001b[39m\u001b[38;5;130;01m\\\\\u001b[39;00m\u001b[38;5;124m=]+\u001b[39m\u001b[38;5;130;01m\\\\\u001b[39;00m\u001b[38;5;124mZ\u001b[39m\u001b[38;5;124m\"\u001b[39m)\n",
      "File \u001b[0;32m~/miniconda3/envs/autogen0.4/lib/python3.12/site-packages/autogen_core/_topic.py:8\u001b[0m, in \u001b[0;36mis_valid_topic_type\u001b[0;34m(value)\u001b[0m\n\u001b[1;32m      7\u001b[0m \u001b[38;5;28;01mdef\u001b[39;00m\u001b[38;5;250m \u001b[39m\u001b[38;5;21mis_valid_topic_type\u001b[39m(value: \u001b[38;5;28mstr\u001b[39m) \u001b[38;5;241m-\u001b[39m\u001b[38;5;241m>\u001b[39m \u001b[38;5;28mbool\u001b[39m:\n\u001b[0;32m----> 8\u001b[0m     \u001b[38;5;28;01mreturn\u001b[39;00m \u001b[38;5;28mbool\u001b[39m(\u001b[43mre\u001b[49m\u001b[38;5;241;43m.\u001b[39;49m\u001b[43mmatch\u001b[49m\u001b[43m(\u001b[49m\u001b[38;5;124;43mr\u001b[39;49m\u001b[38;5;124;43m\"\u001b[39;49m\u001b[38;5;124;43m^[\u001b[39;49m\u001b[38;5;124;43m\\\u001b[39;49m\u001b[38;5;124;43mw\u001b[39;49m\u001b[38;5;124;43m\\\u001b[39;49m\u001b[38;5;124;43m-\u001b[39;49m\u001b[38;5;124;43m\\\u001b[39;49m\u001b[38;5;124;43m.\u001b[39;49m\u001b[38;5;124;43m\\\u001b[39;49m\u001b[38;5;124;43m:\u001b[39;49m\u001b[38;5;124;43m\\\u001b[39;49m\u001b[38;5;124;43m=]+\u001b[39;49m\u001b[38;5;124;43m\\\u001b[39;49m\u001b[38;5;124;43mZ\u001b[39;49m\u001b[38;5;124;43m\"\u001b[39;49m\u001b[43m,\u001b[49m\u001b[43m \u001b[49m\u001b[43mvalue\u001b[49m\u001b[43m)\u001b[49m)\n",
      "File \u001b[0;32m~/miniconda3/envs/autogen0.4/lib/python3.12/re/__init__.py:167\u001b[0m, in \u001b[0;36mmatch\u001b[0;34m(pattern, string, flags)\u001b[0m\n\u001b[1;32m    164\u001b[0m \u001b[38;5;28;01mdef\u001b[39;00m\u001b[38;5;250m \u001b[39m\u001b[38;5;21mmatch\u001b[39m(pattern, string, flags\u001b[38;5;241m=\u001b[39m\u001b[38;5;241m0\u001b[39m):\n\u001b[1;32m    165\u001b[0m \u001b[38;5;250m    \u001b[39m\u001b[38;5;124;03m\"\"\"Try to apply the pattern at the start of the string, returning\u001b[39;00m\n\u001b[1;32m    166\u001b[0m \u001b[38;5;124;03m    a Match object, or None if no match was found.\"\"\"\u001b[39;00m\n\u001b[0;32m--> 167\u001b[0m     \u001b[38;5;28;01mreturn\u001b[39;00m \u001b[43m_compile\u001b[49m\u001b[43m(\u001b[49m\u001b[43mpattern\u001b[49m\u001b[43m,\u001b[49m\u001b[43m \u001b[49m\u001b[43mflags\u001b[49m\u001b[43m)\u001b[49m\u001b[38;5;241;43m.\u001b[39;49m\u001b[43mmatch\u001b[49m\u001b[43m(\u001b[49m\u001b[43mstring\u001b[49m\u001b[43m)\u001b[49m\n",
      "\u001b[0;31mTypeError\u001b[0m: expected string or bytes-like object, got 'AssistantAgent'"
     ]
    }
   ],
   "source": [
    "await Console(team.run_stream(task=task))"
   ]
  },
  {
   "cell_type": "code",
   "execution_count": null,
   "metadata": {},
   "outputs": [],
   "source": []
  }
 ],
 "metadata": {
  "kernelspec": {
   "display_name": "autogen0.4",
   "language": "python",
   "name": "python3"
  },
  "language_info": {
   "codemirror_mode": {
    "name": "ipython",
    "version": 3
   },
   "file_extension": ".py",
   "mimetype": "text/x-python",
   "name": "python",
   "nbconvert_exporter": "python",
   "pygments_lexer": "ipython3",
   "version": "3.12.8"
  }
 },
 "nbformat": 4,
 "nbformat_minor": 2
}
